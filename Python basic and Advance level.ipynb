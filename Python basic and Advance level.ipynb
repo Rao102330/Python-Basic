{
 "cells": [
  {
   "cell_type": "markdown",
   "id": "fb0f7329",
   "metadata": {},
   "source": [
    "### Print condition"
   ]
  },
  {
   "cell_type": "code",
   "execution_count": 23,
   "id": "44fb7599",
   "metadata": {},
   "outputs": [
    {
     "name": "stdout",
     "output_type": "stream",
     "text": [
      "my name rahul and iam kind to everyone\n"
     ]
    }
   ],
   "source": [
    "print(\"my name rahul and iam kind to everyone\")"
   ]
  },
  {
   "cell_type": "code",
   "execution_count": 1,
   "id": "edeafaeb",
   "metadata": {},
   "outputs": [
    {
     "name": "stdout",
     "output_type": "stream",
     "text": [
      "hi\n"
     ]
    }
   ],
   "source": [
    "print(\"hi\")"
   ]
  },
  {
   "cell_type": "code",
   "execution_count": 2,
   "id": "162dc34f",
   "metadata": {},
   "outputs": [
    {
     "name": "stdout",
     "output_type": "stream",
     "text": [
      "hello\n"
     ]
    }
   ],
   "source": [
    "print('hello')"
   ]
  },
  {
   "cell_type": "code",
   "execution_count": 3,
   "id": "004bb5e6",
   "metadata": {},
   "outputs": [
    {
     "name": "stdout",
     "output_type": "stream",
     "text": [
      "vishnu\n"
     ]
    }
   ],
   "source": [
    "print('vishnu')"
   ]
  },
  {
   "cell_type": "code",
   "execution_count": 5,
   "id": "2455b8a2",
   "metadata": {},
   "outputs": [
    {
     "name": "stdout",
     "output_type": "stream",
     "text": [
      "vishnu is tu boy\n"
     ]
    }
   ],
   "source": [
    "print('vishnu is tu boy')"
   ]
  },
  {
   "cell_type": "code",
   "execution_count": 6,
   "id": "a5a0f1d0",
   "metadata": {},
   "outputs": [
    {
     "name": "stdout",
     "output_type": "stream",
     "text": [
      "satish is sleeping\n"
     ]
    }
   ],
   "source": [
    "print('satish is sleeping')"
   ]
  },
  {
   "cell_type": "code",
   "execution_count": 7,
   "id": "c83c448a",
   "metadata": {},
   "outputs": [],
   "source": [
    "# math operators"
   ]
  },
  {
   "cell_type": "code",
   "execution_count": 8,
   "id": "82a990f8",
   "metadata": {},
   "outputs": [
    {
     "name": "stdout",
     "output_type": "stream",
     "text": [
      "10\n"
     ]
    }
   ],
   "source": [
    "print(5+5)"
   ]
  },
  {
   "cell_type": "code",
   "execution_count": 9,
   "id": "6789fc5e",
   "metadata": {},
   "outputs": [
    {
     "name": "stdout",
     "output_type": "stream",
     "text": [
      "16\n"
     ]
    }
   ],
   "source": [
    "print(8+8)"
   ]
  },
  {
   "cell_type": "code",
   "execution_count": 10,
   "id": "fa0ac0d8",
   "metadata": {},
   "outputs": [
    {
     "name": "stdout",
     "output_type": "stream",
     "text": [
      "18\n"
     ]
    }
   ],
   "source": [
    "print(9+9)"
   ]
  },
  {
   "cell_type": "code",
   "execution_count": 11,
   "id": "079ba4e6",
   "metadata": {},
   "outputs": [
    {
     "name": "stdout",
     "output_type": "stream",
     "text": [
      "9+9\n"
     ]
    }
   ],
   "source": [
    "print('9+9')"
   ]
  },
  {
   "cell_type": "code",
   "execution_count": 12,
   "id": "2f27f82b",
   "metadata": {},
   "outputs": [
    {
     "name": "stdout",
     "output_type": "stream",
     "text": [
      "198\n"
     ]
    }
   ],
   "source": [
    "print(99+99)"
   ]
  },
  {
   "cell_type": "code",
   "execution_count": 13,
   "id": "edea2879",
   "metadata": {},
   "outputs": [
    {
     "name": "stdout",
     "output_type": "stream",
     "text": [
      "176\n"
     ]
    }
   ],
   "source": [
    "print(88+88)"
   ]
  },
  {
   "cell_type": "code",
   "execution_count": 14,
   "id": "57ef6bc9",
   "metadata": {},
   "outputs": [
    {
     "name": "stdout",
     "output_type": "stream",
     "text": [
      "110\n"
     ]
    }
   ],
   "source": [
    "print(55+55)"
   ]
  },
  {
   "cell_type": "code",
   "execution_count": 15,
   "id": "573fe02f",
   "metadata": {},
   "outputs": [
    {
     "name": "stdout",
     "output_type": "stream",
     "text": [
      "132\n"
     ]
    }
   ],
   "source": [
    "print(66+66)"
   ]
  },
  {
   "cell_type": "code",
   "execution_count": 16,
   "id": "3bdd5d0c",
   "metadata": {},
   "outputs": [
    {
     "name": "stdout",
     "output_type": "stream",
     "text": [
      "66\n"
     ]
    }
   ],
   "source": [
    "print(33+33)"
   ]
  },
  {
   "cell_type": "code",
   "execution_count": 17,
   "id": "b5f5654e",
   "metadata": {},
   "outputs": [
    {
     "name": "stdout",
     "output_type": "stream",
     "text": [
      "298\n"
     ]
    }
   ],
   "source": [
    "print(99+199)"
   ]
  },
  {
   "cell_type": "code",
   "execution_count": 18,
   "id": "e9ed4ca5",
   "metadata": {},
   "outputs": [
    {
     "name": "stdout",
     "output_type": "stream",
     "text": [
      "132\n"
     ]
    }
   ],
   "source": [
    "print(66+66)"
   ]
  },
  {
   "cell_type": "code",
   "execution_count": 19,
   "id": "07a3b6c3",
   "metadata": {},
   "outputs": [
    {
     "name": "stdout",
     "output_type": "stream",
     "text": [
      "10\n"
     ]
    }
   ],
   "source": [
    "print(99-89)"
   ]
  },
  {
   "cell_type": "code",
   "execution_count": 20,
   "id": "0d0a06d2",
   "metadata": {},
   "outputs": [
    {
     "name": "stdout",
     "output_type": "stream",
     "text": [
      "-423\n"
     ]
    }
   ],
   "source": [
    "print(66-489)"
   ]
  },
  {
   "cell_type": "code",
   "execution_count": 21,
   "id": "7bca2b8b",
   "metadata": {},
   "outputs": [
    {
     "name": "stdout",
     "output_type": "stream",
     "text": [
      "16\n"
     ]
    }
   ],
   "source": [
    "print(89-73)"
   ]
  },
  {
   "cell_type": "code",
   "execution_count": 22,
   "id": "38ff9ba6",
   "metadata": {},
   "outputs": [
    {
     "name": "stdout",
     "output_type": "stream",
     "text": [
      "9801\n"
     ]
    }
   ],
   "source": [
    "print(99*99)"
   ]
  },
  {
   "cell_type": "code",
   "execution_count": 23,
   "id": "a03fe945",
   "metadata": {},
   "outputs": [
    {
     "name": "stdout",
     "output_type": "stream",
     "text": [
      "445\n"
     ]
    }
   ],
   "source": [
    "print(89*5)"
   ]
  },
  {
   "cell_type": "code",
   "execution_count": 24,
   "id": "fd7b3830",
   "metadata": {},
   "outputs": [
    {
     "name": "stdout",
     "output_type": "stream",
     "text": [
      "7921\n"
     ]
    }
   ],
   "source": [
    "print(89*89)"
   ]
  },
  {
   "cell_type": "code",
   "execution_count": 25,
   "id": "bb70c8e1",
   "metadata": {},
   "outputs": [
    {
     "name": "stdout",
     "output_type": "stream",
     "text": [
      "1.0\n"
     ]
    }
   ],
   "source": [
    "print(89/89)"
   ]
  },
  {
   "cell_type": "code",
   "execution_count": 26,
   "id": "6da684d8",
   "metadata": {},
   "outputs": [
    {
     "name": "stdout",
     "output_type": "stream",
     "text": [
      "1.0\n"
     ]
    }
   ],
   "source": [
    "print(8/8)"
   ]
  },
  {
   "cell_type": "code",
   "execution_count": 27,
   "id": "8bbe9a11",
   "metadata": {},
   "outputs": [
    {
     "name": "stdout",
     "output_type": "stream",
     "text": [
      "1.0\n"
     ]
    }
   ],
   "source": [
    "print(9/9)"
   ]
  },
  {
   "cell_type": "code",
   "execution_count": 28,
   "id": "375aa888",
   "metadata": {},
   "outputs": [
    {
     "name": "stdout",
     "output_type": "stream",
     "text": [
      "1\n"
     ]
    }
   ],
   "source": [
    "print(9//9)"
   ]
  },
  {
   "cell_type": "code",
   "execution_count": 29,
   "id": "c9735e65",
   "metadata": {},
   "outputs": [
    {
     "name": "stdout",
     "output_type": "stream",
     "text": [
      "4\n"
     ]
    }
   ],
   "source": [
    "print(2**2)"
   ]
  },
  {
   "cell_type": "code",
   "execution_count": 30,
   "id": "ec5b0db8",
   "metadata": {},
   "outputs": [
    {
     "name": "stdout",
     "output_type": "stream",
     "text": [
      "8\n"
     ]
    }
   ],
   "source": [
    "print(2**3)"
   ]
  },
  {
   "cell_type": "code",
   "execution_count": 32,
   "id": "5091cf72",
   "metadata": {},
   "outputs": [
    {
     "data": {
      "text/plain": [
       "4"
      ]
     },
     "execution_count": 32,
     "metadata": {},
     "output_type": "execute_result"
    }
   ],
   "source": [
    "2*2"
   ]
  },
  {
   "cell_type": "code",
   "execution_count": 33,
   "id": "4b5ae0ed",
   "metadata": {},
   "outputs": [
    {
     "data": {
      "text/plain": [
       "8"
      ]
     },
     "execution_count": 33,
     "metadata": {},
     "output_type": "execute_result"
    }
   ],
   "source": [
    "4*2"
   ]
  },
  {
   "cell_type": "code",
   "execution_count": 34,
   "id": "730657c8",
   "metadata": {},
   "outputs": [
    {
     "data": {
      "text/plain": [
       "4"
      ]
     },
     "execution_count": 34,
     "metadata": {},
     "output_type": "execute_result"
    }
   ],
   "source": [
    "2*2"
   ]
  },
  {
   "cell_type": "code",
   "execution_count": 35,
   "id": "c2064b4f",
   "metadata": {},
   "outputs": [
    {
     "name": "stdout",
     "output_type": "stream",
     "text": [
      "16\n"
     ]
    }
   ],
   "source": [
    "print(2**4)"
   ]
  },
  {
   "cell_type": "code",
   "execution_count": 36,
   "id": "d37b52f2",
   "metadata": {},
   "outputs": [
    {
     "name": "stdout",
     "output_type": "stream",
     "text": [
      "81\n"
     ]
    }
   ],
   "source": [
    "print(3**4)"
   ]
  },
  {
   "cell_type": "code",
   "execution_count": null,
   "id": "c6e8e72c",
   "metadata": {},
   "outputs": [],
   "source": []
  },
  {
   "cell_type": "code",
   "execution_count": null,
   "id": "b3374e46",
   "metadata": {},
   "outputs": [],
   "source": []
  },
  {
   "cell_type": "code",
   "execution_count": null,
   "id": "a7e878ee",
   "metadata": {},
   "outputs": [],
   "source": []
  },
  {
   "cell_type": "code",
   "execution_count": null,
   "id": "655787db",
   "metadata": {},
   "outputs": [],
   "source": []
  },
  {
   "cell_type": "code",
   "execution_count": null,
   "id": "871ba3c5",
   "metadata": {},
   "outputs": [],
   "source": []
  },
  {
   "cell_type": "code",
   "execution_count": null,
   "id": "e9a3ff04",
   "metadata": {},
   "outputs": [],
   "source": []
  },
  {
   "cell_type": "code",
   "execution_count": null,
   "id": "bd56a59f",
   "metadata": {},
   "outputs": [],
   "source": []
  },
  {
   "cell_type": "code",
   "execution_count": null,
   "id": "ad6bb785",
   "metadata": {},
   "outputs": [],
   "source": []
  },
  {
   "cell_type": "code",
   "execution_count": null,
   "id": "194ffcdd",
   "metadata": {},
   "outputs": [],
   "source": []
  },
  {
   "cell_type": "code",
   "execution_count": null,
   "id": "5d1c63c9",
   "metadata": {},
   "outputs": [],
   "source": []
  },
  {
   "cell_type": "code",
   "execution_count": null,
   "id": "cea27633",
   "metadata": {},
   "outputs": [],
   "source": []
  },
  {
   "cell_type": "code",
   "execution_count": 24,
   "id": "cb726ab8",
   "metadata": {},
   "outputs": [
    {
     "name": "stdout",
     "output_type": "stream",
     "text": [
      "rahul rao\n"
     ]
    }
   ],
   "source": [
    "print('rahul rao')"
   ]
  },
  {
   "cell_type": "code",
   "execution_count": 25,
   "id": "a7866566",
   "metadata": {},
   "outputs": [
    {
     "name": "stdout",
     "output_type": "stream",
     "text": [
      "I love data science by my choice\n"
     ]
    }
   ],
   "source": [
    "print(\"\"\"I love data science by my choice\"\"\")"
   ]
  },
  {
   "cell_type": "markdown",
   "id": "70959c71",
   "metadata": {},
   "source": [
    "#### Number of keywords in python"
   ]
  },
  {
   "cell_type": "code",
   "execution_count": 26,
   "id": "e83e85f8",
   "metadata": {},
   "outputs": [],
   "source": [
    "import keyword"
   ]
  },
  {
   "cell_type": "code",
   "execution_count": 27,
   "id": "30be6221",
   "metadata": {},
   "outputs": [
    {
     "name": "stdout",
     "output_type": "stream",
     "text": [
      "['False', 'None', 'True', '__peg_parser__', 'and', 'as', 'assert', 'async', 'await', 'break', 'class', 'continue', 'def', 'del', 'elif', 'else', 'except', 'finally', 'for', 'from', 'global', 'if', 'import', 'in', 'is', 'lambda', 'nonlocal', 'not', 'or', 'pass', 'raise', 'return', 'try', 'while', 'with', 'yield']\n"
     ]
    }
   ],
   "source": [
    "print(keyword.kwlist)"
   ]
  },
  {
   "cell_type": "markdown",
   "id": "afba0888",
   "metadata": {},
   "source": [
    "### advance print concept"
   ]
  },
  {
   "cell_type": "code",
   "execution_count": 1,
   "id": "c9b74729",
   "metadata": {},
   "outputs": [],
   "source": [
    "#we can add print condition with variables"
   ]
  },
  {
   "cell_type": "code",
   "execution_count": 2,
   "id": "631a8696",
   "metadata": {},
   "outputs": [],
   "source": [
    "# There are 3 different types to add variables to print condition"
   ]
  },
  {
   "cell_type": "code",
   "execution_count": 3,
   "id": "ce326d1f",
   "metadata": {},
   "outputs": [],
   "source": [
    "a=32"
   ]
  },
  {
   "cell_type": "code",
   "execution_count": 4,
   "id": "61828a21",
   "metadata": {},
   "outputs": [
    {
     "name": "stdout",
     "output_type": "stream",
     "text": [
      "my name is rahul and my age is 32\n"
     ]
    }
   ],
   "source": [
    "print(\"my name is rahul and my age is\",a)"
   ]
  },
  {
   "cell_type": "code",
   "execution_count": 10,
   "id": "220e7c8f",
   "metadata": {},
   "outputs": [
    {
     "name": "stdout",
     "output_type": "stream",
     "text": [
      "False\n"
     ]
    }
   ],
   "source": [
    "print(\"my name is rahul and my age is\"==a)"
   ]
  },
  {
   "cell_type": "markdown",
   "id": "608e9f5a",
   "metadata": {},
   "source": [
    "### second type"
   ]
  },
  {
   "cell_type": "code",
   "execution_count": 11,
   "id": "0e680cd8",
   "metadata": {},
   "outputs": [],
   "source": [
    "a='python'\n",
    "b='java'"
   ]
  },
  {
   "cell_type": "code",
   "execution_count": 18,
   "id": "25c62e83",
   "metadata": {},
   "outputs": [
    {
     "name": "stdout",
     "output_type": "stream",
     "text": [
      "python is a good\n"
     ]
    }
   ],
   "source": [
    "print(a,\"\"+\"is a good\")"
   ]
  },
  {
   "cell_type": "code",
   "execution_count": 19,
   "id": "ed4757b2",
   "metadata": {},
   "outputs": [],
   "source": [
    "b=22"
   ]
  },
  {
   "cell_type": "code",
   "execution_count": 21,
   "id": "5424d5a4",
   "metadata": {},
   "outputs": [
    {
     "name": "stdout",
     "output_type": "stream",
     "text": [
      "my age is 22\n"
     ]
    }
   ],
   "source": [
    "print(\"my age is\",''+str(b))"
   ]
  },
  {
   "cell_type": "code",
   "execution_count": 22,
   "id": "08fab0e8",
   "metadata": {},
   "outputs": [
    {
     "name": "stdout",
     "output_type": "stream",
     "text": [
      "iam learning data science with 100 rs and daily iam having 2 hr class\n"
     ]
    }
   ],
   "source": [
    "a='data science'\n",
    "b=100\n",
    "c=2\n",
    "print(\"iam learning\",a,\"with\",b,\"rs and daily iam having\",c,\"hr class\")"
   ]
  },
  {
   "cell_type": "markdown",
   "id": "784b3233",
   "metadata": {},
   "source": [
    "### third type"
   ]
  },
  {
   "cell_type": "code",
   "execution_count": 23,
   "id": "4a51f37e",
   "metadata": {},
   "outputs": [],
   "source": [
    "a='kamal'"
   ]
  },
  {
   "cell_type": "code",
   "execution_count": 24,
   "id": "888bc111",
   "metadata": {},
   "outputs": [
    {
     "name": "stdout",
     "output_type": "stream",
     "text": [
      "my name is kamal\n"
     ]
    }
   ],
   "source": [
    "print(\"my name is %s\"%a)"
   ]
  },
  {
   "cell_type": "code",
   "execution_count": 25,
   "id": "12fcc80c",
   "metadata": {},
   "outputs": [
    {
     "ename": "TypeError",
     "evalue": "not all arguments converted during string formatting",
     "output_type": "error",
     "traceback": [
      "\u001b[1;31m---------------------------------------------------------------------------\u001b[0m",
      "\u001b[1;31mTypeError\u001b[0m                                 Traceback (most recent call last)",
      "\u001b[1;32m~\\AppData\\Local\\Temp/ipykernel_3784/3235926630.py\u001b[0m in \u001b[0;36m<module>\u001b[1;34m\u001b[0m\n\u001b[1;32m----> 1\u001b[1;33m \u001b[0mprint\u001b[0m\u001b[1;33m(\u001b[0m\u001b[1;34m\"my name is\"\u001b[0m\u001b[1;33m%\u001b[0m\u001b[0ma\u001b[0m\u001b[1;33m)\u001b[0m\u001b[1;33m\u001b[0m\u001b[1;33m\u001b[0m\u001b[0m\n\u001b[0m",
      "\u001b[1;31mTypeError\u001b[0m: not all arguments converted during string formatting"
     ]
    }
   ],
   "source": [
    "print(\"my name is\"%a)"
   ]
  },
  {
   "cell_type": "code",
   "execution_count": 26,
   "id": "698cea86",
   "metadata": {},
   "outputs": [],
   "source": [
    "a='data science'\n",
    "b=100\n",
    "c=2"
   ]
  },
  {
   "cell_type": "code",
   "execution_count": 27,
   "id": "942f4f8b",
   "metadata": {},
   "outputs": [
    {
     "name": "stdout",
     "output_type": "stream",
     "text": [
      "iam learning data science with 100 rs and daily 2 hr class\n"
     ]
    }
   ],
   "source": [
    "print(\"iam learning %s with %d rs and daily %d hr class\"%(a,b,c))"
   ]
  },
  {
   "cell_type": "code",
   "execution_count": 30,
   "id": "e926f691",
   "metadata": {},
   "outputs": [
    {
     "name": "stdout",
     "output_type": "stream",
     "text": [
      "iam learning data science with 100 rs and daily 2.300000 hr class\n"
     ]
    }
   ],
   "source": [
    "a='data science'\n",
    "b=100\n",
    "c=2.30\n",
    "print(\"iam learning %s with %d rs and daily %f hr class\"%(a,b,c))"
   ]
  },
  {
   "cell_type": "markdown",
   "id": "bc0d11e7",
   "metadata": {},
   "source": [
    "### Operators"
   ]
  },
  {
   "cell_type": "code",
   "execution_count": null,
   "id": "77d76d6a",
   "metadata": {},
   "outputs": [],
   "source": []
  },
  {
   "cell_type": "code",
   "execution_count": 33,
   "id": "2d4327ba",
   "metadata": {},
   "outputs": [
    {
     "data": {
      "text/plain": [
       "32"
      ]
     },
     "execution_count": 33,
     "metadata": {},
     "output_type": "execute_result"
    }
   ],
   "source": [
    "pow(2,5)"
   ]
  },
  {
   "cell_type": "code",
   "execution_count": 35,
   "id": "8f0b524b",
   "metadata": {},
   "outputs": [
    {
     "data": {
      "text/plain": [
       "0"
      ]
     },
     "execution_count": 35,
     "metadata": {},
     "output_type": "execute_result"
    }
   ],
   "source": [
    "pow(2,2,2)"
   ]
  },
  {
   "cell_type": "markdown",
   "id": "7b20a978",
   "metadata": {},
   "source": [
    "# For loop"
   ]
  },
  {
   "cell_type": "code",
   "execution_count": 37,
   "id": "3b33ad1e",
   "metadata": {},
   "outputs": [
    {
     "name": "stdout",
     "output_type": "stream",
     "text": [
      "21\n",
      "22\n",
      "23\n",
      "24\n",
      "25\n",
      "26\n",
      "27\n",
      "28\n",
      "29\n",
      "30\n",
      "31\n"
     ]
    }
   ],
   "source": [
    "# want to travel from 21 to 31\n",
    "for i in range(21,32):\n",
    "    print(i)"
   ]
  },
  {
   "cell_type": "code",
   "execution_count": 38,
   "id": "25109a1b",
   "metadata": {},
   "outputs": [
    {
     "name": "stdout",
     "output_type": "stream",
     "text": [
      "21 22 23 24 25 26 27 28 29 30 31 "
     ]
    }
   ],
   "source": [
    "for i in range(21,32):\n",
    "    print(i,end=\" \")       #for horizontal form"
   ]
  },
  {
   "cell_type": "code",
   "execution_count": 39,
   "id": "a480e03c",
   "metadata": {},
   "outputs": [
    {
     "name": "stdout",
     "output_type": "stream",
     "text": [
      "21,22,23,24,25,26,27,28,29,30,31,"
     ]
    }
   ],
   "source": [
    "for i in range(21,32):\n",
    "    print(i,end=\",\")"
   ]
  },
  {
   "cell_type": "code",
   "execution_count": 40,
   "id": "5bb22818",
   "metadata": {},
   "outputs": [],
   "source": [
    "for i in range(31,22):\n",
    "    print(i,end=\",\")"
   ]
  },
  {
   "cell_type": "code",
   "execution_count": 44,
   "id": "4befa90b",
   "metadata": {},
   "outputs": [
    {
     "name": "stdout",
     "output_type": "stream",
     "text": [
      "1,3,5,7,9,"
     ]
    }
   ],
   "source": [
    "for i in range(1,11,2):\n",
    "    print(i,end=\",\")"
   ]
  },
  {
   "cell_type": "code",
   "execution_count": 56,
   "id": "916f768b",
   "metadata": {},
   "outputs": [],
   "source": [
    "x=6"
   ]
  },
  {
   "cell_type": "code",
   "execution_count": 57,
   "id": "60e31925",
   "metadata": {},
   "outputs": [
    {
     "name": "stdout",
     "output_type": "stream",
     "text": [
      "it is even\n"
     ]
    }
   ],
   "source": [
    "if x%2==0:\n",
    "    print(\"it is even\")"
   ]
  },
  {
   "cell_type": "code",
   "execution_count": 64,
   "id": "44a170ac",
   "metadata": {},
   "outputs": [
    {
     "name": "stdout",
     "output_type": "stream",
     "text": [
      "21 it is odd\n",
      "22 it is even\n",
      "23 it is odd\n",
      "24 it is even\n",
      "25 it is odd\n",
      "26 it is even\n",
      "27 it is odd\n",
      "28 it is even\n",
      "29 it is odd\n"
     ]
    }
   ],
   "source": [
    "for i in range(21,30):\n",
    "    if i%2==0:\n",
    "        print(i,\"it is even\")\n",
    "    else:\n",
    "        print(i,\"it is odd\")"
   ]
  },
  {
   "cell_type": "markdown",
   "id": "637eb0d6",
   "metadata": {},
   "source": [
    "# Break condition"
   ]
  },
  {
   "cell_type": "code",
   "execution_count": 65,
   "id": "aa08020c",
   "metadata": {},
   "outputs": [
    {
     "name": "stdout",
     "output_type": "stream",
     "text": [
      "21\n",
      "22\n",
      "23\n",
      "24\n",
      "25\n",
      "26\n",
      "27\n"
     ]
    }
   ],
   "source": [
    "for i in range(21,31):\n",
    "    print(i)\n",
    "    if i==27:\n",
    "        break"
   ]
  },
  {
   "cell_type": "code",
   "execution_count": 68,
   "id": "3c085d32",
   "metadata": {},
   "outputs": [
    {
     "name": "stdout",
     "output_type": "stream",
     "text": [
      "value matched\n"
     ]
    }
   ],
   "source": [
    "for i in range(41,46):\n",
    "    for j in range(45,51):\n",
    "        if i==j:\n",
    "            print(\"value matched\")\n",
    "    "
   ]
  },
  {
   "cell_type": "markdown",
   "id": "144d24b9",
   "metadata": {},
   "source": [
    "## Print statements example"
   ]
  },
  {
   "cell_type": "code",
   "execution_count": 69,
   "id": "bd6eb633",
   "metadata": {},
   "outputs": [
    {
     "name": "stdout",
     "output_type": "stream",
     "text": [
      "Hello\n"
     ]
    }
   ],
   "source": [
    "print(\"Hello\")"
   ]
  },
  {
   "cell_type": "code",
   "execution_count": 70,
   "id": "201817ec",
   "metadata": {},
   "outputs": [
    {
     "ename": "SyntaxError",
     "evalue": "Missing parentheses in call to 'print'. Did you mean print(\"hey\")? (Temp/ipykernel_3784/3046813824.py, line 1)",
     "output_type": "error",
     "traceback": [
      "\u001b[1;36m  File \u001b[1;32m\"C:\\Users\\USER\\AppData\\Local\\Temp/ipykernel_3784/3046813824.py\"\u001b[1;36m, line \u001b[1;32m1\u001b[0m\n\u001b[1;33m    print \"hey\"\u001b[0m\n\u001b[1;37m          ^\u001b[0m\n\u001b[1;31mSyntaxError\u001b[0m\u001b[1;31m:\u001b[0m Missing parentheses in call to 'print'. Did you mean print(\"hey\")?\n"
     ]
    }
   ],
   "source": [
    "print \"hey\""
   ]
  },
  {
   "cell_type": "code",
   "execution_count": 72,
   "id": "d0276310",
   "metadata": {},
   "outputs": [
    {
     "name": "stdout",
     "output_type": "stream",
     "text": [
      "Hi my name is rahul \n",
      "and\n",
      "i love python\n"
     ]
    }
   ],
   "source": [
    "print(\"\"\"Hi my name is rahul \n",
    "and\n",
    "i love python\"\"\")"
   ]
  },
  {
   "cell_type": "code",
   "execution_count": 75,
   "id": "d06312c9",
   "metadata": {},
   "outputs": [
    {
     "name": "stdout",
     "output_type": "stream",
     "text": [
      "Good morning\n",
      "Good morning !\n"
     ]
    }
   ],
   "source": [
    "a=\"morning\"\n",
    "print(\"Good\",a)\n",
    "\n",
    "b=\"!\"\n",
    "print(\"Good\",a,b)"
   ]
  },
  {
   "cell_type": "code",
   "execution_count": 76,
   "id": "f75d5851",
   "metadata": {},
   "outputs": [
    {
     "name": "stdout",
     "output_type": "stream",
     "text": [
      "Goodmorning!\n"
     ]
    }
   ],
   "source": [
    "print(\"Good\"+a+b)"
   ]
  },
  {
   "cell_type": "code",
   "execution_count": 79,
   "id": "0ce712ce",
   "metadata": {},
   "outputs": [
    {
     "name": "stdout",
     "output_type": "stream",
     "text": [
      "Hello morning\n"
     ]
    }
   ],
   "source": [
    " print (\"Hello %s\" % a)\n"
   ]
  },
  {
   "cell_type": "code",
   "execution_count": 80,
   "id": "a54964dc",
   "metadata": {},
   "outputs": [
    {
     "name": "stdout",
     "output_type": "stream",
     "text": [
      "hello namaskara\n"
     ]
    }
   ],
   "source": [
    "print(\"hello %s\"%\"namaskara\")"
   ]
  },
  {
   "cell_type": "code",
   "execution_count": 81,
   "id": "5732090a",
   "metadata": {},
   "outputs": [
    {
     "ename": "TypeError",
     "evalue": "not all arguments converted during string formatting",
     "output_type": "error",
     "traceback": [
      "\u001b[1;31m---------------------------------------------------------------------------\u001b[0m",
      "\u001b[1;31mTypeError\u001b[0m                                 Traceback (most recent call last)",
      "\u001b[1;32m~\\AppData\\Local\\Temp/ipykernel_3784/2835913358.py\u001b[0m in \u001b[0;36m<module>\u001b[1;34m\u001b[0m\n\u001b[1;32m----> 1\u001b[1;33m \u001b[0mprint\u001b[0m\u001b[1;33m(\u001b[0m\u001b[1;34m\"hello\"\u001b[0m\u001b[1;33m%\u001b[0m\u001b[1;34m\"namaskara\"\u001b[0m\u001b[1;33m)\u001b[0m\u001b[1;33m\u001b[0m\u001b[1;33m\u001b[0m\u001b[0m\n\u001b[0m",
      "\u001b[1;31mTypeError\u001b[0m: not all arguments converted during string formatting"
     ]
    }
   ],
   "source": [
    "print(\"hello\"%\"namaskara\")"
   ]
  },
  {
   "cell_type": "code",
   "execution_count": 82,
   "id": "34186842",
   "metadata": {},
   "outputs": [
    {
     "name": "stdout",
     "output_type": "stream",
     "text": [
      "hello namaskara %s\n"
     ]
    }
   ],
   "source": [
    "print(\"hello %s\"%\"namaskara %s\")"
   ]
  },
  {
   "cell_type": "code",
   "execution_count": 83,
   "id": "b4d954f2",
   "metadata": {},
   "outputs": [
    {
     "name": "stdout",
     "output_type": "stream",
     "text": [
      "hello 2\n"
     ]
    }
   ],
   "source": [
    "print(\"hello %d\"%2)"
   ]
  },
  {
   "cell_type": "code",
   "execution_count": 84,
   "id": "941c33ad",
   "metadata": {},
   "outputs": [
    {
     "ename": "TypeError",
     "evalue": "not all arguments converted during string formatting",
     "output_type": "error",
     "traceback": [
      "\u001b[1;31m---------------------------------------------------------------------------\u001b[0m",
      "\u001b[1;31mTypeError\u001b[0m                                 Traceback (most recent call last)",
      "\u001b[1;32m~\\AppData\\Local\\Temp/ipykernel_3784/1569626321.py\u001b[0m in \u001b[0;36m<module>\u001b[1;34m\u001b[0m\n\u001b[1;32m----> 1\u001b[1;33m \u001b[0mprint\u001b[0m\u001b[1;33m(\u001b[0m\u001b[1;34m\"hello\"\u001b[0m\u001b[1;33m%\u001b[0m\u001b[1;36m2\u001b[0m\u001b[1;33m)\u001b[0m\u001b[1;33m\u001b[0m\u001b[1;33m\u001b[0m\u001b[0m\n\u001b[0m",
      "\u001b[1;31mTypeError\u001b[0m: not all arguments converted during string formatting"
     ]
    }
   ],
   "source": [
    "print(\"hello\"%2)"
   ]
  },
  {
   "cell_type": "code",
   "execution_count": 86,
   "id": "52f89289",
   "metadata": {},
   "outputs": [
    {
     "name": "stdout",
     "output_type": "stream",
     "text": [
      "This is even number %d 2\n",
      "This is even number 2\n"
     ]
    }
   ],
   "source": [
    "x=2\n",
    "print(\"This is even number %d\",x)\n",
    "print(\"This is even number %d\"%x)"
   ]
  },
  {
   "cell_type": "code",
   "execution_count": 87,
   "id": "f6c084d6",
   "metadata": {},
   "outputs": [
    {
     "name": "stdout",
     "output_type": "stream",
     "text": [
      "This is float value 12.500000\n",
      "This is float value %f 12.5\n",
      "This is float value 12.500000\n"
     ]
    }
   ],
   "source": [
    "print(\"This is float value %f\"%12.5)\n",
    "y=12.5\n",
    "print(\"This is float value %f\",y)\n",
    "print(\"This is float value %f\"%y)"
   ]
  },
  {
   "cell_type": "markdown",
   "id": "c975c956",
   "metadata": {},
   "source": [
    "## Other print statement examples"
   ]
  },
  {
   "cell_type": "code",
   "execution_count": 88,
   "id": "6adc3c87",
   "metadata": {},
   "outputs": [
    {
     "name": "stdout",
     "output_type": "stream",
     "text": [
      "I want %d to be printed here\n"
     ]
    }
   ],
   "source": [
    "print (\"I want %%d to be printed %s\" %'here')"
   ]
  },
  {
   "cell_type": "code",
   "execution_count": 89,
   "id": "4f66fd4d",
   "metadata": {},
   "outputs": [
    {
     "ename": "TypeError",
     "evalue": "%d format: a number is required, not str",
     "output_type": "error",
     "traceback": [
      "\u001b[1;31m---------------------------------------------------------------------------\u001b[0m",
      "\u001b[1;31mTypeError\u001b[0m                                 Traceback (most recent call last)",
      "\u001b[1;32m~\\AppData\\Local\\Temp/ipykernel_3784/384796698.py\u001b[0m in \u001b[0;36m<module>\u001b[1;34m\u001b[0m\n\u001b[1;32m----> 1\u001b[1;33m \u001b[0mprint\u001b[0m \u001b[1;33m(\u001b[0m\u001b[1;34m\"I want %%%d to be printed %s\"\u001b[0m \u001b[1;33m%\u001b[0m\u001b[1;34m'here'\u001b[0m\u001b[1;33m)\u001b[0m\u001b[1;33m\u001b[0m\u001b[1;33m\u001b[0m\u001b[0m\n\u001b[0m",
      "\u001b[1;31mTypeError\u001b[0m: %d format: a number is required, not str"
     ]
    }
   ],
   "source": [
    "print (\"I want %%%d to be printed %s\" %'here')"
   ]
  },
  {
   "cell_type": "code",
   "execution_count": 90,
   "id": "9b72bbbb",
   "metadata": {},
   "outputs": [
    {
     "ename": "TypeError",
     "evalue": "%d format: a number is required, not str",
     "output_type": "error",
     "traceback": [
      "\u001b[1;31m---------------------------------------------------------------------------\u001b[0m",
      "\u001b[1;31mTypeError\u001b[0m                                 Traceback (most recent call last)",
      "\u001b[1;32m~\\AppData\\Local\\Temp/ipykernel_3784/2680058401.py\u001b[0m in \u001b[0;36m<module>\u001b[1;34m\u001b[0m\n\u001b[1;32m----> 1\u001b[1;33m \u001b[0mprint\u001b[0m \u001b[1;33m(\u001b[0m\u001b[1;34m\"I want %d to be printed %s\"\u001b[0m \u001b[1;33m%\u001b[0m\u001b[1;34m'here'\u001b[0m\u001b[1;33m)\u001b[0m\u001b[1;33m\u001b[0m\u001b[1;33m\u001b[0m\u001b[0m\n\u001b[0m",
      "\u001b[1;31mTypeError\u001b[0m: %d format: a number is required, not str"
     ]
    }
   ],
   "source": [
    "print (\"I want %d to be printed %s\" %'here')"
   ]
  },
  {
   "cell_type": "code",
   "execution_count": 96,
   "id": "85635692",
   "metadata": {},
   "outputs": [
    {
     "name": "stdout",
     "output_type": "stream",
     "text": [
      "_A_A_A_A_A_A_A_A_A_A\n"
     ]
    }
   ],
   "source": [
    "print(\"_A\"*10)"
   ]
  },
  {
   "cell_type": "code",
   "execution_count": 99,
   "id": "29d303fb",
   "metadata": {},
   "outputs": [
    {
     "name": "stdout",
     "output_type": "stream",
     "text": [
      "Mon\n",
      "Tue\n",
      "Wed\n",
      "Thur\n",
      "Fri\n",
      "Sat\n",
      "Sun\n"
     ]
    }
   ],
   "source": [
    "print(\"Mon\\nTue\\nWed\\nThur\\nFri\\nSat\\nSun\")"
   ]
  },
  {
   "cell_type": "code",
   "execution_count": 102,
   "id": "c6bef498",
   "metadata": {},
   "outputs": [
    {
     "name": "stdout",
     "output_type": "stream",
     "text": [
      "jan 1\n",
      "feb\n",
      "mar\n",
      "apr\n",
      "may\n",
      "jun\n",
      "jul\n",
      "aug\n",
      "sep\n",
      "oct\n",
      "nov\n",
      "dec\n"
     ]
    }
   ],
   "source": [
    "print(\"jan 1\\nfeb\\nmar\\napr\\nmay\\njun\\njul\\naug\\nsep\\noct\\nnov\\ndec\")"
   ]
  },
  {
   "cell_type": "code",
   "execution_count": 111,
   "id": "8aa120eb",
   "metadata": {},
   "outputs": [],
   "source": [
    "for i in range(1,11):\n",
    "    i=i+1\n",
    "    if i==6:\n",
    "        break\n",
    "        print(i)\n",
    "    \n",
    "   "
   ]
  },
  {
   "cell_type": "code",
   "execution_count": 110,
   "id": "45d00667",
   "metadata": {},
   "outputs": [
    {
     "name": "stdout",
     "output_type": "stream",
     "text": [
      "2\n",
      "3\n",
      "4\n",
      "5\n"
     ]
    }
   ],
   "source": [
    "for i in range(1,11):\n",
    "    i=i+1\n",
    "    if i==6:\n",
    "        break\n",
    "    print(i)"
   ]
  },
  {
   "cell_type": "code",
   "execution_count": 116,
   "id": "17931e28",
   "metadata": {},
   "outputs": [
    {
     "name": "stdout",
     "output_type": "stream",
     "text": [
      "2\n"
     ]
    }
   ],
   "source": [
    "for i in range(1,11):\n",
    "    i=i+1\n",
    "    if i%2==0:\n",
    "        break\n",
    "        \n",
    "print(i)"
   ]
  },
  {
   "cell_type": "markdown",
   "id": "5f99e4f9",
   "metadata": {},
   "source": [
    "##### PrecisionWidth and FieldWidth\n"
   ]
  },
  {
   "cell_type": "code",
   "execution_count": 117,
   "id": "4dcf7eab",
   "metadata": {},
   "outputs": [
    {
     "name": "stdout",
     "output_type": "stream",
     "text": [
      "3.525123\n"
     ]
    }
   ],
   "source": [
    "x=3.525122554566\n",
    "print(\"%f\"%x)"
   ]
  },
  {
   "cell_type": "code",
   "execution_count": 119,
   "id": "1456e74c",
   "metadata": {},
   "outputs": [
    {
     "name": "stdout",
     "output_type": "stream",
     "text": [
      "3.525123\n"
     ]
    }
   ],
   "source": [
    "print(\"%2f\"%x)"
   ]
  },
  {
   "cell_type": "code",
   "execution_count": 120,
   "id": "911fbbf5",
   "metadata": {},
   "outputs": [
    {
     "name": "stdout",
     "output_type": "stream",
     "text": [
      "3.53\n"
     ]
    }
   ],
   "source": [
    "print(\"%.2f\"%x)"
   ]
  },
  {
   "cell_type": "code",
   "execution_count": 121,
   "id": "aa98b21b",
   "metadata": {},
   "outputs": [
    {
     "name": "stdout",
     "output_type": "stream",
     "text": [
      "3.53\n"
     ]
    }
   ],
   "source": [
    "print(\"%3.2f\"%x)"
   ]
  },
  {
   "cell_type": "code",
   "execution_count": 122,
   "id": "1bfeb5e0",
   "metadata": {},
   "outputs": [
    {
     "name": "stdout",
     "output_type": "stream",
     "text": [
      "1455.25\n"
     ]
    }
   ],
   "source": [
    "print(\"%3.2f\"%1455.2546)"
   ]
  },
  {
   "cell_type": "code",
   "execution_count": 123,
   "id": "f01dc256",
   "metadata": {},
   "outputs": [
    {
     "name": "stdout",
     "output_type": "stream",
     "text": [
      "  3.12131\n"
     ]
    }
   ],
   "source": [
    "print(\"%9.5f\" % 3.121312312312)"
   ]
  },
  {
   "cell_type": "code",
   "execution_count": 124,
   "id": "a69fb93d",
   "metadata": {},
   "outputs": [
    {
     "name": "stdout",
     "output_type": "stream",
     "text": [
      " ** ** \n",
      "*  *  *\n",
      "*     *\n",
      " *   * \n",
      "  * *  \n",
      "   *   \n"
     ]
    }
   ],
   "source": [
    "for i in range(6):\n",
    "    for j in range(7):\n",
    "        if (i==0 and j%3!=0) or (i==1 and j%3==0) or(i-j==2)or(i+j==8):\n",
    "            print(\"*\",end=\"\")\n",
    "        else:\n",
    "            print(\" \",end=\"\")\n",
    "    print()        "
   ]
  },
  {
   "cell_type": "code",
   "execution_count": null,
   "id": "6d223db1",
   "metadata": {},
   "outputs": [],
   "source": []
  },
  {
   "cell_type": "code",
   "execution_count": null,
   "id": "af625367",
   "metadata": {},
   "outputs": [],
   "source": []
  },
  {
   "cell_type": "code",
   "execution_count": 129,
   "id": "c15f42a2",
   "metadata": {},
   "outputs": [
    {
     "name": "stdout",
     "output_type": "stream",
     "text": [
      " ** ** \n",
      "*  *  *\n",
      "*     *\n",
      " *   * \n",
      "  * *  \n",
      "   *   \n"
     ]
    }
   ],
   "source": [
    "for i in range(6):\n",
    "    for j in range(7):\n",
    "        if (i==0 and j%3!=0)or(i==1 and j%3==0)or(i-j==2)or(i+j==8):\n",
    "            print(\"*\",end=\"\")\n",
    "        else:\n",
    "            print(\" \",end=\"\")\n",
    "    print()        "
   ]
  },
  {
   "cell_type": "code",
   "execution_count": 127,
   "id": "fe023013",
   "metadata": {},
   "outputs": [
    {
     "name": "stdout",
     "output_type": "stream",
     "text": [
      " ** ** \n",
      "*  *  *\n",
      "*     *\n",
      " *   * \n",
      "  * *  \n",
      "   *   \n"
     ]
    }
   ],
   "source": [
    "for i in range(6):\n",
    "    for j in range(7):\n",
    "        if (i==0 and j%3!=0) or (i== and j%3==0) or(i-j==2)or(i+j==8):\n",
    "            print(\"*\",end=\"\")\n",
    "        else:\n",
    "            print(\" \",end=\"\")\n",
    "    print() "
   ]
  },
  {
   "cell_type": "code",
   "execution_count": null,
   "id": "98e730be",
   "metadata": {},
   "outputs": [],
   "source": []
  },
  {
   "cell_type": "code",
   "execution_count": null,
   "id": "ce904756",
   "metadata": {},
   "outputs": [],
   "source": []
  },
  {
   "cell_type": "code",
   "execution_count": null,
   "id": "abcbd2dc",
   "metadata": {},
   "outputs": [],
   "source": []
  },
  {
   "cell_type": "code",
   "execution_count": 132,
   "id": "02981751",
   "metadata": {},
   "outputs": [
    {
     "name": "stdout",
     "output_type": "stream",
     "text": [
      " ** ** \n",
      "*  *  *\n",
      "*     *\n",
      " *   * \n",
      "  * *  \n",
      "   *   \n"
     ]
    }
   ],
   "source": [
    "for i in range(6):\n",
    "    for j in range(7):\n",
    "        if (i==0 and j%3!=0)or(i==1 and j%3==0) or (i-j==2)or(i+j==8):\n",
    "            print(\"*\",end=\"\")\n",
    "        else:\n",
    "            print(\" \",end=\"\")\n",
    "    print()        "
   ]
  },
  {
   "cell_type": "code",
   "execution_count": null,
   "id": "a48e9ac4",
   "metadata": {},
   "outputs": [],
   "source": []
  },
  {
   "cell_type": "code",
   "execution_count": 133,
   "id": "48f6d797",
   "metadata": {},
   "outputs": [
    {
     "name": "stdout",
     "output_type": "stream",
     "text": [
      " ** ** \n",
      "*  *  *\n",
      "*     *\n",
      " *   * \n",
      "  * *  \n",
      "   *   \n"
     ]
    }
   ],
   "source": [
    "for i in range(6):\n",
    "    for j in range(7):\n",
    "        if (i==0 and j%3!=0)or(i==1 and j%3==0)or(i-j==2)or(i+j==8):\n",
    "            print(\"*\",end=\"\")\n",
    "        else:\n",
    "            print(\" \",end=\"\")\n",
    "    print()        "
   ]
  },
  {
   "cell_type": "code",
   "execution_count": 1,
   "id": "76916835",
   "metadata": {},
   "outputs": [
    {
     "name": "stdout",
     "output_type": "stream",
     "text": [
      "1\n",
      "10\n"
     ]
    }
   ],
   "source": [
    "for i in (1,10):\n",
    "    print(i)"
   ]
  },
  {
   "cell_type": "code",
   "execution_count": 2,
   "id": "c1171152",
   "metadata": {},
   "outputs": [
    {
     "name": "stdout",
     "output_type": "stream",
     "text": [
      "m ?\n",
      "y ?\n",
      "b ?\n",
      "l ?\n",
      "o ?\n",
      "g ?\n"
     ]
    }
   ],
   "source": [
    "for i in \"myblog\":\n",
    "    print(i,\"?\")"
   ]
  },
  {
   "cell_type": "markdown",
   "id": "86bea503",
   "metadata": {},
   "source": [
    "### Write a program to print first 10 natural numbers"
   ]
  },
  {
   "cell_type": "code",
   "execution_count": 4,
   "id": "4b92e876",
   "metadata": {},
   "outputs": [
    {
     "name": "stdout",
     "output_type": "stream",
     "text": [
      "1\n",
      "2\n",
      "3\n",
      "4\n",
      "5\n",
      "6\n",
      "7\n",
      "8\n",
      "9\n",
      "10\n"
     ]
    }
   ],
   "source": [
    "for i in range(1,11):\n",
    "    print(i)"
   ]
  },
  {
   "cell_type": "markdown",
   "id": "dd6922cc",
   "metadata": {},
   "source": [
    "## write a program tp print first 10 even number"
   ]
  },
  {
   "cell_type": "code",
   "execution_count": 7,
   "id": "0a3ff4e2",
   "metadata": {},
   "outputs": [
    {
     "name": "stdout",
     "output_type": "stream",
     "text": [
      "2\n",
      "4\n",
      "6\n",
      "8\n",
      "10\n",
      "12\n",
      "14\n",
      "16\n",
      "18\n",
      "20\n"
     ]
    }
   ],
   "source": [
    "for i in range(2,22,2):\n",
    "    print(i)"
   ]
  },
  {
   "cell_type": "markdown",
   "id": "5fd3b90c",
   "metadata": {},
   "source": [
    "#### Write a program to print first 10 odd number"
   ]
  },
  {
   "cell_type": "code",
   "execution_count": 14,
   "id": "9e0d1f90",
   "metadata": {},
   "outputs": [
    {
     "name": "stdout",
     "output_type": "stream",
     "text": [
      "1\n",
      "3\n",
      "5\n",
      "7\n",
      "9\n",
      "11\n",
      "13\n",
      "15\n",
      "17\n",
      "19\n"
     ]
    }
   ],
   "source": [
    "for i in range(1,21,2):\n",
    "    print(i)"
   ]
  },
  {
   "cell_type": "markdown",
   "id": "5c483ef1",
   "metadata": {},
   "source": [
    "## write a program to print first 10 even number in reverse order\n"
   ]
  },
  {
   "cell_type": "code",
   "execution_count": 20,
   "id": "215bfa1c",
   "metadata": {},
   "outputs": [
    {
     "name": "stdout",
     "output_type": "stream",
     "text": [
      "20\n",
      "18\n",
      "16\n",
      "14\n",
      "12\n",
      "10\n",
      "8\n",
      "6\n",
      "4\n",
      "2\n"
     ]
    }
   ],
   "source": [
    "for i in range(20,0,-2):\n",
    "    print(i)"
   ]
  },
  {
   "cell_type": "markdown",
   "id": "1f8fb0a5",
   "metadata": {},
   "source": [
    "## write a program to print tables for any given number from users"
   ]
  },
  {
   "cell_type": "code",
   "execution_count": 86,
   "id": "c93d695b",
   "metadata": {},
   "outputs": [
    {
     "ename": "SyntaxError",
     "evalue": "invalid syntax (Temp/ipykernel_13208/1119878848.py, line 2)",
     "output_type": "error",
     "traceback": [
      "\u001b[1;36m  File \u001b[1;32m\"C:\\Users\\USER\\AppData\\Local\\Temp/ipykernel_13208/1119878848.py\"\u001b[1;36m, line \u001b[1;32m2\u001b[0m\n\u001b[1;33m    for i in range(1,11):\u001b[0m\n\u001b[1;37m    ^\u001b[0m\n\u001b[1;31mSyntaxError\u001b[0m\u001b[1;31m:\u001b[0m invalid syntax\n"
     ]
    }
   ],
   "source": [
    "numu=int(input(\"enter the number : \"))\\\n",
    "for i in range(1,11):\n",
    "    print(num*i)"
   ]
  },
  {
   "cell_type": "code",
   "execution_count": 66,
   "id": "80d7d8bf",
   "metadata": {},
   "outputs": [
    {
     "name": "stdout",
     "output_type": "stream",
     "text": [
      "enter the number2\n",
      "2\n",
      "4\n",
      "6\n",
      "8\n",
      "10\n",
      "12\n",
      "14\n",
      "16\n",
      "18\n",
      "20\n"
     ]
    }
   ],
   "source": [
    "num=int(input(\"enter the number\"))\n",
    "for i in range(1,11):\n",
    "    print(num*i)"
   ]
  },
  {
   "cell_type": "code",
   "execution_count": 85,
   "id": "0e2779e0",
   "metadata": {},
   "outputs": [
    {
     "name": "stdout",
     "output_type": "stream",
     "text": [
      "the factorial is : 6\n"
     ]
    }
   ],
   "source": [
    "num=3\n",
    "f=1\n",
    "for i in range(1,num+1):\n",
    "    f=f*i\n",
    "print(\"the factorial is :\",end=\" \")\n",
    "print(f)"
   ]
  },
  {
   "cell_type": "code",
   "execution_count": 82,
   "id": "f0612407",
   "metadata": {},
   "outputs": [
    {
     "name": "stdout",
     "output_type": "stream",
     "text": [
      "enter the number: 4\n",
      "The factorial is : 24\n"
     ]
    }
   ],
   "source": [
    "n = int(input(\"enter the number: \"))\n",
    "fact = 1\n",
    "  \n",
    "for i in range(1,n+1):\n",
    "    fact = fact * i\n",
    "      \n",
    "print (\"The factorial is : \",end=\"\")\n",
    "print (fact)"
   ]
  },
  {
   "cell_type": "code",
   "execution_count": null,
   "id": "ef1d0e7a",
   "metadata": {},
   "outputs": [],
   "source": []
  },
  {
   "cell_type": "markdown",
   "id": "71ecdbf0",
   "metadata": {},
   "source": [
    "## write a program to find the factorial number"
   ]
  },
  {
   "cell_type": "code",
   "execution_count": 2,
   "id": "03a246c5",
   "metadata": {},
   "outputs": [
    {
     "name": "stdout",
     "output_type": "stream",
     "text": [
      "Enter the number10\n",
      "1\n",
      "2\n",
      "6\n",
      "24\n",
      "120\n",
      "720\n",
      "5040\n",
      "40320\n",
      "362880\n",
      "3628800\n"
     ]
    }
   ],
   "source": [
    "def fact():\n",
    "    num= int(input(\"Enter the number\"))\n",
    "    f=1\n",
    "    for i in range(1,num+1):\n",
    "        f=f*i\n",
    "        print(f)\n",
    "fact()        "
   ]
  },
  {
   "cell_type": "code",
   "execution_count": 72,
   "id": "30141b45",
   "metadata": {},
   "outputs": [
    {
     "name": "stdout",
     "output_type": "stream",
     "text": [
      "1\n",
      "2\n",
      "3\n"
     ]
    }
   ],
   "source": [
    "for i in range(1,4):\n",
    "    print(i)\n"
   ]
  },
  {
   "cell_type": "code",
   "execution_count": 31,
   "id": "a6effa53",
   "metadata": {},
   "outputs": [],
   "source": [
    "b=b*a"
   ]
  },
  {
   "cell_type": "code",
   "execution_count": 32,
   "id": "296567c9",
   "metadata": {},
   "outputs": [
    {
     "data": {
      "text/plain": [
       "4"
      ]
     },
     "execution_count": 32,
     "metadata": {},
     "output_type": "execute_result"
    }
   ],
   "source": [
    "b"
   ]
  },
  {
   "cell_type": "markdown",
   "id": "e31c1a2d",
   "metadata": {},
   "source": [
    "## write the program to check whether the number is prime or not"
   ]
  },
  {
   "cell_type": "code",
   "execution_count": 50,
   "id": "a9a94ef7",
   "metadata": {},
   "outputs": [],
   "source": [
    "for i in range(2,5//2):\n",
    "    print(i)"
   ]
  },
  {
   "cell_type": "code",
   "execution_count": 52,
   "id": "9d3d1602",
   "metadata": {},
   "outputs": [
    {
     "name": "stdout",
     "output_type": "stream",
     "text": [
      "enter the number5\n"
     ]
    }
   ],
   "source": [
    "num=int(input(\"enter the number\"))\n",
    "for i in range(2,num//2):\n",
    "    if n%i==0:\n",
    "        print(\"not prime\")\n",
    "    else:\n",
    "        print(\"prime\")\n",
    "           \n",
    "\n",
    "        "
   ]
  },
  {
   "cell_type": "code",
   "execution_count": 1,
   "id": "ae0d4072",
   "metadata": {},
   "outputs": [
    {
     "name": "stdout",
     "output_type": "stream",
     "text": [
      "enter the number7\n",
      " prime\n"
     ]
    }
   ],
   "source": [
    "num= int(input(\"enter the number\"))\n",
    "f=0\n",
    "if num==1 or num==0:\n",
    "    print(f=1)\n",
    "for i in range(2,num):\n",
    "    if num%i==0:\n",
    "        f=1\n",
    "if f==1:\n",
    "    print(\"number is not prime\")\n",
    "else:\n",
    "    print(\" prime\")"
   ]
  },
  {
   "cell_type": "code",
   "execution_count": 2,
   "id": "f50f98cd",
   "metadata": {},
   "outputs": [
    {
     "name": "stdout",
     "output_type": "stream",
     "text": [
      "enter the number: 2\n",
      "2\n",
      "4\n",
      "6\n",
      "8\n",
      "10\n",
      "12\n",
      "14\n",
      "16\n",
      "18\n",
      "20\n"
     ]
    }
   ],
   "source": [
    "## Write a tables code\n",
    "num=int(input(\"enter the number: \"))\n",
    "for i in range(1,11):\n",
    "    print(num*i)"
   ]
  },
  {
   "cell_type": "code",
   "execution_count": 4,
   "id": "6969980d",
   "metadata": {},
   "outputs": [
    {
     "name": "stdout",
     "output_type": "stream",
     "text": [
      "enter the number: 4\n",
      "24\n"
     ]
    }
   ],
   "source": [
    "## Factorial \n",
    "num=int(input(\"enter the number: \"))\n",
    "f=1\n",
    "for i in range(1,num+1):\n",
    "    f=f*i\n",
    "print(f)    "
   ]
  },
  {
   "cell_type": "markdown",
   "id": "a76cedc5",
   "metadata": {},
   "source": [
    "### Write a program to display all the number which are divisible by 11 but not by 2 between 100 and 500"
   ]
  },
  {
   "cell_type": "code",
   "execution_count": 8,
   "id": "0298af43",
   "metadata": {},
   "outputs": [
    {
     "name": "stdout",
     "output_type": "stream",
     "text": [
      "121\n",
      "143\n",
      "165\n",
      "187\n",
      "209\n",
      "231\n",
      "253\n",
      "275\n",
      "297\n",
      "319\n",
      "341\n",
      "363\n",
      "385\n",
      "407\n",
      "429\n",
      "451\n",
      "473\n",
      "495\n"
     ]
    }
   ],
   "source": [
    "for i in range(100,500):\n",
    "    if i%11==0 and i%2!=0:\n",
    "        print(i)"
   ]
  },
  {
   "cell_type": "code",
   "execution_count": 6,
   "id": "5a68ec08",
   "metadata": {},
   "outputs": [
    {
     "name": "stdout",
     "output_type": "stream",
     "text": [
      "cant\n"
     ]
    }
   ],
   "source": [
    "n=10\n",
    "if n%2==0 and n%3==0:\n",
    "    print(\"can\")\n",
    "else:\n",
    "    print(\"cant\")"
   ]
  },
  {
   "cell_type": "code",
   "execution_count": 7,
   "id": "9c6ae064",
   "metadata": {},
   "outputs": [
    {
     "name": "stdout",
     "output_type": "stream",
     "text": [
      "can\n"
     ]
    }
   ],
   "source": [
    "n=10\n",
    "if n%2==0 or n%3==0:\n",
    "    print(\"can\")\n",
    "else:\n",
    "    print(\"cant\")"
   ]
  },
  {
   "cell_type": "code",
   "execution_count": null,
   "id": "35432fd7",
   "metadata": {},
   "outputs": [],
   "source": []
  }
 ],
 "metadata": {
  "kernelspec": {
   "display_name": "Python 3 (ipykernel)",
   "language": "python",
   "name": "python3"
  },
  "language_info": {
   "codemirror_mode": {
    "name": "ipython",
    "version": 3
   },
   "file_extension": ".py",
   "mimetype": "text/x-python",
   "name": "python",
   "nbconvert_exporter": "python",
   "pygments_lexer": "ipython3",
   "version": "3.9.7"
  }
 },
 "nbformat": 4,
 "nbformat_minor": 5
}
