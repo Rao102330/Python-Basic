{
 "cells": [
  {
   "cell_type": "markdown",
   "id": "1388ba98",
   "metadata": {},
   "source": [
    "* Using list comprehension it reduce the number of code , it will be easy to see the code .\n",
    "* It is possible to use conditions in a list comprehension\n",
    "* The list comprehension will always give value in a form of list"
   ]
  },
  {
   "cell_type": "raw",
   "id": "ad98ac5f",
   "metadata": {},
   "source": [
    " \n",
    "                        variable     filter condition(optional)                \n",
    "                        /            ^\n",
    "Syntax:   #[output for i in list if condition]\n",
    "    \n",
    "Example:  #[i**3 for i in [1,2,3,4] if i>2]    \n",
    "              /              /\n",
    "            output          input sequence\n",
    "            expression  \n",
    "    \n",
    "    \n",
    "    \n",
    "    \n",
    "    \n",
    "    \n",
    "    "
   ]
  },
  {
   "cell_type": "markdown",
   "id": "4fd430af",
   "metadata": {},
   "source": [
    "### List comprehension vs Loops"
   ]
  },
  {
   "cell_type": "code",
   "execution_count": 1,
   "id": "4df3307b",
   "metadata": {},
   "outputs": [
    {
     "name": "stdout",
     "output_type": "stream",
     "text": [
      "[0, 1, 4, 9, 16]\n"
     ]
    }
   ],
   "source": [
    "#using loops\n",
    "num=[]\n",
    "for i in range(5):\n",
    "    num.append(i*i)\n",
    "print(num)    "
   ]
  },
  {
   "cell_type": "code",
   "execution_count": 2,
   "id": "85ea9279",
   "metadata": {},
   "outputs": [
    {
     "name": "stdout",
     "output_type": "stream",
     "text": [
      "[0, 1, 4, 9, 16]\n"
     ]
    }
   ],
   "source": [
    "# using list comprehension\n",
    "num=[i*i for i in range(5)]\n",
    "print(num)"
   ]
  },
  {
   "cell_type": "markdown",
   "id": "a0fbf32d",
   "metadata": {},
   "source": [
    "### Examples"
   ]
  },
  {
   "cell_type": "code",
   "execution_count": 8,
   "id": "3ddc170d",
   "metadata": {},
   "outputs": [
    {
     "name": "stdout",
     "output_type": "stream",
     "text": [
      "200,400,600,800,1000,"
     ]
    }
   ],
   "source": [
    "#loops\n",
    "price=[100,200,300,400,500]\n",
    "for i in price:\n",
    "    print(i*2,end=\",\")\n",
    "\n",
    "    "
   ]
  },
  {
   "cell_type": "code",
   "execution_count": 9,
   "id": "12ec67dc",
   "metadata": {},
   "outputs": [
    {
     "name": "stdout",
     "output_type": "stream",
     "text": [
      "[200, 400, 600, 800, 1000]\n"
     ]
    }
   ],
   "source": [
    "#list comprehension\n",
    "price=[100,200,300,400,500]\n",
    "result=[i*2 for i in price]        # in list comprehension output will be in the form of list \n",
    "print(result)"
   ]
  },
  {
   "cell_type": "markdown",
   "id": "8c08a09a",
   "metadata": {},
   "source": [
    "## Read the first element using list comprehension"
   ]
  },
  {
   "cell_type": "code",
   "execution_count": 10,
   "id": "af70a62b",
   "metadata": {},
   "outputs": [],
   "source": [
    "fruits=[\"Apple\",\"Banana\",\"Pineapple\",\"Jackfruit\"]"
   ]
  },
  {
   "cell_type": "code",
   "execution_count": 13,
   "id": "20b2ec8c",
   "metadata": {},
   "outputs": [
    {
     "name": "stdout",
     "output_type": "stream",
     "text": [
      "A B P J "
     ]
    }
   ],
   "source": [
    "### normal loop\n",
    "for i in fruits:\n",
    "    print(i[0],end=\" \")"
   ]
  },
  {
   "cell_type": "code",
   "execution_count": 14,
   "id": "a9f7dc99",
   "metadata": {},
   "outputs": [
    {
     "name": "stdout",
     "output_type": "stream",
     "text": [
      "A B P J "
     ]
    }
   ],
   "source": [
    "## using list comprehension\n",
    "result=[print(i[0],end=\" \") for i in fruits]"
   ]
  },
  {
   "cell_type": "code",
   "execution_count": 19,
   "id": "79c53394",
   "metadata": {},
   "outputs": [
    {
     "data": {
      "text/plain": [
       "['A', 'B', 'P', 'J']"
      ]
     },
     "execution_count": 19,
     "metadata": {},
     "output_type": "execute_result"
    }
   ],
   "source": [
    "result=[i[0] for i in fruits]\n",
    "result"
   ]
  },
  {
   "cell_type": "markdown",
   "id": "0262117a",
   "metadata": {},
   "source": [
    "### Read the first 2 leter in list using list comprehension"
   ]
  },
  {
   "cell_type": "code",
   "execution_count": 23,
   "id": "974654c1",
   "metadata": {},
   "outputs": [
    {
     "name": "stdout",
     "output_type": "stream",
     "text": [
      "Ap\n",
      "Ba\n",
      "Pi\n",
      "Ja\n"
     ]
    }
   ],
   "source": [
    "fruits=[\"Apple\",\"Banana\",\"Pineapple\",\"Jackfruit\"]\n",
    "## using loop\n",
    "\n",
    "for i in fruits:\n",
    "    print(i[0:2])\n",
    "\n",
    " \n"
   ]
  },
  {
   "cell_type": "code",
   "execution_count": 24,
   "id": "890c3a46",
   "metadata": {},
   "outputs": [
    {
     "name": "stdout",
     "output_type": "stream",
     "text": [
      "['Ap', 'Ba', 'Pi', 'Ja']\n"
     ]
    }
   ],
   "source": [
    "### using list comprehension\n",
    "result=[i[0:2] for i in fruits]\n",
    "print(result)"
   ]
  },
  {
   "cell_type": "markdown",
   "id": "86fa92d6",
   "metadata": {},
   "source": [
    "### Iteration over more than one iterable in a list using list comprehension\n"
   ]
  },
  {
   "cell_type": "code",
   "execution_count": 27,
   "id": "500cffaa",
   "metadata": {},
   "outputs": [
    {
     "name": "stdout",
     "output_type": "stream",
     "text": [
      "Apple 100,Apple 40,Apple 30,Apple 80,Banana 100,Banana 40,Banana 30,Banana 80,Pineapple 100,Pineapple 40,Pineapple 30,Pineapple 80,Jackfruit 100,Jackfruit 40,Jackfruit 30,Jackfruit 80,"
     ]
    }
   ],
   "source": [
    "fruits=[\"Apple\",\"Banana\",\"Pineapple\",\"Jackfruit\"]\n",
    "price=[100,40,30,80]\n",
    "\n",
    "## using loop\n",
    "for i in fruits:\n",
    "    for j in price:\n",
    "        print(i,j,end=\",\")"
   ]
  },
  {
   "cell_type": "code",
   "execution_count": 31,
   "id": "eca713fa",
   "metadata": {},
   "outputs": [
    {
     "name": "stdout",
     "output_type": "stream",
     "text": [
      "[('Apple', 100), ('Apple', 40), ('Apple', 30), ('Apple', 80), ('Banana', 100), ('Banana', 40), ('Banana', 30), ('Banana', 80), ('Pineapple', 100), ('Pineapple', 40), ('Pineapple', 30), ('Pineapple', 80), ('Jackfruit', 100), ('Jackfruit', 40), ('Jackfruit', 30), ('Jackfruit', 80)]\n"
     ]
    }
   ],
   "source": [
    "result=[(i,j) for i in fruits for j in price]\n",
    "print(result)"
   ]
  },
  {
   "cell_type": "markdown",
   "id": "fe042ae2",
   "metadata": {},
   "source": [
    "### List comprehension using conditional logic\n"
   ]
  },
  {
   "cell_type": "code",
   "execution_count": 36,
   "id": "29348813",
   "metadata": {},
   "outputs": [
    {
     "name": "stdout",
     "output_type": "stream",
     "text": [
      "0\n",
      "0\n",
      "0\n",
      "0\n",
      "120\n"
     ]
    }
   ],
   "source": [
    "price=[100,40,30,80,120]\n",
    "for i in price:\n",
    "    if i>100:\n",
    "        print(i)\n",
    "    else:\n",
    "        print(0)\n",
    "        "
   ]
  },
  {
   "cell_type": "code",
   "execution_count": 37,
   "id": "527162c7",
   "metadata": {},
   "outputs": [
    {
     "data": {
      "text/plain": [
       "[0, 0, 0, 0, 120]"
      ]
     },
     "execution_count": 37,
     "metadata": {},
     "output_type": "execute_result"
    }
   ],
   "source": [
    "result=[i if i>100 else 0  for i in price]\n",
    "result"
   ]
  },
  {
   "cell_type": "code",
   "execution_count": null,
   "id": "402d7e11",
   "metadata": {},
   "outputs": [],
   "source": []
  }
 ],
 "metadata": {
  "kernelspec": {
   "display_name": "Python 3 (ipykernel)",
   "language": "python",
   "name": "python3"
  },
  "language_info": {
   "codemirror_mode": {
    "name": "ipython",
    "version": 3
   },
   "file_extension": ".py",
   "mimetype": "text/x-python",
   "name": "python",
   "nbconvert_exporter": "python",
   "pygments_lexer": "ipython3",
   "version": "3.9.7"
  }
 },
 "nbformat": 4,
 "nbformat_minor": 5
}
