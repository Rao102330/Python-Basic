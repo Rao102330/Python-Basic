{
 "cells": [
  {
   "cell_type": "markdown",
   "id": "e03506e6",
   "metadata": {},
   "source": [
    "## write   ........> #w"
   ]
  },
  {
   "cell_type": "code",
   "execution_count": 1,
   "id": "0744e296",
   "metadata": {},
   "outputs": [
    {
     "ename": "FileNotFoundError",
     "evalue": "[Errno 2] No such file or directory: 'C:\\\\Users\\\\USER\\\\Desktop\\\\rahul.txt'",
     "output_type": "error",
     "traceback": [
      "\u001b[1;31m---------------------------------------------------------------------------\u001b[0m",
      "\u001b[1;31mFileNotFoundError\u001b[0m                         Traceback (most recent call last)",
      "\u001b[1;32m~\\AppData\\Local\\Temp/ipykernel_11016/3443230374.py\u001b[0m in \u001b[0;36m<module>\u001b[1;34m\u001b[0m\n\u001b[1;32m----> 1\u001b[1;33m \u001b[0ma\u001b[0m\u001b[1;33m=\u001b[0m\u001b[0mopen\u001b[0m\u001b[1;33m(\u001b[0m\u001b[1;34m'C:\\\\Users\\\\USER\\\\Desktop\\\\rahul.txt'\u001b[0m\u001b[1;33m)\u001b[0m\u001b[1;33m\u001b[0m\u001b[1;33m\u001b[0m\u001b[0m\n\u001b[0m",
      "\u001b[1;31mFileNotFoundError\u001b[0m: [Errno 2] No such file or directory: 'C:\\\\Users\\\\USER\\\\Desktop\\\\rahul.txt'"
     ]
    }
   ],
   "source": [
    "a=open('C:\\\\Users\\\\USER\\\\Desktop\\\\rahul.txt')"
   ]
  },
  {
   "cell_type": "code",
   "execution_count": 2,
   "id": "0b6925ed",
   "metadata": {},
   "outputs": [],
   "source": [
    "a=open('C:\\\\Users\\\\USER\\\\Desktop\\\\rahul.txt','w')"
   ]
  },
  {
   "cell_type": "code",
   "execution_count": 3,
   "id": "3c78d237",
   "metadata": {},
   "outputs": [],
   "source": [
    "a.write(\"iam the wonderfull person\")\n",
    "a.close()"
   ]
  },
  {
   "cell_type": "markdown",
   "id": "471b9d23",
   "metadata": {},
   "source": [
    "### read\n",
    ".#r"
   ]
  },
  {
   "cell_type": "code",
   "execution_count": 4,
   "id": "2d8c2f1c",
   "metadata": {},
   "outputs": [
    {
     "name": "stdout",
     "output_type": "stream",
     "text": [
      "iam the wonderfull person\n"
     ]
    }
   ],
   "source": [
    "a=open('C:\\\\Users\\\\USER\\\\Desktop\\\\rahul.txt','r')\n",
    "print(a.read())"
   ]
  },
  {
   "cell_type": "markdown",
   "id": "2af29fab",
   "metadata": {},
   "source": [
    "## append\n",
    "*a"
   ]
  },
  {
   "cell_type": "code",
   "execution_count": 8,
   "id": "ef31f2a5",
   "metadata": {},
   "outputs": [
    {
     "name": "stdout",
     "output_type": "stream",
     "text": [
      "17\n"
     ]
    }
   ],
   "source": [
    "a=open('C:\\\\Users\\\\USER\\\\Desktop\\\\rahul.txt','a')\n",
    "print(a.write(\" may be iam wrong\"))\n"
   ]
  },
  {
   "cell_type": "code",
   "execution_count": null,
   "id": "be1d5439",
   "metadata": {},
   "outputs": [],
   "source": []
  }
 ],
 "metadata": {
  "kernelspec": {
   "display_name": "Python 3 (ipykernel)",
   "language": "python",
   "name": "python3"
  },
  "language_info": {
   "codemirror_mode": {
    "name": "ipython",
    "version": 3
   },
   "file_extension": ".py",
   "mimetype": "text/x-python",
   "name": "python",
   "nbconvert_exporter": "python",
   "pygments_lexer": "ipython3",
   "version": "3.9.7"
  }
 },
 "nbformat": 4,
 "nbformat_minor": 5
}
