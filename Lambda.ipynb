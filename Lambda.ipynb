{
 "cells": [
  {
   "cell_type": "markdown",
   "id": "24d40362",
   "metadata": {},
   "source": [
    "## using normal function "
   ]
  },
  {
   "cell_type": "code",
   "execution_count": 1,
   "id": "02955594",
   "metadata": {},
   "outputs": [
    {
     "data": {
      "text/plain": [
       "4"
      ]
     },
     "execution_count": 1,
     "metadata": {},
     "output_type": "execute_result"
    }
   ],
   "source": [
    "def fun(x,y):\n",
    "    if x>y:\n",
    "        return x\n",
    "    else:\n",
    "        return y\n",
    "fun(3,4)    \n",
    "    "
   ]
  },
  {
   "cell_type": "markdown",
   "id": "76768273",
   "metadata": {},
   "source": [
    "#### Using lambda function "
   ]
  },
  {
   "cell_type": "code",
   "execution_count": 2,
   "id": "61fa2489",
   "metadata": {},
   "outputs": [
    {
     "data": {
      "text/plain": [
       "4"
      ]
     },
     "execution_count": 2,
     "metadata": {},
     "output_type": "execute_result"
    }
   ],
   "source": [
    "fun= lambda x,y: x if x>y else y\n",
    "fun(3,4)"
   ]
  },
  {
   "cell_type": "markdown",
   "id": "ac3c43c6",
   "metadata": {},
   "source": [
    "#### 1. greatest of two number"
   ]
  },
  {
   "cell_type": "code",
   "execution_count": 3,
   "id": "a1b1a625",
   "metadata": {},
   "outputs": [
    {
     "data": {
      "text/plain": [
       "3"
      ]
     },
     "execution_count": 3,
     "metadata": {},
     "output_type": "execute_result"
    }
   ],
   "source": [
    "a=lambda a,b:a if a>b else b\n",
    "a(2,3)"
   ]
  },
  {
   "cell_type": "code",
   "execution_count": 4,
   "id": "25387852",
   "metadata": {},
   "outputs": [
    {
     "data": {
      "text/plain": [
       "2"
      ]
     },
     "execution_count": 4,
     "metadata": {},
     "output_type": "execute_result"
    }
   ],
   "source": [
    "a1=lambda a,b: a if a<b else b\n",
    "a1(2,3)"
   ]
  },
  {
   "cell_type": "code",
   "execution_count": 5,
   "id": "289d15d4",
   "metadata": {},
   "outputs": [
    {
     "name": "stdout",
     "output_type": "stream",
     "text": [
      "2 yes\n"
     ]
    }
   ],
   "source": [
    "a2=lambda a,b: print(a,\"yes\") if a<b else print(\"no\",b)\n",
    "a2(2,3)"
   ]
  },
  {
   "cell_type": "code",
   "execution_count": 6,
   "id": "09879818",
   "metadata": {},
   "outputs": [
    {
     "name": "stdout",
     "output_type": "stream",
     "text": [
      "no 2\n"
     ]
    }
   ],
   "source": [
    "a2(3,2)"
   ]
  },
  {
   "cell_type": "code",
   "execution_count": 7,
   "id": "e7fe7ea5",
   "metadata": {},
   "outputs": [
    {
     "name": "stdout",
     "output_type": "stream",
     "text": [
      "divided\n"
     ]
    }
   ],
   "source": [
    "a3= lambda a,b: print(\"divided\") if a%b==0 else print(\"not divided\")\n",
    "a3(4,2)"
   ]
  },
  {
   "cell_type": "code",
   "execution_count": 8,
   "id": "7ddeb8b7",
   "metadata": {},
   "outputs": [
    {
     "name": "stdout",
     "output_type": "stream",
     "text": [
      "not divided\n"
     ]
    }
   ],
   "source": [
    "a3(5,3)"
   ]
  },
  {
   "cell_type": "code",
   "execution_count": 9,
   "id": "e803c663",
   "metadata": {},
   "outputs": [
    {
     "ename": "SyntaxError",
     "evalue": "invalid syntax (Temp/ipykernel_12000/1191865329.py, line 1)",
     "output_type": "error",
     "traceback": [
      "\u001b[1;36m  File \u001b[1;32m\"C:\\Users\\USER\\AppData\\Local\\Temp/ipykernel_12000/1191865329.py\"\u001b[1;36m, line \u001b[1;32m1\u001b[0m\n\u001b[1;33m    a4= lambda a,b : print(\"even\") if a%2==0 if b%2!=0 else print(\"odd\")\u001b[0m\n\u001b[1;37m                                             ^\u001b[0m\n\u001b[1;31mSyntaxError\u001b[0m\u001b[1;31m:\u001b[0m invalid syntax\n"
     ]
    }
   ],
   "source": [
    "a4= lambda a,b : print(\"even\") if a%2==0 if b%2!=0 else print(\"odd\")\n",
    "a4(4,4)"
   ]
  },
  {
   "cell_type": "code",
   "execution_count": 10,
   "id": "9822c413",
   "metadata": {},
   "outputs": [
    {
     "name": "stdout",
     "output_type": "stream",
     "text": [
      "odd\n"
     ]
    }
   ],
   "source": [
    "a4= lambda a,b : print(\"even\") if a%2==0 and b%2!=0 else print(\"odd\")\n",
    "a4(4,4)"
   ]
  },
  {
   "cell_type": "code",
   "execution_count": 11,
   "id": "7d0ce3c6",
   "metadata": {},
   "outputs": [
    {
     "name": "stdout",
     "output_type": "stream",
     "text": [
      "even\n"
     ]
    }
   ],
   "source": [
    "a4= lambda a,b : print(\"even\") if a%2==0 or b%2!=0 else print(\"odd\")\n",
    "a4(4,4)"
   ]
  },
  {
   "cell_type": "code",
   "execution_count": 13,
   "id": "113e105e",
   "metadata": {},
   "outputs": [
    {
     "name": "stdout",
     "output_type": "stream",
     "text": [
      "even\n"
     ]
    }
   ],
   "source": [
    "a5= lambda a,b : print(\"even\") if a%2==0 and b%2!=0 else print(\"odd\")\n",
    "a5(4,3)"
   ]
  },
  {
   "cell_type": "markdown",
   "id": "83d580eb",
   "metadata": {},
   "source": [
    "### 2.Adding of two number using lambda function"
   ]
  },
  {
   "cell_type": "code",
   "execution_count": 14,
   "id": "ba2bc77d",
   "metadata": {},
   "outputs": [
    {
     "data": {
      "text/plain": [
       "100"
      ]
     },
     "execution_count": 14,
     "metadata": {},
     "output_type": "execute_result"
    }
   ],
   "source": [
    "x= lambda a,b: a+b\n",
    "x(20,80)"
   ]
  },
  {
   "cell_type": "markdown",
   "id": "8a09cfb6",
   "metadata": {},
   "source": [
    "#### 3. check the number even or odd"
   ]
  },
  {
   "cell_type": "code",
   "execution_count": 20,
   "id": "f0b57c46",
   "metadata": {},
   "outputs": [
    {
     "name": "stdout",
     "output_type": "stream",
     "text": [
      "even\n",
      "None\n"
     ]
    }
   ],
   "source": [
    "x= lambda a: print(\"even\") if a%2==0 else print(\"odd\")\n",
    "print(x(20))\n",
    "\n"
   ]
  },
  {
   "cell_type": "code",
   "execution_count": 18,
   "id": "a8568bc6",
   "metadata": {},
   "outputs": [
    {
     "name": "stdout",
     "output_type": "stream",
     "text": [
      "odd\n",
      "None\n"
     ]
    }
   ],
   "source": [
    "print(x(35))"
   ]
  },
  {
   "cell_type": "markdown",
   "id": "776e2e9c",
   "metadata": {},
   "source": [
    "### 4.cube of a number using lambda function "
   ]
  },
  {
   "cell_type": "code",
   "execution_count": 21,
   "id": "2799dc84",
   "metadata": {},
   "outputs": [
    {
     "data": {
      "text/plain": [
       "8"
      ]
     },
     "execution_count": 21,
     "metadata": {},
     "output_type": "execute_result"
    }
   ],
   "source": [
    "x=lambda a: a**3\n",
    "x(2)"
   ]
  },
  {
   "cell_type": "markdown",
   "id": "89c262ad",
   "metadata": {},
   "source": [
    "##### 5. greatest of 3 number"
   ]
  },
  {
   "cell_type": "code",
   "execution_count": 22,
   "id": "3ea654e1",
   "metadata": {},
   "outputs": [
    {
     "name": "stdout",
     "output_type": "stream",
     "text": [
      "yes greatest\n"
     ]
    }
   ],
   "source": [
    "x=lambda a,b,c: print(\"yes greatest\") if a>b or a>c or b>a or b>c or c>a or c>b else(\"not greater\")\n",
    "x(2,3,4)"
   ]
  },
  {
   "cell_type": "code",
   "execution_count": 23,
   "id": "3459e4d6",
   "metadata": {},
   "outputs": [
    {
     "ename": "SyntaxError",
     "evalue": "invalid syntax (Temp/ipykernel_12000/1634307386.py, line 1)",
     "output_type": "error",
     "traceback": [
      "\u001b[1;36m  File \u001b[1;32m\"C:\\Users\\USER\\AppData\\Local\\Temp/ipykernel_12000/1634307386.py\"\u001b[1;36m, line \u001b[1;32m1\u001b[0m\n\u001b[1;33m    x= lambda a,b,c: print(\"a is greater\") if (a>b and a>c) print(\"b is greater\") else (b>a and b>c) print(\"c is greater\") else (c>a and c>b)\u001b[0m\n\u001b[1;37m                                                            ^\u001b[0m\n\u001b[1;31mSyntaxError\u001b[0m\u001b[1;31m:\u001b[0m invalid syntax\n"
     ]
    }
   ],
   "source": [
    "x= lambda a,b,c: print(\"a is greater\") if (a>b and a>c) print(\"b is greater\") else (b>a and b>c) print(\"c is greater\") else (c>a and c>b)"
   ]
  },
  {
   "cell_type": "code",
   "execution_count": 3,
   "id": "3c64b043",
   "metadata": {},
   "outputs": [],
   "source": [
    "x= lambda a,b,c: print(\"a is greater\") if (a>b and a>c)  else( print(\"b is greater\") if (b>a and b>c)  else print(c))"
   ]
  },
  {
   "cell_type": "code",
   "execution_count": 4,
   "id": "a5111097",
   "metadata": {},
   "outputs": [
    {
     "name": "stdout",
     "output_type": "stream",
     "text": [
      "4\n"
     ]
    }
   ],
   "source": [
    "x(2,3,4)"
   ]
  },
  {
   "cell_type": "markdown",
   "id": "7f644e85",
   "metadata": {},
   "source": [
    "## lambda function using map function"
   ]
  },
  {
   "cell_type": "markdown",
   "id": "2b85c170",
   "metadata": {},
   "source": [
    "### 1.Write a lambda function with map to square the number given in the list"
   ]
  },
  {
   "cell_type": "code",
   "execution_count": 24,
   "id": "ef021258",
   "metadata": {},
   "outputs": [
    {
     "name": "stdout",
     "output_type": "stream",
     "text": [
      "[1, 4, 9, 16]\n"
     ]
    }
   ],
   "source": [
    "n=[1,2,3,4]\n",
    "print(list(map(lambda x:x**2,n)))"
   ]
  },
  {
   "cell_type": "code",
   "execution_count": 25,
   "id": "0bcbb2c3",
   "metadata": {},
   "outputs": [
    {
     "ename": "TypeError",
     "evalue": "map() must have at least two arguments.",
     "output_type": "error",
     "traceback": [
      "\u001b[1;31m---------------------------------------------------------------------------\u001b[0m",
      "\u001b[1;31mTypeError\u001b[0m                                 Traceback (most recent call last)",
      "\u001b[1;32m~\\AppData\\Local\\Temp/ipykernel_12000/772323617.py\u001b[0m in \u001b[0;36m<module>\u001b[1;34m\u001b[0m\n\u001b[0;32m      1\u001b[0m \u001b[0mn\u001b[0m\u001b[1;33m=\u001b[0m\u001b[1;33m[\u001b[0m\u001b[1;36m1\u001b[0m\u001b[1;33m,\u001b[0m\u001b[1;36m2\u001b[0m\u001b[1;33m,\u001b[0m\u001b[1;36m3\u001b[0m\u001b[1;33m,\u001b[0m\u001b[1;36m4\u001b[0m\u001b[1;33m]\u001b[0m\u001b[1;33m\u001b[0m\u001b[1;33m\u001b[0m\u001b[0m\n\u001b[1;32m----> 2\u001b[1;33m \u001b[0mprint\u001b[0m\u001b[1;33m(\u001b[0m\u001b[0mlist\u001b[0m\u001b[1;33m(\u001b[0m\u001b[0mmap\u001b[0m\u001b[1;33m(\u001b[0m\u001b[1;32mlambda\u001b[0m \u001b[0mx\u001b[0m\u001b[1;33m:\u001b[0m\u001b[0mx\u001b[0m\u001b[1;33m**\u001b[0m\u001b[1;36m2\u001b[0m\u001b[1;33m)\u001b[0m\u001b[1;33m)\u001b[0m\u001b[1;33m)\u001b[0m\u001b[1;33m\u001b[0m\u001b[1;33m\u001b[0m\u001b[0m\n\u001b[0m\u001b[0;32m      3\u001b[0m \u001b[0mn\u001b[0m\u001b[1;33m\u001b[0m\u001b[1;33m\u001b[0m\u001b[0m\n",
      "\u001b[1;31mTypeError\u001b[0m: map() must have at least two arguments."
     ]
    }
   ],
   "source": [
    "n=[1,2,3,4]\n",
    "print(list(map(lambda x:x**2)))\n",
    "n"
   ]
  },
  {
   "cell_type": "markdown",
   "id": "912a3820",
   "metadata": {},
   "source": [
    "#### 2.Write a lambda function using map to find the number divisible by 3"
   ]
  },
  {
   "cell_type": "code",
   "execution_count": null,
   "id": "b3fba566",
   "metadata": {},
   "outputs": [],
   "source": []
  },
  {
   "cell_type": "code",
   "execution_count": 28,
   "id": "1a416f8e",
   "metadata": {},
   "outputs": [
    {
     "name": "stdout",
     "output_type": "stream",
     "text": [
      "[False, True, True, False, True, False]\n"
     ]
    }
   ],
   "source": [
    "n=[2,3,6,4,9,10]\n",
    "print(list(map(lambda x: x%3==0,n)))    "
   ]
  },
  {
   "cell_type": "code",
   "execution_count": 34,
   "id": "6f626423",
   "metadata": {},
   "outputs": [
    {
     "name": "stdout",
     "output_type": "stream",
     "text": [
      "[0.6666666666666666, 1.0, 2.0, 1.3333333333333333, 3.0, 3.3333333333333335]\n"
     ]
    }
   ],
   "source": [
    "n=[2,3,6,4,9,10]\n",
    "print(list(map(lambda x: x/3,n)))  "
   ]
  },
  {
   "cell_type": "markdown",
   "id": "8b13cfbf",
   "metadata": {},
   "source": [
    "#### 3.create a lambda function caluculate the remainder after dividing each number by 2"
   ]
  },
  {
   "cell_type": "code",
   "execution_count": 35,
   "id": "a9bc6f0f",
   "metadata": {},
   "outputs": [
    {
     "name": "stdout",
     "output_type": "stream",
     "text": [
      "[1.0, 1.5, 3.0, 2.0, 4.5, 5.0]\n"
     ]
    }
   ],
   "source": [
    "n=[2,3,6,4,9,10]\n",
    "print(list(map(lambda x:x/2,n)))"
   ]
  },
  {
   "cell_type": "code",
   "execution_count": 36,
   "id": "68c6b6e3",
   "metadata": {},
   "outputs": [
    {
     "name": "stdout",
     "output_type": "stream",
     "text": [
      "[0, 1, 0, 0, 1, 0]\n"
     ]
    }
   ],
   "source": [
    "n=[2,3,6,4,9,10]\n",
    "print(list(map(lambda x:x%2,n)))"
   ]
  },
  {
   "cell_type": "markdown",
   "id": "8ac0c011",
   "metadata": {},
   "source": [
    "### 4. list of words given . convert it into upper case"
   ]
  },
  {
   "cell_type": "code",
   "execution_count": 37,
   "id": "699e07cf",
   "metadata": {},
   "outputs": [
    {
     "name": "stdout",
     "output_type": "stream",
     "text": [
      "['IAM THE STRONG MAN, NOT THAT MUCH']\n"
     ]
    }
   ],
   "source": [
    "s=[\"iam the strong man, not that much\"]\n",
    "print(list(map(lambda x: x.upper(),s)))"
   ]
  },
  {
   "cell_type": "markdown",
   "id": "da86b8fe",
   "metadata": {},
   "source": [
    "#### 5. add two list using lambda function using map function "
   ]
  },
  {
   "cell_type": "code",
   "execution_count": 38,
   "id": "12085faf",
   "metadata": {},
   "outputs": [
    {
     "name": "stdout",
     "output_type": "stream",
     "text": [
      "[3, 7, 11, 15]\n"
     ]
    }
   ],
   "source": [
    "a=[2,4,6,8]\n",
    "b=[1,3,5,7]\n",
    "print(list(map(lambda x,y:x+y,a,b)))"
   ]
  },
  {
   "cell_type": "markdown",
   "id": "0e17bbd0",
   "metadata": {},
   "source": [
    "###### 6. A test was conducted in a class, the list of all the scores is given. Tha scores are out of 45. Obtain the percentage of each score using lambda function."
   ]
  },
  {
   "cell_type": "code",
   "execution_count": 40,
   "id": "549c264a",
   "metadata": {},
   "outputs": [
    {
     "data": {
      "text/plain": [
       "50.0"
      ]
     },
     "execution_count": 40,
     "metadata": {},
     "output_type": "execute_result"
    }
   ],
   "source": [
    "50/100*100\n",
    "\n"
   ]
  },
  {
   "cell_type": "code",
   "execution_count": 41,
   "id": "0c5c1dd3",
   "metadata": {},
   "outputs": [
    {
     "name": "stdout",
     "output_type": "stream",
     "text": [
      "[44.44444444444444, 51.11111111111111, 75.55555555555556, 100.0, 73.33333333333333, 22.22222222222222, 95.55555555555556, 51.11111111111111, 60.0, 75.55555555555556, 82.22222222222221, 97.77777777777777, 93.33333333333333, 95.55555555555556]\n"
     ]
    }
   ],
   "source": [
    "marks = [ 20, 23, 34, 45, 33, 10, 43, 23, 27, 34, 37, 44, 42, 43 ]\n",
    "print(list(map(lambda x: x/45*100,marks)))"
   ]
  },
  {
   "cell_type": "markdown",
   "id": "8cfdd0e0",
   "metadata": {},
   "source": [
    "## Lambda function with filters"
   ]
  },
  {
   "cell_type": "markdown",
   "id": "954449b1",
   "metadata": {},
   "source": [
    "### Normal function "
   ]
  },
  {
   "cell_type": "code",
   "execution_count": 44,
   "id": "1de572ec",
   "metadata": {},
   "outputs": [
    {
     "name": "stdout",
     "output_type": "stream",
     "text": [
      "5\n",
      "66\n"
     ]
    }
   ],
   "source": [
    "l1=[1,2,5,66]\n",
    "for i in l1:\n",
    "    if i >2:\n",
    "        print(i)"
   ]
  },
  {
   "cell_type": "code",
   "execution_count": 45,
   "id": "3bc6ea3b",
   "metadata": {},
   "outputs": [
    {
     "ename": "TypeError",
     "evalue": "'>' not supported between instances of 'list' and 'int'",
     "output_type": "error",
     "traceback": [
      "\u001b[1;31m---------------------------------------------------------------------------\u001b[0m",
      "\u001b[1;31mTypeError\u001b[0m                                 Traceback (most recent call last)",
      "\u001b[1;32m~\\AppData\\Local\\Temp/ipykernel_12000/2388285706.py\u001b[0m in \u001b[0;36m<module>\u001b[1;34m\u001b[0m\n\u001b[0;32m      1\u001b[0m \u001b[0ml1\u001b[0m\u001b[1;33m=\u001b[0m\u001b[1;33m[\u001b[0m\u001b[1;36m1\u001b[0m\u001b[1;33m,\u001b[0m\u001b[1;36m2\u001b[0m\u001b[1;33m,\u001b[0m\u001b[1;36m5\u001b[0m\u001b[1;33m,\u001b[0m\u001b[1;36m66\u001b[0m\u001b[1;33m]\u001b[0m\u001b[1;33m\u001b[0m\u001b[1;33m\u001b[0m\u001b[0m\n\u001b[1;32m----> 2\u001b[1;33m \u001b[1;32mif\u001b[0m \u001b[0ml1\u001b[0m\u001b[1;33m>\u001b[0m\u001b[1;36m2\u001b[0m\u001b[1;33m:\u001b[0m\u001b[1;33m\u001b[0m\u001b[1;33m\u001b[0m\u001b[0m\n\u001b[0m\u001b[0;32m      3\u001b[0m     \u001b[0mprint\u001b[0m\u001b[1;33m(\u001b[0m\u001b[0ml1\u001b[0m\u001b[1;33m)\u001b[0m\u001b[1;33m\u001b[0m\u001b[1;33m\u001b[0m\u001b[0m\n\u001b[0;32m      4\u001b[0m \u001b[1;33m\u001b[0m\u001b[0m\n",
      "\u001b[1;31mTypeError\u001b[0m: '>' not supported between instances of 'list' and 'int'"
     ]
    }
   ],
   "source": [
    "l1=[1,2,5,66]\n",
    "if l1>2:\n",
    "    print(l1)\n",
    "    "
   ]
  },
  {
   "cell_type": "markdown",
   "id": "c2262537",
   "metadata": {},
   "source": [
    "### Using lambda function "
   ]
  },
  {
   "cell_type": "code",
   "execution_count": 46,
   "id": "582aa5ea",
   "metadata": {},
   "outputs": [
    {
     "name": "stdout",
     "output_type": "stream",
     "text": [
      "[5, 66]\n"
     ]
    }
   ],
   "source": [
    "l1=[1,2,5,66]\n",
    "print(list(filter(lambda x: x>2,l1)))"
   ]
  },
  {
   "cell_type": "markdown",
   "id": "c8507d57",
   "metadata": {},
   "source": [
    "### 1. write a program to find the odd numbers in the list "
   ]
  },
  {
   "cell_type": "code",
   "execution_count": 47,
   "id": "1d1a7f91",
   "metadata": {},
   "outputs": [
    {
     "name": "stdout",
     "output_type": "stream",
     "text": [
      "[1, 3, 5, 89]\n"
     ]
    }
   ],
   "source": [
    "List=[1,2,3,4,5,6,78,89]\n",
    "print(list(filter(lambda x: x%2==1,List )))   #To find the odd value logic is x%2==1 , for x%2==0"
   ]
  },
  {
   "cell_type": "markdown",
   "id": "a35cf948",
   "metadata": {},
   "source": [
    "#### 2.write a program to check for palindromes in the list of string "
   ]
  },
  {
   "cell_type": "code",
   "execution_count": 48,
   "id": "0b33ccd3",
   "metadata": {},
   "outputs": [
    {
     "name": "stdout",
     "output_type": "stream",
     "text": [
      "['madam']\n"
     ]
    }
   ],
   "source": [
    "a=[\"Rahul\",\"black\",\"madam\"]\n",
    "print(list(filter(lambda x:x==x[::-1],a)))"
   ]
  },
  {
   "cell_type": "markdown",
   "id": "8c801de9",
   "metadata": {},
   "source": [
    "### common number among 2 list"
   ]
  },
  {
   "cell_type": "code",
   "execution_count": 59,
   "id": "b0c8b7c3",
   "metadata": {},
   "outputs": [
    {
     "ename": "TypeError",
     "evalue": "filter expected 2 arguments, got 3",
     "output_type": "error",
     "traceback": [
      "\u001b[1;31m---------------------------------------------------------------------------\u001b[0m",
      "\u001b[1;31mTypeError\u001b[0m                                 Traceback (most recent call last)",
      "\u001b[1;32m~\\AppData\\Local\\Temp/ipykernel_12000/1090879474.py\u001b[0m in \u001b[0;36m<module>\u001b[1;34m\u001b[0m\n\u001b[0;32m      2\u001b[0m \u001b[0mb\u001b[0m\u001b[1;33m=\u001b[0m\u001b[1;33m{\u001b[0m\u001b[1;36m4\u001b[0m\u001b[1;33m,\u001b[0m\u001b[1;36m5\u001b[0m\u001b[1;33m,\u001b[0m\u001b[1;36m6\u001b[0m\u001b[1;33m,\u001b[0m\u001b[1;36m7\u001b[0m\u001b[1;33m,\u001b[0m\u001b[1;36m8\u001b[0m\u001b[1;33m}\u001b[0m\u001b[1;33m\u001b[0m\u001b[1;33m\u001b[0m\u001b[0m\n\u001b[0;32m      3\u001b[0m \u001b[1;33m\u001b[0m\u001b[0m\n\u001b[1;32m----> 4\u001b[1;33m \u001b[0mprint\u001b[0m\u001b[1;33m(\u001b[0m\u001b[0mset\u001b[0m\u001b[1;33m(\u001b[0m\u001b[0mfilter\u001b[0m\u001b[1;33m(\u001b[0m\u001b[1;32mlambda\u001b[0m \u001b[0mx\u001b[0m \u001b[1;33m,\u001b[0m\u001b[0my\u001b[0m\u001b[1;33m:\u001b[0m\u001b[0mx\u001b[0m\u001b[1;33m.\u001b[0m\u001b[0mintersection\u001b[0m\u001b[1;33m(\u001b[0m\u001b[0my\u001b[0m\u001b[1;33m)\u001b[0m\u001b[1;33m,\u001b[0m\u001b[0ma\u001b[0m\u001b[1;33m,\u001b[0m\u001b[0mb\u001b[0m\u001b[1;33m)\u001b[0m\u001b[1;33m)\u001b[0m\u001b[1;33m)\u001b[0m\u001b[1;33m\u001b[0m\u001b[1;33m\u001b[0m\u001b[0m\n\u001b[0m",
      "\u001b[1;31mTypeError\u001b[0m: filter expected 2 arguments, got 3"
     ]
    }
   ],
   "source": [
    "a={1,2,3,4,5}\n",
    "b={4,5,6,7,8}\n",
    "\n",
    "print(set(filter(lambda x ,y:x.intersection(y),a,b)))      "
   ]
  },
  {
   "cell_type": "code",
   "execution_count": 4,
   "id": "eb9c2036",
   "metadata": {},
   "outputs": [
    {
     "data": {
      "text/plain": [
       "{4, 5}"
      ]
     },
     "execution_count": 4,
     "metadata": {},
     "output_type": "execute_result"
    }
   ],
   "source": [
    "a={1,2,3,4,5}\n",
    "b={4,5,6,7,8}\n",
    "set(filter(lambda x: x in b, a))"
   ]
  },
  {
   "cell_type": "code",
   "execution_count": null,
   "id": "bbb3f059",
   "metadata": {},
   "outputs": [],
   "source": []
  },
  {
   "cell_type": "code",
   "execution_count": null,
   "id": "edcec3bf",
   "metadata": {},
   "outputs": [],
   "source": []
  },
  {
   "cell_type": "code",
   "execution_count": 50,
   "id": "d73e0733",
   "metadata": {},
   "outputs": [
    {
     "ename": "AttributeError",
     "evalue": "'list' object has no attribute 'intersection'",
     "output_type": "error",
     "traceback": [
      "\u001b[1;31m---------------------------------------------------------------------------\u001b[0m",
      "\u001b[1;31mAttributeError\u001b[0m                            Traceback (most recent call last)",
      "\u001b[1;32m~\\AppData\\Local\\Temp/ipykernel_12000/2555129057.py\u001b[0m in \u001b[0;36m<module>\u001b[1;34m\u001b[0m\n\u001b[0;32m      1\u001b[0m \u001b[0ma\u001b[0m\u001b[1;33m=\u001b[0m\u001b[1;33m[\u001b[0m\u001b[1;36m1\u001b[0m\u001b[1;33m,\u001b[0m\u001b[1;36m2\u001b[0m\u001b[1;33m,\u001b[0m\u001b[1;36m3\u001b[0m\u001b[1;33m,\u001b[0m\u001b[1;36m4\u001b[0m\u001b[1;33m,\u001b[0m\u001b[1;36m5\u001b[0m\u001b[1;33m]\u001b[0m\u001b[1;33m\u001b[0m\u001b[1;33m\u001b[0m\u001b[0m\n\u001b[0;32m      2\u001b[0m \u001b[0mb\u001b[0m\u001b[1;33m=\u001b[0m\u001b[1;33m[\u001b[0m\u001b[1;36m4\u001b[0m\u001b[1;33m,\u001b[0m\u001b[1;36m5\u001b[0m\u001b[1;33m,\u001b[0m\u001b[1;36m6\u001b[0m\u001b[1;33m,\u001b[0m\u001b[1;36m7\u001b[0m\u001b[1;33m,\u001b[0m\u001b[1;36m8\u001b[0m\u001b[1;33m]\u001b[0m\u001b[1;33m\u001b[0m\u001b[1;33m\u001b[0m\u001b[0m\n\u001b[1;32m----> 3\u001b[1;33m \u001b[0ma\u001b[0m\u001b[1;33m.\u001b[0m\u001b[0mintersection\u001b[0m\u001b[1;33m(\u001b[0m\u001b[0mb\u001b[0m\u001b[1;33m)\u001b[0m\u001b[1;33m\u001b[0m\u001b[1;33m\u001b[0m\u001b[0m\n\u001b[0m",
      "\u001b[1;31mAttributeError\u001b[0m: 'list' object has no attribute 'intersection'"
     ]
    }
   ],
   "source": [
    "a=[1,2,3,4,5]\n",
    "b=[4,5,6,7,8]\n",
    "a.intersection(b)"
   ]
  },
  {
   "cell_type": "code",
   "execution_count": 51,
   "id": "055e491b",
   "metadata": {},
   "outputs": [
    {
     "data": {
      "text/plain": [
       "{4, 5}"
      ]
     },
     "execution_count": 51,
     "metadata": {},
     "output_type": "execute_result"
    }
   ],
   "source": [
    "a={1,2,3,4,5}\n",
    "b={4,5,6,7,8}\n",
    "a.intersection(b)"
   ]
  },
  {
   "cell_type": "code",
   "execution_count": null,
   "id": "c6fb3b34",
   "metadata": {},
   "outputs": [],
   "source": [
    "a=[1,2,3,4,5]\n",
    "b=[4,5,6,7,8]"
   ]
  },
  {
   "cell_type": "code",
   "execution_count": 60,
   "id": "e439def7",
   "metadata": {},
   "outputs": [
    {
     "data": {
      "text/plain": [
       "tuple"
      ]
     },
     "execution_count": 60,
     "metadata": {},
     "output_type": "execute_result"
    }
   ],
   "source": [
    "meta_data= ( )\n",
    "type(meta_data)"
   ]
  },
  {
   "cell_type": "code",
   "execution_count": 61,
   "id": "35e3a9d4",
   "metadata": {},
   "outputs": [
    {
     "ename": "TypeError",
     "evalue": "'tuple' object does not support item assignment",
     "output_type": "error",
     "traceback": [
      "\u001b[1;31m---------------------------------------------------------------------------\u001b[0m",
      "\u001b[1;31mTypeError\u001b[0m                                 Traceback (most recent call last)",
      "\u001b[1;32m~\\AppData\\Local\\Temp/ipykernel_12000/2311382758.py\u001b[0m in \u001b[0;36m<module>\u001b[1;34m\u001b[0m\n\u001b[0;32m      1\u001b[0m \u001b[0mx\u001b[0m\u001b[1;33m=\u001b[0m\u001b[1;33m[\u001b[0m\u001b[1;36m44\u001b[0m\u001b[1;33m,\u001b[0m\u001b[1;36m55\u001b[0m\u001b[1;33m,\u001b[0m\u001b[1;36m78\u001b[0m\u001b[1;33m]\u001b[0m\u001b[1;33m\u001b[0m\u001b[1;33m\u001b[0m\u001b[0m\n\u001b[0;32m      2\u001b[0m \u001b[0mx\u001b[0m\u001b[1;33m=\u001b[0m\u001b[0mtuple\u001b[0m\u001b[1;33m(\u001b[0m\u001b[0mx\u001b[0m\u001b[1;33m)\u001b[0m\u001b[1;33m\u001b[0m\u001b[1;33m\u001b[0m\u001b[0m\n\u001b[1;32m----> 3\u001b[1;33m \u001b[0mx\u001b[0m\u001b[1;33m[\u001b[0m\u001b[1;36m0\u001b[0m\u001b[1;33m]\u001b[0m\u001b[1;33m=\u001b[0m\u001b[1;36m999\u001b[0m\u001b[1;33m\u001b[0m\u001b[1;33m\u001b[0m\u001b[0m\n\u001b[0m\u001b[0;32m      4\u001b[0m \u001b[0mprint\u001b[0m\u001b[1;33m(\u001b[0m\u001b[0mx\u001b[0m\u001b[1;33m)\u001b[0m\u001b[1;33m\u001b[0m\u001b[1;33m\u001b[0m\u001b[0m\n",
      "\u001b[1;31mTypeError\u001b[0m: 'tuple' object does not support item assignment"
     ]
    }
   ],
   "source": [
    "x=[44,55,78]\n",
    "x=tuple(x)\n",
    "x[0]=999\n",
    "print(x)"
   ]
  },
  {
   "cell_type": "code",
   "execution_count": 62,
   "id": "b4b5b028",
   "metadata": {},
   "outputs": [
    {
     "data": {
      "text/plain": [
       "'e'"
      ]
     },
     "execution_count": 62,
     "metadata": {},
     "output_type": "execute_result"
    }
   ],
   "source": [
    "x=(\"hello\")\n",
    "x[1]"
   ]
  },
  {
   "cell_type": "code",
   "execution_count": null,
   "id": "6e62f0c9",
   "metadata": {},
   "outputs": [],
   "source": []
  }
 ],
 "metadata": {
  "kernelspec": {
   "display_name": "Python 3 (ipykernel)",
   "language": "python",
   "name": "python3"
  },
  "language_info": {
   "codemirror_mode": {
    "name": "ipython",
    "version": 3
   },
   "file_extension": ".py",
   "mimetype": "text/x-python",
   "name": "python",
   "nbconvert_exporter": "python",
   "pygments_lexer": "ipython3",
   "version": "3.9.7"
  }
 },
 "nbformat": 4,
 "nbformat_minor": 5
}
