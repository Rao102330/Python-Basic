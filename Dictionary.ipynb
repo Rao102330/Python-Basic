{
 "cells": [
  {
   "cell_type": "code",
   "execution_count": 1,
   "id": "3b2cd216",
   "metadata": {},
   "outputs": [
    {
     "data": {
      "text/plain": [
       "dict"
      ]
     },
     "execution_count": 1,
     "metadata": {},
     "output_type": "execute_result"
    }
   ],
   "source": [
    "a={}\n",
    "type(a)"
   ]
  },
  {
   "cell_type": "code",
   "execution_count": 2,
   "id": "6f052291",
   "metadata": {},
   "outputs": [
    {
     "data": {
      "text/plain": [
       "set"
      ]
     },
     "execution_count": 2,
     "metadata": {},
     "output_type": "execute_result"
    }
   ],
   "source": [
    "b={1,2}\n",
    "type(b)"
   ]
  },
  {
   "cell_type": "code",
   "execution_count": 3,
   "id": "99270298",
   "metadata": {},
   "outputs": [
    {
     "name": "stdout",
     "output_type": "stream",
     "text": [
      "60\n"
     ]
    }
   ],
   "source": [
    "def e_or_o(a):\n",
    "    b=50\n",
    "    print(a+b)\n",
    "e_or_o(10)"
   ]
  },
  {
   "cell_type": "code",
   "execution_count": 4,
   "id": "c4715dcd",
   "metadata": {},
   "outputs": [
    {
     "name": "stdout",
     "output_type": "stream",
     "text": [
      "even\n"
     ]
    }
   ],
   "source": [
    "def n(i):\n",
    "    if i%2==0:\n",
    "        print(\"even\")\n",
    "    else:\n",
    "        print(\"odd\")\n",
    "        \n",
    "n(10)        "
   ]
  },
  {
   "cell_type": "code",
   "execution_count": 5,
   "id": "f96e846e",
   "metadata": {},
   "outputs": [
    {
     "name": "stdout",
     "output_type": "stream",
     "text": [
      "odd\n"
     ]
    }
   ],
   "source": [
    "n(11)"
   ]
  },
  {
   "cell_type": "code",
   "execution_count": 6,
   "id": "700c2db6",
   "metadata": {},
   "outputs": [
    {
     "data": {
      "text/plain": [
       "3000"
      ]
     },
     "execution_count": 6,
     "metadata": {},
     "output_type": "execute_result"
    }
   ],
   "source": [
    "Y=[1,3,4,6,7,9,10, 4+7j, \"Hello world\", [2000,3000,1000]]\n",
    "Y[9][1]"
   ]
  },
  {
   "cell_type": "code",
   "execution_count": 10,
   "id": "491baaef",
   "metadata": {},
   "outputs": [
    {
     "data": {
      "text/plain": [
       "['2022-09-03']"
      ]
     },
     "execution_count": 10,
     "metadata": {},
     "output_type": "execute_result"
    }
   ],
   "source": [
    "g=[\"2022-09-03\"]\n",
    "g[0:9]"
   ]
  },
  {
   "cell_type": "code",
   "execution_count": 11,
   "id": "05d4112b",
   "metadata": {},
   "outputs": [
    {
     "ename": "SyntaxError",
     "evalue": "invalid syntax (Temp/ipykernel_2788/3819048438.py, line 2)",
     "output_type": "error",
     "traceback": [
      "\u001b[1;36m  File \u001b[1;32m\"C:\\Users\\USER\\AppData\\Local\\Temp/ipykernel_2788/3819048438.py\"\u001b[1;36m, line \u001b[1;32m2\u001b[0m\n\u001b[1;33m    square_dictionary.update(4:16)\u001b[0m\n\u001b[1;37m                              ^\u001b[0m\n\u001b[1;31mSyntaxError\u001b[0m\u001b[1;31m:\u001b[0m invalid syntax\n"
     ]
    }
   ],
   "source": [
    "square_dictionary = {1:1, 2:4, 3:9}\n",
    "square_dictionary.\n",
    "square_dictionary"
   ]
  },
  {
   "cell_type": "code",
   "execution_count": 15,
   "id": "ee0090f0",
   "metadata": {},
   "outputs": [
    {
     "data": {
      "text/plain": [
       "'python@gmail'"
      ]
     },
     "execution_count": 15,
     "metadata": {},
     "output_type": "execute_result"
    }
   ],
   "source": [
    "str_1=\"Hello,please meet me at 4pm @coffeehouseccd or email me python@gmail.com\"\n",
    "str_1[56:68]"
   ]
  },
  {
   "cell_type": "code",
   "execution_count": 19,
   "id": "81426d0d",
   "metadata": {},
   "outputs": [
    {
     "name": "stdout",
     "output_type": "stream",
     "text": [
      "30\n"
     ]
    }
   ],
   "source": [
    "a=10\n",
    "b=20\n",
    "c=lambda x ,y:x+y\n",
    "print(c(a,b))"
   ]
  },
  {
   "cell_type": "code",
   "execution_count": 18,
   "id": "abe62c11",
   "metadata": {},
   "outputs": [
    {
     "name": "stdout",
     "output_type": "stream",
     "text": [
      "10 20\n"
     ]
    }
   ],
   "source": [
    "a=10\n",
    "b=20\n",
    "c=lambda a,b:a+b\n",
    "print(a,b)"
   ]
  },
  {
   "cell_type": "code",
   "execution_count": null,
   "id": "55652ad4",
   "metadata": {},
   "outputs": [],
   "source": [
    "a=10\n",
    "b=20\n",
    "c=lambda x ,y:x+y\n",
    "print(c(a,b))"
   ]
  },
  {
   "cell_type": "code",
   "execution_count": null,
   "id": "5178180d",
   "metadata": {},
   "outputs": [],
   "source": []
  },
  {
   "cell_type": "markdown",
   "id": "9a58a98a",
   "metadata": {},
   "source": [
    "## Creating a empty dictionary"
   ]
  },
  {
   "cell_type": "code",
   "execution_count": 20,
   "id": "b35da3d0",
   "metadata": {},
   "outputs": [
    {
     "name": "stdout",
     "output_type": "stream",
     "text": [
      "<class 'dict'>\n"
     ]
    }
   ],
   "source": [
    "em_dict={}\n",
    "print(type(em_dict))"
   ]
  },
  {
   "cell_type": "code",
   "execution_count": 21,
   "id": "4d6ac256",
   "metadata": {},
   "outputs": [
    {
     "name": "stdout",
     "output_type": "stream",
     "text": [
      "<class 'set'>\n"
     ]
    }
   ],
   "source": [
    "em_dict={1,2}\n",
    "print(type(em_dict))"
   ]
  },
  {
   "cell_type": "markdown",
   "id": "da7c4d03",
   "metadata": {},
   "source": [
    "## Creating simple dictionary"
   ]
  },
  {
   "cell_type": "code",
   "execution_count": 22,
   "id": "cc119c42",
   "metadata": {},
   "outputs": [
    {
     "name": "stdout",
     "output_type": "stream",
     "text": [
      "{'Name': 'Rahul', 'Age': 22, 'Gender': 'Male'}\n",
      "\n",
      "<class 'dict'>\n"
     ]
    }
   ],
   "source": [
    "dict1={\"Name\":\"Rahul\",\"Age\":22,\"Gender\":\"Male\"}\n",
    "print(dict1)\n",
    "print()\n",
    "print(type(dict1))"
   ]
  },
  {
   "cell_type": "markdown",
   "id": "8283fe36",
   "metadata": {},
   "source": [
    "## Creating more values inside the dictionary using list\n"
   ]
  },
  {
   "cell_type": "code",
   "execution_count": 23,
   "id": "a1e42272",
   "metadata": {},
   "outputs": [
    {
     "name": "stdout",
     "output_type": "stream",
     "text": [
      "{'Names': ['Rahul', 'Supriya', 'Shankar'], 'Age': [22, 21, 25], 'Gender': ['Male', 'Female', 'Male']}\n",
      "\n",
      "<class 'dict'>\n"
     ]
    }
   ],
   "source": [
    "dict2={\"Names\":[\"Rahul\",\"Supriya\",\"Shankar\"],\"Age\":[22,21,25],\"Gender\":[\"Male\",\"Female\",\"Male\"]}\n",
    "print(dict2)\n",
    "print()\n",
    "print(type(dict2))\n"
   ]
  },
  {
   "cell_type": "code",
   "execution_count": 24,
   "id": "e45063a4",
   "metadata": {},
   "outputs": [
    {
     "name": "stdout",
     "output_type": "stream",
     "text": [
      "{'Names': ['Rahul', 'Supriya', 'Shankar'], 'Age': [22, 21], 'Gender': ['Male', 'Female', 'Male']}\n",
      "\n",
      "<class 'dict'>\n"
     ]
    }
   ],
   "source": [
    "#It will also run the code if u dont have same length in the dictionary inside\n",
    "dict2={\"Names\":[\"Rahul\",\"Supriya\",\"Shankar\"],\"Age\":[22,21],\"Gender\":[\"Male\",\"Female\",\"Male\"]}\n",
    "print(dict2)                                        #^^^^\n",
    "print()\n",
    "print(type(dict2))"
   ]
  },
  {
   "cell_type": "code",
   "execution_count": null,
   "id": "8635af58",
   "metadata": {},
   "outputs": [],
   "source": []
  },
  {
   "cell_type": "markdown",
   "id": "d6cfc628",
   "metadata": {},
   "source": [
    "### Accessing the values by using keys in the dictionary"
   ]
  },
  {
   "cell_type": "code",
   "execution_count": 25,
   "id": "97a3f203",
   "metadata": {},
   "outputs": [],
   "source": [
    "a = {'India':['ROhit_Sharma','DK',\"Dhoni\"],'Pak':['Babar','Inzumam','shadi_afradi'],\n",
    "     'Austrlia':['fintch','Symomns','Ricky_poting']}"
   ]
  },
  {
   "cell_type": "code",
   "execution_count": 26,
   "id": "60a1c0f9",
   "metadata": {},
   "outputs": [
    {
     "data": {
      "text/plain": [
       "['ROhit_Sharma', 'DK', 'Dhoni']"
      ]
     },
     "execution_count": 26,
     "metadata": {},
     "output_type": "execute_result"
    }
   ],
   "source": [
    "a[\"India\"]"
   ]
  },
  {
   "cell_type": "code",
   "execution_count": 27,
   "id": "c6fe0ce9",
   "metadata": {},
   "outputs": [
    {
     "data": {
      "text/plain": [
       "['fintch', 'Symomns', 'Ricky_poting']"
      ]
     },
     "execution_count": 27,
     "metadata": {},
     "output_type": "execute_result"
    }
   ],
   "source": [
    "a[\"Austrlia\"]"
   ]
  },
  {
   "cell_type": "code",
   "execution_count": 28,
   "id": "befa2506",
   "metadata": {},
   "outputs": [
    {
     "data": {
      "text/plain": [
       "['Babar', 'Inzumam', 'shadi_afradi']"
      ]
     },
     "execution_count": 28,
     "metadata": {},
     "output_type": "execute_result"
    }
   ],
   "source": [
    "a['Pak']"
   ]
  },
  {
   "cell_type": "markdown",
   "id": "62504014",
   "metadata": {},
   "source": [
    "## !!! WE CANT ACCESS VALUES BY USING INDEXING METHOD"
   ]
  },
  {
   "cell_type": "code",
   "execution_count": 29,
   "id": "74a770ec",
   "metadata": {},
   "outputs": [
    {
     "ename": "KeyError",
     "evalue": "0",
     "output_type": "error",
     "traceback": [
      "\u001b[1;31m---------------------------------------------------------------------------\u001b[0m",
      "\u001b[1;31mKeyError\u001b[0m                                  Traceback (most recent call last)",
      "\u001b[1;32m~\\AppData\\Local\\Temp/ipykernel_2788/1109539928.py\u001b[0m in \u001b[0;36m<module>\u001b[1;34m\u001b[0m\n\u001b[1;32m----> 1\u001b[1;33m \u001b[0ma\u001b[0m\u001b[1;33m[\u001b[0m\u001b[1;36m0\u001b[0m\u001b[1;33m]\u001b[0m\u001b[1;33m\u001b[0m\u001b[1;33m\u001b[0m\u001b[0m\n\u001b[0m",
      "\u001b[1;31mKeyError\u001b[0m: 0"
     ]
    }
   ],
   "source": [
    "a[0]"
   ]
  },
  {
   "cell_type": "code",
   "execution_count": 30,
   "id": "6b666b7f",
   "metadata": {},
   "outputs": [
    {
     "ename": "KeyError",
     "evalue": "1",
     "output_type": "error",
     "traceback": [
      "\u001b[1;31m---------------------------------------------------------------------------\u001b[0m",
      "\u001b[1;31mKeyError\u001b[0m                                  Traceback (most recent call last)",
      "\u001b[1;32m~\\AppData\\Local\\Temp/ipykernel_2788/240059899.py\u001b[0m in \u001b[0;36m<module>\u001b[1;34m\u001b[0m\n\u001b[1;32m----> 1\u001b[1;33m \u001b[0ma\u001b[0m\u001b[1;33m[\u001b[0m\u001b[1;36m1\u001b[0m\u001b[1;33m]\u001b[0m\u001b[1;33m\u001b[0m\u001b[1;33m\u001b[0m\u001b[0m\n\u001b[0m",
      "\u001b[1;31mKeyError\u001b[0m: 1"
     ]
    }
   ],
   "source": [
    "a[1]"
   ]
  },
  {
   "cell_type": "code",
   "execution_count": 31,
   "id": "2a5701e4",
   "metadata": {},
   "outputs": [
    {
     "data": {
      "text/plain": [
       "{'India': ['ROhit_Sharma', 'DK', 'Dhoni'],\n",
       " 'Pak': ['Babar', 'Inzumam', 'shadi_afradi'],\n",
       " 'Austrlia': ['fintch', 'Symomns', 'Ricky_poting']}"
      ]
     },
     "execution_count": 31,
     "metadata": {},
     "output_type": "execute_result"
    }
   ],
   "source": [
    "a"
   ]
  },
  {
   "cell_type": "code",
   "execution_count": 32,
   "id": "2ee35254",
   "metadata": {},
   "outputs": [
    {
     "ename": "KeyError",
     "evalue": "'ROhit_Sharma'",
     "output_type": "error",
     "traceback": [
      "\u001b[1;31m---------------------------------------------------------------------------\u001b[0m",
      "\u001b[1;31mKeyError\u001b[0m                                  Traceback (most recent call last)",
      "\u001b[1;32m~\\AppData\\Local\\Temp/ipykernel_2788/307978044.py\u001b[0m in \u001b[0;36m<module>\u001b[1;34m\u001b[0m\n\u001b[1;32m----> 1\u001b[1;33m \u001b[0ma\u001b[0m\u001b[1;33m[\u001b[0m\u001b[1;34m'ROhit_Sharma'\u001b[0m\u001b[1;33m]\u001b[0m\u001b[1;33m\u001b[0m\u001b[1;33m\u001b[0m\u001b[0m\n\u001b[0m",
      "\u001b[1;31mKeyError\u001b[0m: 'ROhit_Sharma'"
     ]
    }
   ],
   "source": [
    "a['ROhit_Sharma']"
   ]
  },
  {
   "cell_type": "markdown",
   "id": "be4df6b8",
   "metadata": {},
   "source": [
    "### if we want only values from the dictionary"
   ]
  },
  {
   "cell_type": "code",
   "execution_count": 35,
   "id": "5db85547",
   "metadata": {},
   "outputs": [
    {
     "name": "stdout",
     "output_type": "stream",
     "text": [
      "{'India': ['ROhit_Sharma', 'DK', 'Dhoni'], 'Pak': ['Babar', 'Inzumam', 'shadi_afradi'], 'Austrlia': ['fintch', 'Symomns', 'Ricky_poting']}\n",
      "\n",
      "dict_values([['ROhit_Sharma', 'DK', 'Dhoni'], ['Babar', 'Inzumam', 'shadi_afradi'], ['fintch', 'Symomns', 'Ricky_poting']])\n"
     ]
    }
   ],
   "source": [
    "print(a)\n",
    "print()\n",
    "print(a.values())"
   ]
  },
  {
   "cell_type": "markdown",
   "id": "52ce0fed",
   "metadata": {},
   "source": [
    "### if we want only keys from the dictionary"
   ]
  },
  {
   "cell_type": "code",
   "execution_count": 36,
   "id": "cdf79c41",
   "metadata": {},
   "outputs": [
    {
     "name": "stdout",
     "output_type": "stream",
     "text": [
      "{'India': ['ROhit_Sharma', 'DK', 'Dhoni'], 'Pak': ['Babar', 'Inzumam', 'shadi_afradi'], 'Austrlia': ['fintch', 'Symomns', 'Ricky_poting']}\n",
      "\n",
      "<class 'dict'>\n",
      "<built-in method keys of dict object at 0x0000029F580E8200>\n"
     ]
    }
   ],
   "source": [
    "print(a)\n",
    "print()\n",
    "print(type(a))\n",
    "print(a.keys)"
   ]
  },
  {
   "cell_type": "code",
   "execution_count": 37,
   "id": "aa074db6",
   "metadata": {},
   "outputs": [
    {
     "name": "stdout",
     "output_type": "stream",
     "text": [
      "{'India': ['ROhit_Sharma', 'DK', 'Dhoni'], 'Pak': ['Babar', 'Inzumam', 'shadi_afradi'], 'Austrlia': ['fintch', 'Symomns', 'Ricky_poting']}\n",
      "\n",
      "<class 'dict'>\n",
      "\n",
      "dict_keys(['India', 'Pak', 'Austrlia'])\n"
     ]
    }
   ],
   "source": [
    "print(a)\n",
    "print()\n",
    "print(type(a))\n",
    "print()\n",
    "print(a.keys())"
   ]
  },
  {
   "cell_type": "markdown",
   "id": "17a056f3",
   "metadata": {},
   "source": [
    "## If we want both keys and values in the dictionary"
   ]
  },
  {
   "cell_type": "code",
   "execution_count": 38,
   "id": "e3c9ff99",
   "metadata": {},
   "outputs": [
    {
     "name": "stdout",
     "output_type": "stream",
     "text": [
      "{'Roll_no': 4252, 'Batch_no': 4, 'Batch_name': 'Red'}\n",
      "\n",
      "dict_items([('Roll_no', 4252), ('Batch_no', 4), ('Batch_name', 'Red')])\n"
     ]
    }
   ],
   "source": [
    "item_dict={\"Roll_no\":4252,\"Batch_no\":4,\"Batch_name\":\"Red\"}\n",
    "print(item_dict)\n",
    "print()\n",
    "print(item_dict.items())"
   ]
  },
  {
   "cell_type": "markdown",
   "id": "d886071e",
   "metadata": {},
   "source": [
    "#### Creating empty dictionary and filling the items inside that "
   ]
  },
  {
   "cell_type": "code",
   "execution_count": 39,
   "id": "9f16a2ca",
   "metadata": {},
   "outputs": [
    {
     "name": "stdout",
     "output_type": "stream",
     "text": [
      "{'Rahul': 22, 'Raju': 21, 'Robert': 25}\n"
     ]
    }
   ],
   "source": [
    "scores={}\n",
    "\n",
    "scores[\"Rahul\"]=22\n",
    "scores[\"Raju\"]=21\n",
    "scores[\"Robert\"]=25\n",
    "print(scores)"
   ]
  },
  {
   "cell_type": "markdown",
   "id": "c93ac4f4",
   "metadata": {},
   "source": [
    "### get method"
   ]
  },
  {
   "cell_type": "code",
   "execution_count": 1,
   "id": "0ae7ef7a",
   "metadata": {},
   "outputs": [
    {
     "name": "stdout",
     "output_type": "stream",
     "text": [
      "{'India': 150, 'China': 200, 'USA': 80}\n",
      "\n",
      "150\n",
      "\n",
      "200\n",
      "\n",
      "80\n"
     ]
    }
   ],
   "source": [
    "population={\"India\":150,\"China\":200,\"USA\":80}\n",
    "print(population)\n",
    "print()\n",
    "print(population.get(\"India\"))\n",
    "print()\n",
    "print(population.get(\"China\"))\n",
    "print()\n",
    "print(population.get(\"USA\"))"
   ]
  },
  {
   "cell_type": "code",
   "execution_count": 2,
   "id": "c27c5c18",
   "metadata": {},
   "outputs": [
    {
     "data": {
      "text/plain": [
       "150"
      ]
     },
     "execution_count": 2,
     "metadata": {},
     "output_type": "execute_result"
    }
   ],
   "source": [
    "population[\"India\"]"
   ]
  },
  {
   "cell_type": "code",
   "execution_count": 3,
   "id": "91716c2d",
   "metadata": {},
   "outputs": [
    {
     "data": {
      "text/plain": [
       "80"
      ]
     },
     "execution_count": 3,
     "metadata": {},
     "output_type": "execute_result"
    }
   ],
   "source": [
    "population[\"USA\"]"
   ]
  },
  {
   "cell_type": "code",
   "execution_count": 4,
   "id": "efc70997",
   "metadata": {},
   "outputs": [
    {
     "ename": "KeyError",
     "evalue": "'Pakistan'",
     "output_type": "error",
     "traceback": [
      "\u001b[1;31m---------------------------------------------------------------------------\u001b[0m",
      "\u001b[1;31mKeyError\u001b[0m                                  Traceback (most recent call last)",
      "\u001b[1;32m~\\AppData\\Local\\Temp/ipykernel_9044/2342804699.py\u001b[0m in \u001b[0;36m<module>\u001b[1;34m\u001b[0m\n\u001b[1;32m----> 1\u001b[1;33m \u001b[0mpopulation\u001b[0m\u001b[1;33m[\u001b[0m\u001b[1;34m\"Pakistan\"\u001b[0m\u001b[1;33m]\u001b[0m\u001b[1;33m\u001b[0m\u001b[1;33m\u001b[0m\u001b[0m\n\u001b[0m",
      "\u001b[1;31mKeyError\u001b[0m: 'Pakistan'"
     ]
    }
   ],
   "source": [
    "population[\"Pakistan\"]"
   ]
  },
  {
   "cell_type": "code",
   "execution_count": 6,
   "id": "068cb4d6",
   "metadata": {},
   "outputs": [
    {
     "name": "stdout",
     "output_type": "stream",
     "text": [
      "None\n"
     ]
    }
   ],
   "source": [
    "print(population.get(\"Pakistan\"))"
   ]
  },
  {
   "cell_type": "code",
   "execution_count": 7,
   "id": "208c58f9",
   "metadata": {},
   "outputs": [
    {
     "data": {
      "text/plain": [
       "150"
      ]
     },
     "execution_count": 7,
     "metadata": {},
     "output_type": "execute_result"
    }
   ],
   "source": [
    "population.get(\"India\")"
   ]
  },
  {
   "cell_type": "markdown",
   "id": "51235edd",
   "metadata": {},
   "source": [
    "### Adding in dictionary"
   ]
  },
  {
   "cell_type": "code",
   "execution_count": 8,
   "id": "4f5f1fb6",
   "metadata": {},
   "outputs": [],
   "source": [
    "population={\"India\":150,\"China\":200,\"USA\":80}"
   ]
  },
  {
   "cell_type": "code",
   "execution_count": 9,
   "id": "ee476efe",
   "metadata": {},
   "outputs": [
    {
     "name": "stdout",
     "output_type": "stream",
     "text": [
      "{'India': 150, 'China': 200, 'USA': 80, 'Pakistan': 85}\n"
     ]
    }
   ],
   "source": [
    "population[\"Pakistan\"]=85\n",
    "print(population)"
   ]
  },
  {
   "cell_type": "code",
   "execution_count": 10,
   "id": "a3a5d28c",
   "metadata": {},
   "outputs": [
    {
     "name": "stdout",
     "output_type": "stream",
     "text": [
      "{'India': 150, 'China': 200, 'USA': 80, 'Pakistan': 85, 'UAE': 90}\n"
     ]
    }
   ],
   "source": [
    "population[\"UAE\"]=90\n",
    "print(population)"
   ]
  },
  {
   "cell_type": "markdown",
   "id": "212b9a1c",
   "metadata": {},
   "source": [
    "## Adding two dictionay"
   ]
  },
  {
   "cell_type": "code",
   "execution_count": 11,
   "id": "600e57f5",
   "metadata": {},
   "outputs": [
    {
     "ename": "TypeError",
     "evalue": "unsupported operand type(s) for +: 'dict' and 'dict'",
     "output_type": "error",
     "traceback": [
      "\u001b[1;31m---------------------------------------------------------------------------\u001b[0m",
      "\u001b[1;31mTypeError\u001b[0m                                 Traceback (most recent call last)",
      "\u001b[1;32m~\\AppData\\Local\\Temp/ipykernel_9044/1998473114.py\u001b[0m in \u001b[0;36m<module>\u001b[1;34m\u001b[0m\n\u001b[0;32m      1\u001b[0m \u001b[0mpopulation\u001b[0m\u001b[1;33m=\u001b[0m\u001b[1;33m{\u001b[0m\u001b[1;34m\"India\"\u001b[0m\u001b[1;33m:\u001b[0m\u001b[1;36m150\u001b[0m\u001b[1;33m,\u001b[0m\u001b[1;34m\"China\"\u001b[0m\u001b[1;33m:\u001b[0m\u001b[1;36m200\u001b[0m\u001b[1;33m,\u001b[0m\u001b[1;34m\"USA\"\u001b[0m\u001b[1;33m:\u001b[0m\u001b[1;36m80\u001b[0m\u001b[1;33m}\u001b[0m\u001b[1;33m\u001b[0m\u001b[1;33m\u001b[0m\u001b[0m\n\u001b[0;32m      2\u001b[0m \u001b[0mnew_population\u001b[0m\u001b[1;33m=\u001b[0m\u001b[1;33m{\u001b[0m\u001b[1;34m\"Pakistan\"\u001b[0m\u001b[1;33m:\u001b[0m\u001b[1;36m85\u001b[0m\u001b[1;33m,\u001b[0m\u001b[1;34m\"UAE\"\u001b[0m\u001b[1;33m:\u001b[0m\u001b[1;36m90\u001b[0m\u001b[1;33m}\u001b[0m\u001b[1;33m\u001b[0m\u001b[1;33m\u001b[0m\u001b[0m\n\u001b[1;32m----> 3\u001b[1;33m \u001b[0mprint\u001b[0m\u001b[1;33m(\u001b[0m\u001b[0mpopulation\u001b[0m\u001b[1;33m+\u001b[0m\u001b[0mnew_population\u001b[0m\u001b[1;33m)\u001b[0m\u001b[1;33m\u001b[0m\u001b[1;33m\u001b[0m\u001b[0m\n\u001b[0m",
      "\u001b[1;31mTypeError\u001b[0m: unsupported operand type(s) for +: 'dict' and 'dict'"
     ]
    }
   ],
   "source": [
    "population={\"India\":150,\"China\":200,\"USA\":80}\n",
    "new_population={\"Pakistan\":85,\"UAE\":90}\n",
    "print(population+new_population)\n"
   ]
  },
  {
   "cell_type": "markdown",
   "id": "06eb2997",
   "metadata": {},
   "source": [
    "### Deleting"
   ]
  },
  {
   "cell_type": "code",
   "execution_count": 12,
   "id": "5a27da28",
   "metadata": {},
   "outputs": [
    {
     "data": {
      "text/plain": [
       "{'Pakistan': 85, 'UAE': 90}"
      ]
     },
     "execution_count": 12,
     "metadata": {},
     "output_type": "execute_result"
    }
   ],
   "source": [
    "new_population\n"
   ]
  },
  {
   "cell_type": "code",
   "execution_count": 15,
   "id": "f8b0ec70",
   "metadata": {},
   "outputs": [
    {
     "ename": "NameError",
     "evalue": "name 'new_population' is not defined",
     "output_type": "error",
     "traceback": [
      "\u001b[1;31m---------------------------------------------------------------------------\u001b[0m",
      "\u001b[1;31mNameError\u001b[0m                                 Traceback (most recent call last)",
      "\u001b[1;32m~\\AppData\\Local\\Temp/ipykernel_9044/3687590707.py\u001b[0m in \u001b[0;36m<module>\u001b[1;34m\u001b[0m\n\u001b[1;32m----> 1\u001b[1;33m \u001b[0mprint\u001b[0m\u001b[1;33m(\u001b[0m\u001b[0mnew_population\u001b[0m\u001b[1;33m)\u001b[0m\u001b[1;33m\u001b[0m\u001b[1;33m\u001b[0m\u001b[0m\n\u001b[0m\u001b[0;32m      2\u001b[0m \u001b[1;32mdel\u001b[0m \u001b[0mnew_population\u001b[0m\u001b[1;33m\u001b[0m\u001b[1;33m\u001b[0m\u001b[0m\n\u001b[0;32m      3\u001b[0m \u001b[0mprint\u001b[0m\u001b[1;33m(\u001b[0m\u001b[0mnew_population\u001b[0m\u001b[1;33m)\u001b[0m\u001b[1;33m\u001b[0m\u001b[1;33m\u001b[0m\u001b[0m\n",
      "\u001b[1;31mNameError\u001b[0m: name 'new_population' is not defined"
     ]
    }
   ],
   "source": [
    "print(new_population)\n",
    "del new_population\n",
    "print(new_population)"
   ]
  },
  {
   "cell_type": "markdown",
   "id": "42172030",
   "metadata": {},
   "source": [
    "## update"
   ]
  },
  {
   "cell_type": "code",
   "execution_count": 16,
   "id": "c68197a9",
   "metadata": {},
   "outputs": [
    {
     "name": "stdout",
     "output_type": "stream",
     "text": [
      "{'India': 150, 'China': 200, 'USA': 80, 'IRELAND': [30, 50]}\n"
     ]
    }
   ],
   "source": [
    "population[\"IRELAND\"]=[30,50]\n",
    "print(population)"
   ]
  },
  {
   "cell_type": "code",
   "execution_count": 17,
   "id": "03d6c111",
   "metadata": {},
   "outputs": [
    {
     "name": "stdout",
     "output_type": "stream",
     "text": [
      "{'India': 150, 'China': 200, 'USA': 80, 'IRELAND': (30, 50)}\n"
     ]
    }
   ],
   "source": [
    "population[\"IRELAND\"]=(30,50)\n",
    "print(population)"
   ]
  },
  {
   "cell_type": "markdown",
   "id": "c587b6ad",
   "metadata": {},
   "source": [
    "## pop"
   ]
  },
  {
   "cell_type": "code",
   "execution_count": 18,
   "id": "1cc98952",
   "metadata": {},
   "outputs": [],
   "source": [
    "a = {'India':12,'china':11,'USA':10}"
   ]
  },
  {
   "cell_type": "code",
   "execution_count": 20,
   "id": "1624f008",
   "metadata": {},
   "outputs": [
    {
     "name": "stdout",
     "output_type": "stream",
     "text": [
      "10\n"
     ]
    }
   ],
   "source": [
    "print(a.pop('USA'))"
   ]
  },
  {
   "cell_type": "code",
   "execution_count": 21,
   "id": "0f6b4656",
   "metadata": {},
   "outputs": [
    {
     "ename": "TypeError",
     "evalue": "pop expected at least 1 argument, got 0",
     "output_type": "error",
     "traceback": [
      "\u001b[1;31m---------------------------------------------------------------------------\u001b[0m",
      "\u001b[1;31mTypeError\u001b[0m                                 Traceback (most recent call last)",
      "\u001b[1;32m~\\AppData\\Local\\Temp/ipykernel_9044/3712387054.py\u001b[0m in \u001b[0;36m<module>\u001b[1;34m\u001b[0m\n\u001b[1;32m----> 1\u001b[1;33m \u001b[0mprint\u001b[0m\u001b[1;33m(\u001b[0m\u001b[0ma\u001b[0m\u001b[1;33m.\u001b[0m\u001b[0mpop\u001b[0m\u001b[1;33m(\u001b[0m\u001b[1;33m)\u001b[0m\u001b[1;33m)\u001b[0m\u001b[1;33m\u001b[0m\u001b[1;33m\u001b[0m\u001b[0m\n\u001b[0m",
      "\u001b[1;31mTypeError\u001b[0m: pop expected at least 1 argument, got 0"
     ]
    }
   ],
   "source": [
    "print(a.pop())"
   ]
  },
  {
   "cell_type": "markdown",
   "id": "c6e17fa4",
   "metadata": {},
   "source": [
    "### Clear"
   ]
  },
  {
   "cell_type": "raw",
   "id": "4e6035a9",
   "metadata": {},
   "source": [
    "this function will clear all elements inside the dictionary, if we re check it will show empty dictionary"
   ]
  },
  {
   "cell_type": "code",
   "execution_count": 22,
   "id": "9a64c190",
   "metadata": {},
   "outputs": [
    {
     "data": {
      "text/plain": [
       "{'India': 12, 'china': 11}"
      ]
     },
     "execution_count": 22,
     "metadata": {},
     "output_type": "execute_result"
    }
   ],
   "source": [
    "a"
   ]
  },
  {
   "cell_type": "code",
   "execution_count": 23,
   "id": "655d1356",
   "metadata": {},
   "outputs": [
    {
     "name": "stdout",
     "output_type": "stream",
     "text": [
      "None\n",
      "{}\n"
     ]
    }
   ],
   "source": [
    "print(a.clear())\n",
    "print(a)"
   ]
  },
  {
   "cell_type": "markdown",
   "id": "adbca04d",
   "metadata": {},
   "source": [
    "## Pop items"
   ]
  },
  {
   "cell_type": "markdown",
   "id": "9343f8a0",
   "metadata": {},
   "source": [
    "pop_items will delete the last item in the dictionary "
   ]
  },
  {
   "cell_type": "code",
   "execution_count": 24,
   "id": "a6b003d4",
   "metadata": {},
   "outputs": [],
   "source": [
    "population={\"India\":150,\"China\":200,\"USA\":80}"
   ]
  },
  {
   "cell_type": "code",
   "execution_count": 25,
   "id": "3575d496",
   "metadata": {},
   "outputs": [
    {
     "name": "stdout",
     "output_type": "stream",
     "text": [
      "{'India': 150, 'China': 200, 'USA': 80}\n",
      "('USA', 80)\n",
      "{'India': 150, 'China': 200}\n"
     ]
    }
   ],
   "source": [
    "print(population)\n",
    "print(population.popitem())\n",
    "print(population)"
   ]
  },
  {
   "cell_type": "markdown",
   "id": "81fd9e2f",
   "metadata": {},
   "source": [
    "## Assining the value inside the dictionary using for loop"
   ]
  },
  {
   "cell_type": "code",
   "execution_count": 26,
   "id": "26c8a465",
   "metadata": {},
   "outputs": [],
   "source": [
    "population={\"India\":150,\"China\":200,\"USA\":80}"
   ]
  },
  {
   "cell_type": "code",
   "execution_count": 29,
   "id": "a5bdda83",
   "metadata": {},
   "outputs": [
    {
     "name": "stdout",
     "output_type": "stream",
     "text": [
      "India = 150\n",
      "\n",
      "China = 200\n",
      "\n",
      "USA = 80\n",
      "\n"
     ]
    }
   ],
   "source": [
    "for i , j in population.items():\n",
    "    print(i,\"=\",j)\n",
    "    print()"
   ]
  },
  {
   "cell_type": "code",
   "execution_count": 34,
   "id": "8f6efe51",
   "metadata": {},
   "outputs": [
    {
     "name": "stdout",
     "output_type": "stream",
     "text": [
      "dict_keys(['India', 'China', 'USA']) 160\n",
      "\n",
      "dict_keys(['India', 'China', 'USA']) 210\n",
      "\n",
      "dict_keys(['India', 'China', 'USA']) 90\n",
      "\n"
     ]
    }
   ],
   "source": [
    "for i in population.values():\n",
    "    print(population.keys(),i+10)\n",
    "    print()"
   ]
  },
  {
   "cell_type": "code",
   "execution_count": 40,
   "id": "b6a1b780",
   "metadata": {},
   "outputs": [
    {
     "name": "stdout",
     "output_type": "stream",
     "text": [
      "150 150\n",
      "200 200\n",
      "80 80\n",
      "{'India': 150, 'China': 200, 'USA': 80}\n"
     ]
    }
   ],
   "source": [
    "for i in population.keys():\n",
    "    print(population[i],population[i])\n",
    "print(population)    "
   ]
  },
  {
   "cell_type": "code",
   "execution_count": 41,
   "id": "f19d7f39",
   "metadata": {},
   "outputs": [
    {
     "name": "stdout",
     "output_type": "stream",
     "text": [
      "669\n"
     ]
    }
   ],
   "source": [
    "x=\"66\"\n",
    "y= x+str(9)\n",
    "print(y)"
   ]
  },
  {
   "cell_type": "code",
   "execution_count": 42,
   "id": "49ac826c",
   "metadata": {},
   "outputs": [
    {
     "ename": "SyntaxError",
     "evalue": "invalid syntax (Temp/ipykernel_9044/2484534682.py, line 1)",
     "output_type": "error",
     "traceback": [
      "\u001b[1;36m  File \u001b[1;32m\"C:\\Users\\USER\\AppData\\Local\\Temp/ipykernel_9044/2484534682.py\"\u001b[1;36m, line \u001b[1;32m1\u001b[0m\n\u001b[1;33m    a b c = 3000 6000 8000\u001b[0m\n\u001b[1;37m      ^\u001b[0m\n\u001b[1;31mSyntaxError\u001b[0m\u001b[1;31m:\u001b[0m invalid syntax\n"
     ]
    }
   ],
   "source": [
    "a b c = 3000 6000 8000"
   ]
  },
  {
   "cell_type": "code",
   "execution_count": 43,
   "id": "8985a651",
   "metadata": {},
   "outputs": [
    {
     "data": {
      "text/plain": [
       "2"
      ]
     },
     "execution_count": 43,
     "metadata": {},
     "output_type": "execute_result"
    }
   ],
   "source": [
    "22%4"
   ]
  },
  {
   "cell_type": "code",
   "execution_count": 44,
   "id": "e73933c8",
   "metadata": {},
   "outputs": [
    {
     "data": {
      "text/plain": [
       "'hello, world, universe'"
      ]
     },
     "execution_count": 44,
     "metadata": {},
     "output_type": "execute_result"
    }
   ],
   "source": [
    "t = '%(a)s, %(b)s, %(c)s'\n",
    "t % dict(a='hello', b='world', c='universe')"
   ]
  },
  {
   "cell_type": "code",
   "execution_count": 50,
   "id": "b1075a34",
   "metadata": {},
   "outputs": [
    {
     "ename": "SyntaxError",
     "evalue": "invalid syntax (Temp/ipykernel_9044/1916023454.py, line 1)",
     "output_type": "error",
     "traceback": [
      "\u001b[1;36m  File \u001b[1;32m\"C:\\Users\\USER\\AppData\\Local\\Temp/ipykernel_9044/1916023454.py\"\u001b[1;36m, line \u001b[1;32m1\u001b[0m\n\u001b[1;33m    k = 2 + 3i\u001b[0m\n\u001b[1;37m             ^\u001b[0m\n\u001b[1;31mSyntaxError\u001b[0m\u001b[1;31m:\u001b[0m invalid syntax\n"
     ]
    }
   ],
   "source": [
    "k = 2 + 3i\n",
    "type(k)"
   ]
  },
  {
   "cell_type": "code",
   "execution_count": 46,
   "id": "f4855e3b",
   "metadata": {},
   "outputs": [
    {
     "data": {
      "text/plain": [
       "inf"
      ]
     },
     "execution_count": 46,
     "metadata": {},
     "output_type": "execute_result"
    }
   ],
   "source": [
    "float('inf')"
   ]
  },
  {
   "cell_type": "code",
   "execution_count": 47,
   "id": "68c9594a",
   "metadata": {},
   "outputs": [
    {
     "data": {
      "text/plain": [
       "5678.0"
      ]
     },
     "execution_count": 47,
     "metadata": {},
     "output_type": "execute_result"
    }
   ],
   "source": [
    "float('56'+'78')"
   ]
  },
  {
   "cell_type": "code",
   "execution_count": 48,
   "id": "b1ddace9",
   "metadata": {},
   "outputs": [
    {
     "ename": "ValueError",
     "evalue": "could not convert string to float: '12+34'",
     "output_type": "error",
     "traceback": [
      "\u001b[1;31m---------------------------------------------------------------------------\u001b[0m",
      "\u001b[1;31mValueError\u001b[0m                                Traceback (most recent call last)",
      "\u001b[1;32m~\\AppData\\Local\\Temp/ipykernel_9044/808653645.py\u001b[0m in \u001b[0;36m<module>\u001b[1;34m\u001b[0m\n\u001b[1;32m----> 1\u001b[1;33m \u001b[0mfloat\u001b[0m\u001b[1;33m(\u001b[0m\u001b[1;34m'12+34'\u001b[0m\u001b[1;33m)\u001b[0m\u001b[1;33m\u001b[0m\u001b[1;33m\u001b[0m\u001b[0m\n\u001b[0m",
      "\u001b[1;31mValueError\u001b[0m: could not convert string to float: '12+34'"
     ]
    }
   ],
   "source": [
    "float('12+34')"
   ]
  },
  {
   "cell_type": "code",
   "execution_count": 49,
   "id": "7eee45ac",
   "metadata": {},
   "outputs": [
    {
     "data": {
      "text/plain": [
       "6"
      ]
     },
     "execution_count": 49,
     "metadata": {},
     "output_type": "execute_result"
    }
   ],
   "source": [
    "~~~~~~6"
   ]
  },
  {
   "cell_type": "code",
   "execution_count": null,
   "id": "a99c9337",
   "metadata": {},
   "outputs": [],
   "source": []
  }
 ],
 "metadata": {
  "kernelspec": {
   "display_name": "Python 3 (ipykernel)",
   "language": "python",
   "name": "python3"
  },
  "language_info": {
   "codemirror_mode": {
    "name": "ipython",
    "version": 3
   },
   "file_extension": ".py",
   "mimetype": "text/x-python",
   "name": "python",
   "nbconvert_exporter": "python",
   "pygments_lexer": "ipython3",
   "version": "3.9.7"
  }
 },
 "nbformat": 4,
 "nbformat_minor": 5
}
