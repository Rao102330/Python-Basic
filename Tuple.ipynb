{
 "cells": [
  {
   "cell_type": "markdown",
   "id": "0f6ff8b6",
   "metadata": {},
   "source": [
    "## creating tuple"
   ]
  },
  {
   "cell_type": "code",
   "execution_count": 1,
   "id": "17d47fe4",
   "metadata": {},
   "outputs": [
    {
     "name": "stdout",
     "output_type": "stream",
     "text": [
      "(12, 23, 24, 25)\n",
      "\n",
      "<class 'tuple'>\n"
     ]
    }
   ],
   "source": [
    "t1=(12,23,24,25)\n",
    "print(t1)\n",
    "print()\n",
    "print(type(t1))"
   ]
  },
  {
   "cell_type": "markdown",
   "id": "d3127fbb",
   "metadata": {},
   "source": [
    "## creating tuple using float values inside the tuple"
   ]
  },
  {
   "cell_type": "code",
   "execution_count": 2,
   "id": "c0cecc0b",
   "metadata": {},
   "outputs": [
    {
     "name": "stdout",
     "output_type": "stream",
     "text": [
      "(12.5, 25.5, 23.5, 2.6)\n",
      "\n",
      "<class 'tuple'>\n"
     ]
    }
   ],
   "source": [
    "t2=(12.5,25.5,23.5,2.6)\n",
    "print(t2)\n",
    "print()\n",
    "print(type(t2))"
   ]
  },
  {
   "cell_type": "markdown",
   "id": "77fee309",
   "metadata": {},
   "source": [
    "## creating tuple using strings"
   ]
  },
  {
   "cell_type": "code",
   "execution_count": 4,
   "id": "71f903d0",
   "metadata": {},
   "outputs": [
    {
     "name": "stdout",
     "output_type": "stream",
     "text": [
      "('a', 's', 'c', 'v', 'a')\n",
      "\n",
      "<class 'tuple'>\n"
     ]
    }
   ],
   "source": [
    "t3=(\"a\",\"s\",\"c\",\"v\",\"a\")\n",
    "print(t3)\n",
    "print()\n",
    "print(type(t3))"
   ]
  },
  {
   "cell_type": "markdown",
   "id": "2066fabf",
   "metadata": {},
   "source": [
    "## creating a tuple using all int , float , string"
   ]
  },
  {
   "cell_type": "code",
   "execution_count": 5,
   "id": "c11719bf",
   "metadata": {},
   "outputs": [
    {
     "name": "stdout",
     "output_type": "stream",
     "text": [
      "(12, 12.5, '12') \n",
      "\n",
      "<class 'tuple'>\n"
     ]
    }
   ],
   "source": [
    "t4=(12,12.5,\"12\")\n",
    "print(t4,\"\\n\")\n",
    "print(type(t4))\n"
   ]
  },
  {
   "cell_type": "markdown",
   "id": "7c5af80c",
   "metadata": {},
   "source": [
    "## Tuple will alow duplicate values"
   ]
  },
  {
   "cell_type": "code",
   "execution_count": 6,
   "id": "bc2050e8",
   "metadata": {},
   "outputs": [
    {
     "name": "stdout",
     "output_type": "stream",
     "text": [
      "(2, 2, 2, 3, 3, 3) \n",
      "\n",
      "<class 'tuple'>\n"
     ]
    }
   ],
   "source": [
    "dup_tu=(2,2,2,3,3,3)\n",
    "print(dup_tu,\"\\n\")\n",
    "print(type(dup_tu))"
   ]
  },
  {
   "cell_type": "markdown",
   "id": "b8f5882c",
   "metadata": {},
   "source": [
    "## List inide the tuple"
   ]
  },
  {
   "cell_type": "code",
   "execution_count": 7,
   "id": "ddb89b7a",
   "metadata": {},
   "outputs": [
    {
     "name": "stdout",
     "output_type": "stream",
     "text": [
      "([1, 2, 3], [4, 5, 6])\n",
      "\n",
      "<class 'tuple'>\n"
     ]
    }
   ],
   "source": [
    "lst_tu=([1,2,3],[4,5,6])\n",
    "print(lst_tu)\n",
    "print()\n",
    "print(type(lst_tu))"
   ]
  },
  {
   "cell_type": "markdown",
   "id": "72ca96e1",
   "metadata": {},
   "source": [
    "## Tuple is immutable(unchangeble)"
   ]
  },
  {
   "cell_type": "code",
   "execution_count": 8,
   "id": "43fd7355",
   "metadata": {},
   "outputs": [
    {
     "ename": "TypeError",
     "evalue": "'tuple' object does not support item assignment",
     "output_type": "error",
     "traceback": [
      "\u001b[1;31m---------------------------------------------------------------------------\u001b[0m",
      "\u001b[1;31mTypeError\u001b[0m                                 Traceback (most recent call last)",
      "\u001b[1;32m~\\AppData\\Local\\Temp/ipykernel_14120/3857197181.py\u001b[0m in \u001b[0;36m<module>\u001b[1;34m\u001b[0m\n\u001b[0;32m      2\u001b[0m \u001b[1;33m\u001b[0m\u001b[0m\n\u001b[0;32m      3\u001b[0m \u001b[0ma\u001b[0m \u001b[1;33m=\u001b[0m \u001b[1;33m(\u001b[0m\u001b[1;36m10\u001b[0m\u001b[1;33m,\u001b[0m\u001b[1;36m12.4\u001b[0m\u001b[1;33m,\u001b[0m\u001b[1;34m'kamal'\u001b[0m\u001b[1;33m)\u001b[0m\u001b[1;33m\u001b[0m\u001b[1;33m\u001b[0m\u001b[0m\n\u001b[1;32m----> 4\u001b[1;33m \u001b[0ma\u001b[0m\u001b[1;33m[\u001b[0m\u001b[1;36m3\u001b[0m\u001b[1;33m]\u001b[0m \u001b[1;33m=\u001b[0m \u001b[1;36m100\u001b[0m\u001b[1;33m\u001b[0m\u001b[1;33m\u001b[0m\u001b[0m\n\u001b[0m\u001b[0;32m      5\u001b[0m \u001b[0mprint\u001b[0m\u001b[1;33m(\u001b[0m\u001b[0ma\u001b[0m\u001b[1;33m)\u001b[0m\u001b[1;33m\u001b[0m\u001b[1;33m\u001b[0m\u001b[0m\n",
      "\u001b[1;31mTypeError\u001b[0m: 'tuple' object does not support item assignment"
     ]
    }
   ],
   "source": [
    "## adding \n",
    "\n",
    "a = (10,12.4,'kamal')\n",
    "a[3] = 100\n",
    "print(a)"
   ]
  },
  {
   "cell_type": "code",
   "execution_count": 9,
   "id": "79e3d314",
   "metadata": {},
   "outputs": [
    {
     "ename": "TypeError",
     "evalue": "'tuple' object does not support item assignment",
     "output_type": "error",
     "traceback": [
      "\u001b[1;31m---------------------------------------------------------------------------\u001b[0m",
      "\u001b[1;31mTypeError\u001b[0m                                 Traceback (most recent call last)",
      "\u001b[1;32m~\\AppData\\Local\\Temp/ipykernel_14120/1489630496.py\u001b[0m in \u001b[0;36m<module>\u001b[1;34m\u001b[0m\n\u001b[0;32m      2\u001b[0m \u001b[1;33m\u001b[0m\u001b[0m\n\u001b[0;32m      3\u001b[0m \u001b[0ma\u001b[0m \u001b[1;33m=\u001b[0m \u001b[1;33m(\u001b[0m\u001b[1;36m10\u001b[0m\u001b[1;33m,\u001b[0m\u001b[1;36m12.4\u001b[0m\u001b[1;33m,\u001b[0m\u001b[1;34m'kamal'\u001b[0m\u001b[1;33m)\u001b[0m\u001b[1;33m\u001b[0m\u001b[1;33m\u001b[0m\u001b[0m\n\u001b[1;32m----> 4\u001b[1;33m \u001b[0ma\u001b[0m\u001b[1;33m[\u001b[0m\u001b[1;36m0\u001b[0m\u001b[1;33m]\u001b[0m \u001b[1;33m=\u001b[0m \u001b[1;36m500\u001b[0m\u001b[1;33m\u001b[0m\u001b[1;33m\u001b[0m\u001b[0m\n\u001b[0m\u001b[0;32m      5\u001b[0m \u001b[0mprint\u001b[0m\u001b[1;33m(\u001b[0m\u001b[0ma\u001b[0m\u001b[1;33m)\u001b[0m\u001b[1;33m\u001b[0m\u001b[1;33m\u001b[0m\u001b[0m\n",
      "\u001b[1;31mTypeError\u001b[0m: 'tuple' object does not support item assignment"
     ]
    }
   ],
   "source": [
    "## update \n",
    "\n",
    "a = (10,12.4,'kamal')\n",
    "a[0] = 500\n",
    "print(a)"
   ]
  },
  {
   "cell_type": "code",
   "execution_count": 10,
   "id": "f12efb69",
   "metadata": {},
   "outputs": [
    {
     "ename": "TypeError",
     "evalue": "'tuple' object doesn't support item deletion",
     "output_type": "error",
     "traceback": [
      "\u001b[1;31m---------------------------------------------------------------------------\u001b[0m",
      "\u001b[1;31mTypeError\u001b[0m                                 Traceback (most recent call last)",
      "\u001b[1;32m~\\AppData\\Local\\Temp/ipykernel_14120/1420059064.py\u001b[0m in \u001b[0;36m<module>\u001b[1;34m\u001b[0m\n\u001b[0;32m      2\u001b[0m \u001b[1;33m\u001b[0m\u001b[0m\n\u001b[0;32m      3\u001b[0m \u001b[0ma\u001b[0m \u001b[1;33m=\u001b[0m \u001b[1;33m(\u001b[0m\u001b[1;36m10\u001b[0m\u001b[1;33m,\u001b[0m\u001b[1;36m12.4\u001b[0m\u001b[1;33m,\u001b[0m\u001b[1;34m'kamal'\u001b[0m\u001b[1;33m)\u001b[0m\u001b[1;33m\u001b[0m\u001b[1;33m\u001b[0m\u001b[0m\n\u001b[1;32m----> 4\u001b[1;33m \u001b[1;32mdel\u001b[0m \u001b[0ma\u001b[0m\u001b[1;33m[\u001b[0m\u001b[1;36m0\u001b[0m\u001b[1;33m]\u001b[0m\u001b[1;33m\u001b[0m\u001b[1;33m\u001b[0m\u001b[0m\n\u001b[0m\u001b[0;32m      5\u001b[0m \u001b[0mprint\u001b[0m\u001b[1;33m(\u001b[0m\u001b[0ma\u001b[0m\u001b[1;33m)\u001b[0m\u001b[1;33m\u001b[0m\u001b[1;33m\u001b[0m\u001b[0m\n",
      "\u001b[1;31mTypeError\u001b[0m: 'tuple' object doesn't support item deletion"
     ]
    }
   ],
   "source": [
    "## delete  \n",
    "\n",
    "a = (10,12.4,'kamal')\n",
    "del a[0]\n",
    "print(a)"
   ]
  },
  {
   "cell_type": "raw",
   "id": "47fa5866",
   "metadata": {},
   "source": [
    "From the above lines of code we can consider that tuple is immutable that we cant add,update,del"
   ]
  },
  {
   "cell_type": "markdown",
   "id": "f9716c9f",
   "metadata": {},
   "source": [
    "# Tuple built in functions"
   ]
  },
  {
   "cell_type": "markdown",
   "id": "0c0d7d24",
   "metadata": {},
   "source": [
    "### count"
   ]
  },
  {
   "cell_type": "code",
   "execution_count": 11,
   "id": "b90a5cd8",
   "metadata": {},
   "outputs": [
    {
     "name": "stdout",
     "output_type": "stream",
     "text": [
      "(2, 2, 33, 25, 2, 5, 5, 3, 3, 56)\n",
      "\n"
     ]
    },
    {
     "data": {
      "text/plain": [
       "2"
      ]
     },
     "execution_count": 11,
     "metadata": {},
     "output_type": "execute_result"
    }
   ],
   "source": [
    "c_tu=(2,2,33,25,2,5,5,3,3,56,)\n",
    "print(c_tu)\n",
    "print()\n",
    "c_tu.count(5)\n"
   ]
  },
  {
   "cell_type": "markdown",
   "id": "b5c79ea5",
   "metadata": {},
   "source": [
    "## count function when there is nested type "
   ]
  },
  {
   "cell_type": "code",
   "execution_count": 12,
   "id": "3f29ad7a",
   "metadata": {},
   "outputs": [
    {
     "name": "stdout",
     "output_type": "stream",
     "text": [
      "(10, [10, 20, 10, 10], (20, 30, 30, 20), 20)\n",
      "\n",
      "1\n"
     ]
    }
   ],
   "source": [
    "c_tu_n=(10,[10,20,10,10],(20,30,30,20),20)\n",
    "print(c_tu_n)\n",
    "print()\n",
    "print(c_tu_n.count(10))\n"
   ]
  },
  {
   "cell_type": "code",
   "execution_count": 14,
   "id": "0dbc06f0",
   "metadata": {},
   "outputs": [
    {
     "name": "stdout",
     "output_type": "stream",
     "text": [
      "(10, [10, 20, 10, 10], (20, 30, 30, 20), 20)\n",
      "\n",
      "1\n"
     ]
    }
   ],
   "source": [
    "c_tu_n=(10,[10,20,10,10],(20,30,30,20),20)\n",
    "print(c_tu_n)\n",
    "print()\n",
    "print(c_tu_n[1].count(20))"
   ]
  },
  {
   "cell_type": "code",
   "execution_count": 15,
   "id": "ec556dfd",
   "metadata": {},
   "outputs": [
    {
     "name": "stdout",
     "output_type": "stream",
     "text": [
      "(10, [10, 20, 10, 10], (20, 30, 30, 20), 20)\n",
      "\n",
      "2\n"
     ]
    }
   ],
   "source": [
    "c_tu_n=(10,[10,20,10,10],(20,30,30,20),20)\n",
    "print(c_tu_n)\n",
    "print()\n",
    "print(c_tu_n[2].count(20))"
   ]
  },
  {
   "cell_type": "markdown",
   "id": "9f6f3d40",
   "metadata": {},
   "source": [
    "### Length"
   ]
  },
  {
   "cell_type": "code",
   "execution_count": 16,
   "id": "50660ff2",
   "metadata": {},
   "outputs": [
    {
     "name": "stdout",
     "output_type": "stream",
     "text": [
      "4\n"
     ]
    }
   ],
   "source": [
    "c_tu_n=(10,[10,20,10,10],(20,30,30,20),20)\n",
    "print(len(c_tu_n))"
   ]
  },
  {
   "cell_type": "markdown",
   "id": "fc24afea",
   "metadata": {},
   "source": [
    "### Index"
   ]
  },
  {
   "cell_type": "code",
   "execution_count": 17,
   "id": "c7fdc02e",
   "metadata": {},
   "outputs": [
    {
     "name": "stdout",
     "output_type": "stream",
     "text": [
      "0\n"
     ]
    }
   ],
   "source": [
    "c_tu_n=(10,[10,20,10,10],(20,30,30,20),20)\n",
    "print(c_tu_n.index(10))"
   ]
  },
  {
   "cell_type": "code",
   "execution_count": 18,
   "id": "50b11421",
   "metadata": {},
   "outputs": [
    {
     "name": "stdout",
     "output_type": "stream",
     "text": [
      "0\n"
     ]
    }
   ],
   "source": [
    "c_tu_n=(10,[10,20,10,10],(20,30,30,20),20)\n",
    "print(c_tu_n[1].index(10))"
   ]
  },
  {
   "cell_type": "code",
   "execution_count": 19,
   "id": "1c315b9f",
   "metadata": {},
   "outputs": [
    {
     "name": "stdout",
     "output_type": "stream",
     "text": [
      "1\n"
     ]
    }
   ],
   "source": [
    "c_tu_n=(10,[10,20,10,10],(20,30,30,20),20)\n",
    "print(c_tu_n[1].index(20))"
   ]
  },
  {
   "cell_type": "code",
   "execution_count": 20,
   "id": "ed79f65d",
   "metadata": {},
   "outputs": [
    {
     "name": "stdout",
     "output_type": "stream",
     "text": [
      "3\n"
     ]
    }
   ],
   "source": [
    "c_tu_n=(10,[10,20,10,10],(20,30,30,20),20)\n",
    "print(c_tu_n.index(20))"
   ]
  },
  {
   "cell_type": "code",
   "execution_count": 21,
   "id": "46faa484",
   "metadata": {},
   "outputs": [
    {
     "name": "stdout",
     "output_type": "stream",
     "text": [
      "0\n"
     ]
    }
   ],
   "source": [
    "c_tu_n=(10,[10,20,10,10],(20,30,30,20),20)\n",
    "print(c_tu_n[2].index(20))"
   ]
  },
  {
   "cell_type": "code",
   "execution_count": 22,
   "id": "ce7abf99",
   "metadata": {},
   "outputs": [
    {
     "name": "stdout",
     "output_type": "stream",
     "text": [
      "1\n"
     ]
    }
   ],
   "source": [
    "c_tu_n=(10,[10,20,10,10],(20,30,30,20),20)\n",
    "print(c_tu_n[2].index(30))"
   ]
  },
  {
   "cell_type": "code",
   "execution_count": null,
   "id": "abbe17e9",
   "metadata": {},
   "outputs": [],
   "source": []
  }
 ],
 "metadata": {
  "kernelspec": {
   "display_name": "Python 3 (ipykernel)",
   "language": "python",
   "name": "python3"
  },
  "language_info": {
   "codemirror_mode": {
    "name": "ipython",
    "version": 3
   },
   "file_extension": ".py",
   "mimetype": "text/x-python",
   "name": "python",
   "nbconvert_exporter": "python",
   "pygments_lexer": "ipython3",
   "version": "3.9.7"
  }
 },
 "nbformat": 4,
 "nbformat_minor": 5
}
