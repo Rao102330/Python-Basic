{
 "cells": [
  {
   "cell_type": "markdown",
   "id": "fb1afdc4",
   "metadata": {},
   "source": [
    "## Creating a def function "
   ]
  },
  {
   "cell_type": "code",
   "execution_count": 1,
   "id": "63d9a0c0",
   "metadata": {},
   "outputs": [
    {
     "data": {
      "text/plain": [
       "'hi'"
      ]
     },
     "execution_count": 1,
     "metadata": {},
     "output_type": "execute_result"
    }
   ],
   "source": [
    "def fun():\n",
    "    return \"hi\"\n",
    "fun()"
   ]
  },
  {
   "cell_type": "markdown",
   "id": "78b04a7a",
   "metadata": {},
   "source": [
    "#### Same above function using print() in the place of return"
   ]
  },
  {
   "cell_type": "code",
   "execution_count": 2,
   "id": "8c9a3142",
   "metadata": {},
   "outputs": [
    {
     "name": "stdout",
     "output_type": "stream",
     "text": [
      "hit\n"
     ]
    }
   ],
   "source": [
    "def fun():\n",
    "    print(\"hit\")\n",
    "fun()    "
   ]
  },
  {
   "cell_type": "markdown",
   "id": "d109f18d",
   "metadata": {},
   "source": [
    "#### Also function is calling with a new variable "
   ]
  },
  {
   "cell_type": "code",
   "execution_count": 4,
   "id": "5b77a359",
   "metadata": {},
   "outputs": [
    {
     "name": "stdout",
     "output_type": "stream",
     "text": [
      "hit\n",
      "None\n"
     ]
    }
   ],
   "source": [
    "def fun():\n",
    "    print(\"hit\")\n",
    "a=fun()\n",
    "print(a)"
   ]
  },
  {
   "cell_type": "markdown",
   "id": "f6509836",
   "metadata": {},
   "source": [
    "### FINDING THE TWICE OF A GIVEN USER NUMBER USING DEF FUNCTION "
   ]
  },
  {
   "cell_type": "code",
   "execution_count": 5,
   "id": "b3c047be",
   "metadata": {},
   "outputs": [
    {
     "ename": "TypeError",
     "evalue": "'a' is an invalid keyword argument for print()",
     "output_type": "error",
     "traceback": [
      "\u001b[1;31m---------------------------------------------------------------------------\u001b[0m",
      "\u001b[1;31mTypeError\u001b[0m                                 Traceback (most recent call last)",
      "\u001b[1;32m~\\AppData\\Local\\Temp/ipykernel_12988/644131845.py\u001b[0m in \u001b[0;36m<module>\u001b[1;34m\u001b[0m\n\u001b[0;32m      2\u001b[0m     \u001b[0mprint\u001b[0m\u001b[1;33m(\u001b[0m\u001b[0ma\u001b[0m\u001b[1;33m=\u001b[0m\u001b[1;36m10\u001b[0m\u001b[1;33m)\u001b[0m\u001b[1;33m\u001b[0m\u001b[1;33m\u001b[0m\u001b[0m\n\u001b[0;32m      3\u001b[0m     \u001b[1;32mreturn\u001b[0m \u001b[0ma\u001b[0m\u001b[1;33m*\u001b[0m\u001b[1;36m2\u001b[0m\u001b[1;33m\u001b[0m\u001b[1;33m\u001b[0m\u001b[0m\n\u001b[1;32m----> 4\u001b[1;33m \u001b[0mtwice\u001b[0m\u001b[1;33m(\u001b[0m\u001b[1;33m)\u001b[0m\u001b[1;33m\u001b[0m\u001b[1;33m\u001b[0m\u001b[0m\n\u001b[0m",
      "\u001b[1;32m~\\AppData\\Local\\Temp/ipykernel_12988/644131845.py\u001b[0m in \u001b[0;36mtwice\u001b[1;34m()\u001b[0m\n\u001b[0;32m      1\u001b[0m \u001b[1;32mdef\u001b[0m \u001b[0mtwice\u001b[0m\u001b[1;33m(\u001b[0m\u001b[1;33m)\u001b[0m\u001b[1;33m:\u001b[0m\u001b[1;33m\u001b[0m\u001b[1;33m\u001b[0m\u001b[0m\n\u001b[1;32m----> 2\u001b[1;33m     \u001b[0mprint\u001b[0m\u001b[1;33m(\u001b[0m\u001b[0ma\u001b[0m\u001b[1;33m=\u001b[0m\u001b[1;36m10\u001b[0m\u001b[1;33m)\u001b[0m\u001b[1;33m\u001b[0m\u001b[1;33m\u001b[0m\u001b[0m\n\u001b[0m\u001b[0;32m      3\u001b[0m     \u001b[1;32mreturn\u001b[0m \u001b[0ma\u001b[0m\u001b[1;33m*\u001b[0m\u001b[1;36m2\u001b[0m\u001b[1;33m\u001b[0m\u001b[1;33m\u001b[0m\u001b[0m\n\u001b[0;32m      4\u001b[0m \u001b[0mtwice\u001b[0m\u001b[1;33m(\u001b[0m\u001b[1;33m)\u001b[0m\u001b[1;33m\u001b[0m\u001b[1;33m\u001b[0m\u001b[0m\n",
      "\u001b[1;31mTypeError\u001b[0m: 'a' is an invalid keyword argument for print()"
     ]
    }
   ],
   "source": [
    "def twice():\n",
    "    print(a=10)\n",
    "    return a*2\n",
    "twice()\n"
   ]
  },
  {
   "cell_type": "code",
   "execution_count": 6,
   "id": "0d64030d",
   "metadata": {},
   "outputs": [],
   "source": [
    "def twice():\n",
    "    print(a=10)\n",
    "    return a*2"
   ]
  },
  {
   "cell_type": "code",
   "execution_count": 9,
   "id": "9ae8a700",
   "metadata": {},
   "outputs": [],
   "source": [
    "def twice():\n",
    "    a = int(input('enter a number: '))\n",
    "    print(a*2)"
   ]
  },
  {
   "cell_type": "code",
   "execution_count": 10,
   "id": "dfb4b5aa",
   "metadata": {},
   "outputs": [
    {
     "name": "stdout",
     "output_type": "stream",
     "text": [
      "enter a number: 20\n",
      "40\n"
     ]
    }
   ],
   "source": [
    "twice()"
   ]
  },
  {
   "cell_type": "code",
   "execution_count": 11,
   "id": "981fde06",
   "metadata": {},
   "outputs": [
    {
     "name": "stdout",
     "output_type": "stream",
     "text": [
      "20\n"
     ]
    }
   ],
   "source": [
    "def twice():\n",
    "    a = 10\n",
    "    print(a*2)\n",
    "twice()    \n",
    "    "
   ]
  },
  {
   "cell_type": "markdown",
   "id": "2cbdc33c",
   "metadata": {},
   "source": [
    "##### 2. We shall write a user defined function hi() which takes a string input. The output will greet the user displaying his/her name on the screen."
   ]
  },
  {
   "cell_type": "code",
   "execution_count": 12,
   "id": "14e18459",
   "metadata": {},
   "outputs": [
    {
     "name": "stdout",
     "output_type": "stream",
     "text": [
      "hi my name is  Rahul\n"
     ]
    }
   ],
   "source": [
    "def hi():\n",
    "    name=\"Rahul\"\n",
    "    a=print(\"hi my name is \",name)\n",
    "    return a\n",
    "hi()"
   ]
  },
  {
   "cell_type": "markdown",
   "id": "59c6fa06",
   "metadata": {},
   "source": [
    "#### Finding a number even or odd using normal method"
   ]
  },
  {
   "cell_type": "code",
   "execution_count": 31,
   "id": "ef7cfa26",
   "metadata": {},
   "outputs": [
    {
     "name": "stdout",
     "output_type": "stream",
     "text": [
      "even\n"
     ]
    }
   ],
   "source": [
    "a=2\n",
    "if a%2==0:\n",
    "    print(\"even\")\n",
    "else:\n",
    "    print(\"odd\")"
   ]
  },
  {
   "cell_type": "markdown",
   "id": "aa9f8a0a",
   "metadata": {},
   "source": [
    "#### Finding a number even or odd using def function"
   ]
  },
  {
   "cell_type": "code",
   "execution_count": 15,
   "id": "ffdccd1c",
   "metadata": {},
   "outputs": [
    {
     "name": "stdout",
     "output_type": "stream",
     "text": [
      "even\n"
     ]
    }
   ],
   "source": [
    "def e_o(a):\n",
    "    if a%2==0:\n",
    "        print(\"even\")\n",
    "    else:\n",
    "        print(\"odd\")\n",
    "e_o(10)        "
   ]
  },
  {
   "cell_type": "markdown",
   "id": "c190390b",
   "metadata": {},
   "source": [
    "#### finding a prime number"
   ]
  },
  {
   "cell_type": "code",
   "execution_count": null,
   "id": "82208b1d",
   "metadata": {},
   "outputs": [],
   "source": []
  },
  {
   "cell_type": "code",
   "execution_count": 35,
   "id": "bfd92c9f",
   "metadata": {},
   "outputs": [
    {
     "name": "stdout",
     "output_type": "stream",
     "text": [
      "not prime\n"
     ]
    }
   ],
   "source": [
    "a=9\n",
    "count=0\n",
    "for i in range(1,a+1):   ## 1 23456789\n",
    "    if a%i==0:\n",
    "        count=count+1                        \n",
    "if count==2:\n",
    "    print(\"prime\")\n",
    "else:\n",
    "    print(\"not prime\")\n",
    "    "
   ]
  },
  {
   "cell_type": "markdown",
   "id": "75587382",
   "metadata": {},
   "source": [
    "#### Finding the given number prime or not using def function"
   ]
  },
  {
   "cell_type": "code",
   "execution_count": 25,
   "id": "e8e4a41e",
   "metadata": {},
   "outputs": [
    {
     "name": "stdout",
     "output_type": "stream",
     "text": [
      "no\n"
     ]
    }
   ],
   "source": [
    "def prime_number(a):\n",
    "    count=0\n",
    "    for i in range(1,a+1):\n",
    "        if a%i==0:\n",
    "            count=count+1\n",
    "    if count==2:\n",
    "        print(\"yes\")\n",
    "    else:\n",
    "        print(\"no\")\n",
    "\n",
    "prime_number(10)"
   ]
  },
  {
   "cell_type": "code",
   "execution_count": 37,
   "id": "872b3298",
   "metadata": {},
   "outputs": [
    {
     "name": "stdout",
     "output_type": "stream",
     "text": [
      "no\n"
     ]
    }
   ],
   "source": [
    "def prime_number(a):\n",
    "    count=0\n",
    "    for i in range(1,a+1):\n",
    "        if a%i==0:\n",
    "            count=count+1\n",
    "    if count==2:\n",
    "        print(\"yes\")\n",
    "    else:\n",
    "        print(\"no\")\n",
    "\n",
    "prime_number(10)"
   ]
  },
  {
   "cell_type": "code",
   "execution_count": 42,
   "id": "3fd40290",
   "metadata": {},
   "outputs": [
    {
     "name": "stdout",
     "output_type": "stream",
     "text": [
      "Enter the number: 9\n",
      "9\n",
      "18\n",
      "27\n",
      "36\n",
      "45\n",
      "54\n",
      "63\n",
      "72\n",
      "81\n",
      "90\n"
     ]
    }
   ],
   "source": [
    "a=int(input(\"Enter the number: \"))\n",
    "for i in range(1,11):\n",
    "    print(a*i)"
   ]
  },
  {
   "cell_type": "code",
   "execution_count": 38,
   "id": "553a1344",
   "metadata": {},
   "outputs": [
    {
     "name": "stdout",
     "output_type": "stream",
     "text": [
      "yes\n"
     ]
    }
   ],
   "source": [
    "prime_number(5)"
   ]
  },
  {
   "cell_type": "code",
   "execution_count": 26,
   "id": "521e5ebe",
   "metadata": {},
   "outputs": [
    {
     "name": "stdout",
     "output_type": "stream",
     "text": [
      "no\n",
      "yes\n",
      "yes\n",
      "yes\n",
      "no\n",
      "no\n",
      "no\n",
      "no\n",
      "no\n",
      "no\n"
     ]
    }
   ],
   "source": [
    "def prime_number(a):\n",
    "    count=0\n",
    "    for i in range(1,a+1):\n",
    "        if a%i==0:\n",
    "            count=count+1\n",
    "        if count==2:\n",
    "            print(\"yes\")\n",
    "        else:\n",
    "            print(\"no\")\n",
    "\n",
    "prime_number(10)"
   ]
  },
  {
   "cell_type": "code",
   "execution_count": 19,
   "id": "5e2d3c23",
   "metadata": {},
   "outputs": [
    {
     "name": "stdout",
     "output_type": "stream",
     "text": [
      "no\n"
     ]
    }
   ],
   "source": [
    "def prime_number(a):\n",
    "    count=0\n",
    "    for i in range(1,a+1):\n",
    "        if a%i==0:\n",
    "            count=count+1\n",
    "if count==2:\n",
    "    print(\"y\")\n",
    "else:\n",
    "    print(\"no\")\n",
    "       \n",
    "\n",
    "    "
   ]
  },
  {
   "cell_type": "markdown",
   "id": "2175d69a",
   "metadata": {},
   "source": [
    "### Adding two numbers using def function "
   ]
  },
  {
   "cell_type": "code",
   "execution_count": 27,
   "id": "9c343daf",
   "metadata": {},
   "outputs": [
    {
     "name": "stdout",
     "output_type": "stream",
     "text": [
      "30\n"
     ]
    }
   ],
   "source": [
    "## 1 st method \n",
    "def add():\n",
    "    a=10\n",
    "    b=20\n",
    "    print(a+b)\n",
    "add()"
   ]
  },
  {
   "cell_type": "code",
   "execution_count": 28,
   "id": "97b1c2b5",
   "metadata": {},
   "outputs": [
    {
     "name": "stdout",
     "output_type": "stream",
     "text": [
      "30\n"
     ]
    }
   ],
   "source": [
    "## 2nd methon \n",
    "def add(a,b):\n",
    "    print(a+b)\n",
    "add(10,20)    "
   ]
  },
  {
   "cell_type": "code",
   "execution_count": 29,
   "id": "d26adc5a",
   "metadata": {},
   "outputs": [
    {
     "name": "stdout",
     "output_type": "stream",
     "text": [
      "enter10\n",
      "enter20\n"
     ]
    },
    {
     "data": {
      "text/plain": [
       "30"
      ]
     },
     "execution_count": 29,
     "metadata": {},
     "output_type": "execute_result"
    }
   ],
   "source": [
    "# 3rd method\n",
    "def add():\n",
    "    a=int(input(\"enter\"))\n",
    "    b=int(input(\"enter\"))\n",
    "    c=a+b\n",
    "    return c\n",
    "add()"
   ]
  },
  {
   "cell_type": "markdown",
   "id": "a90e7318",
   "metadata": {},
   "source": [
    "### Finding a area of circle "
   ]
  },
  {
   "cell_type": "markdown",
   "id": "35d5ea4a",
   "metadata": {},
   "source": [
    "area of circle formula is (A = π r²), r is denoted has radious of a circle and π value is 3.141,from this information we can find area of a circle using python code "
   ]
  },
  {
   "cell_type": "markdown",
   "id": "3c856251",
   "metadata": {},
   "source": [
    "### using normal method"
   ]
  },
  {
   "cell_type": "code",
   "execution_count": 44,
   "id": "c109c4aa",
   "metadata": {},
   "outputs": [
    {
     "name": "stdout",
     "output_type": "stream",
     "text": [
      "Enter the number 2\n",
      "12.564\n"
     ]
    }
   ],
   "source": [
    "r=int(input(\"Enter the number \"))\n",
    "A=3.141*r**2\n",
    "print(A)"
   ]
  },
  {
   "cell_type": "markdown",
   "id": "bfcc6227",
   "metadata": {},
   "source": [
    "### Using def function"
   ]
  },
  {
   "cell_type": "code",
   "execution_count": 45,
   "id": "86f3a759",
   "metadata": {},
   "outputs": [
    {
     "data": {
      "text/plain": [
       "12.564"
      ]
     },
     "execution_count": 45,
     "metadata": {},
     "output_type": "execute_result"
    }
   ],
   "source": [
    "def area_of_circle(r):\n",
    "    A=3.141*r**2\n",
    "    return A\n",
    "area_of_circle(2)\n"
   ]
  },
  {
   "cell_type": "code",
   "execution_count": 48,
   "id": "a72a1b3b",
   "metadata": {},
   "outputs": [
    {
     "name": "stdout",
     "output_type": "stream",
     "text": [
      "-2\n",
      "7\n",
      "[-2, 0, 1, 4, 5, 7]\n",
      "[4, 5, 7, -2, 0, 1]\n",
      "[4, 7, -2, 0, 1]\n"
     ]
    }
   ],
   "source": [
    "num_list=[4,5,7,-2,0,1]\n",
    "#a\n",
    "print(min(num_list))\n",
    "#b\n",
    "print(max(num_list))\n",
    "#c\n",
    "a=sorted(num_list)\n",
    "print(a)\n",
    "#d\n",
    "c=num_list.copy()\n",
    "print(c)\n",
    "#e\n",
    "num_list.remove(5)\n",
    "print(num_list)"
   ]
  },
  {
   "cell_type": "code",
   "execution_count": 54,
   "id": "9fa6a0cf",
   "metadata": {},
   "outputs": [
    {
     "name": "stdout",
     "output_type": "stream",
     "text": [
      "<class 'list'>\n",
      "[['a', 1, True], 3, 'science', -5]\n",
      "(['a', 1, True], 3, 'science', -5)\n"
     ]
    }
   ],
   "source": [
    "mix=(['a',1,True],2,'science',-5)\n",
    "a=list(mix)\n",
    "print(type(a))\n",
    "a[1]=3\n",
    "print(a)\n",
    "mix=tuple(a)\n",
    "print(mix)"
   ]
  },
  {
   "cell_type": "code",
   "execution_count": null,
   "id": "e5d70320",
   "metadata": {},
   "outputs": [],
   "source": [
    "print()"
   ]
  },
  {
   "cell_type": "code",
   "execution_count": 56,
   "id": "96ae7cf7",
   "metadata": {},
   "outputs": [
    {
     "name": "stdout",
     "output_type": "stream",
     "text": [
      "<class 'list'>\n",
      "[['a', 1, True], False, 'science', -5]\n",
      "(['a', 1, True], False, 'science', -5)\n"
     ]
    }
   ],
   "source": [
    "mix=(['a',1,True],2,'science',-5)\n",
    "a=list(mix)\n",
    "print(type(a))\n",
    "a[True]=False\n",
    "print(a)\n",
    "mix=tuple(a)\n",
    "print(mix)"
   ]
  },
  {
   "cell_type": "code",
   "execution_count": null,
   "id": "455fdee0",
   "metadata": {},
   "outputs": [],
   "source": [
    "mix=(['a',1,True],2,'science',-5)\n"
   ]
  },
  {
   "cell_type": "code",
   "execution_count": null,
   "id": "447f978a",
   "metadata": {},
   "outputs": [],
   "source": []
  },
  {
   "cell_type": "markdown",
   "id": "4c26158b",
   "metadata": {},
   "source": [
    "## Finding a number average of a number"
   ]
  },
  {
   "cell_type": "code",
   "execution_count": 58,
   "id": "3799bbad",
   "metadata": {},
   "outputs": [
    {
     "name": "stdout",
     "output_type": "stream",
     "text": [
      "Enter the number 22\n"
     ]
    },
    {
     "data": {
      "text/plain": [
       "('2', '2')"
      ]
     },
     "execution_count": 58,
     "metadata": {},
     "output_type": "execute_result"
    }
   ],
   "source": [
    "x=tuple(input(\"Enter the number \"))\n",
    "x"
   ]
  },
  {
   "cell_type": "code",
   "execution_count": 62,
   "id": "3f44d02e",
   "metadata": {},
   "outputs": [
    {
     "name": "stdout",
     "output_type": "stream",
     "text": [
      "386\n",
      "12\n"
     ]
    }
   ],
   "source": [
    "a=(44, 45, -56, 44, 32,-54, 44, 56, 44, 87, 44, 56)\n",
    "su=sum(a)\n",
    "print(su)\n",
    "b=len(a)\n",
    "print(b)"
   ]
  },
  {
   "cell_type": "code",
   "execution_count": 63,
   "id": "d9d64c51",
   "metadata": {},
   "outputs": [
    {
     "name": "stdout",
     "output_type": "stream",
     "text": [
      "32.166666666666664\n"
     ]
    }
   ],
   "source": [
    "avg=su/b\n",
    "print(avg)"
   ]
  },
  {
   "cell_type": "markdown",
   "id": "cc7a6b3c",
   "metadata": {},
   "source": [
    "### Using def function "
   ]
  },
  {
   "cell_type": "code",
   "execution_count": 64,
   "id": "df7d2fa4",
   "metadata": {},
   "outputs": [
    {
     "ename": "TypeError",
     "evalue": "avg() takes 1 positional argument but 12 were given",
     "output_type": "error",
     "traceback": [
      "\u001b[1;31m---------------------------------------------------------------------------\u001b[0m",
      "\u001b[1;31mTypeError\u001b[0m                                 Traceback (most recent call last)",
      "\u001b[1;32m~\\AppData\\Local\\Temp/ipykernel_12988/590134215.py\u001b[0m in \u001b[0;36m<module>\u001b[1;34m\u001b[0m\n\u001b[0;32m      3\u001b[0m     \u001b[0mtotal\u001b[0m\u001b[1;33m=\u001b[0m\u001b[0mprint\u001b[0m\u001b[1;33m(\u001b[0m\u001b[0msum\u001b[0m\u001b[1;33m(\u001b[0m\u001b[0mx\u001b[0m\u001b[1;33m)\u001b[0m\u001b[1;33m)\u001b[0m\u001b[1;33m\u001b[0m\u001b[1;33m\u001b[0m\u001b[0m\n\u001b[0;32m      4\u001b[0m     \u001b[1;32mreturn\u001b[0m \u001b[0mtotal\u001b[0m\u001b[1;33m/\u001b[0m\u001b[0mcount\u001b[0m\u001b[1;33m\u001b[0m\u001b[1;33m\u001b[0m\u001b[0m\n\u001b[1;32m----> 5\u001b[1;33m \u001b[0mavg\u001b[0m\u001b[1;33m(\u001b[0m\u001b[1;36m44\u001b[0m\u001b[1;33m,\u001b[0m \u001b[1;36m45\u001b[0m\u001b[1;33m,\u001b[0m \u001b[1;33m-\u001b[0m\u001b[1;36m56\u001b[0m\u001b[1;33m,\u001b[0m \u001b[1;36m44\u001b[0m\u001b[1;33m,\u001b[0m \u001b[1;36m32\u001b[0m\u001b[1;33m,\u001b[0m\u001b[1;33m-\u001b[0m\u001b[1;36m54\u001b[0m\u001b[1;33m,\u001b[0m \u001b[1;36m44\u001b[0m\u001b[1;33m,\u001b[0m \u001b[1;36m56\u001b[0m\u001b[1;33m,\u001b[0m \u001b[1;36m44\u001b[0m\u001b[1;33m,\u001b[0m \u001b[1;36m87\u001b[0m\u001b[1;33m,\u001b[0m \u001b[1;36m44\u001b[0m\u001b[1;33m,\u001b[0m \u001b[1;36m56\u001b[0m\u001b[1;33m)\u001b[0m\u001b[1;33m\u001b[0m\u001b[1;33m\u001b[0m\u001b[0m\n\u001b[0m",
      "\u001b[1;31mTypeError\u001b[0m: avg() takes 1 positional argument but 12 were given"
     ]
    }
   ],
   "source": [
    "def avg(x):\n",
    "    count=print(len(x))\n",
    "    total=print(sum(x))\n",
    "    return total/count\n",
    "avg(44, 45, -56, 44, 32,-54, 44, 56, 44, 87, 44, 56)"
   ]
  },
  {
   "cell_type": "code",
   "execution_count": 69,
   "id": "5c2ed225",
   "metadata": {},
   "outputs": [],
   "source": [
    "def av_g():\n",
    "    a=(44, 45, -56, 44, 32,-54, 44, 56, 44, 87, 44, 56)\n",
    "    su=sum(a)\n",
    "    print(\"Total is \",su)\n",
    "    b=len(a)\n",
    "    print(\"Count\",b)\n",
    "    avg=su/b\n",
    "    print(avg)\n",
    "    \n",
    "\n",
    "\n",
    "    "
   ]
  },
  {
   "cell_type": "code",
   "execution_count": 70,
   "id": "ff3e55b9",
   "metadata": {},
   "outputs": [
    {
     "name": "stdout",
     "output_type": "stream",
     "text": [
      "Total is  386\n",
      "Count 12\n",
      "32.166666666666664\n"
     ]
    }
   ],
   "source": [
    "av_g()"
   ]
  },
  {
   "cell_type": "code",
   "execution_count": 71,
   "id": "a24be53b",
   "metadata": {},
   "outputs": [],
   "source": [
    "def average(x):\n",
    "    count = 0\n",
    "    total = 0\n",
    "    for i in x:\n",
    "        count += 1\n",
    "        total += i\n",
    "    avg = total/count\n",
    "    return avg"
   ]
  },
  {
   "cell_type": "code",
   "execution_count": 73,
   "id": "58df7df4",
   "metadata": {},
   "outputs": [],
   "source": [
    "x=(44, 45, -56, 44, 32,-54, 44, 56, 44, 87, 44, 56)"
   ]
  },
  {
   "cell_type": "code",
   "execution_count": 75,
   "id": "911d248a",
   "metadata": {},
   "outputs": [
    {
     "data": {
      "text/plain": [
       "32.166666666666664"
      ]
     },
     "execution_count": 75,
     "metadata": {},
     "output_type": "execute_result"
    }
   ],
   "source": [
    "average(x)"
   ]
  },
  {
   "cell_type": "markdown",
   "id": "409fd37f",
   "metadata": {},
   "source": [
    "### Python parameter and argument"
   ]
  },
  {
   "cell_type": "code",
   "execution_count": 76,
   "id": "273b110a",
   "metadata": {},
   "outputs": [
    {
     "name": "stdout",
     "output_type": "stream",
     "text": [
      "4 is divisible by 2\n"
     ]
    }
   ],
   "source": [
    "#Python Parameters and Arguments\n",
    "def checkdiv(x,y):\n",
    "    if x>=y:\n",
    "        if x%y == 0:\n",
    "            print(x,\"is divisible by\",y)\n",
    "        else:\n",
    "            print(x,\"is not divisible by\",y)\n",
    "    else:\n",
    "        print(\"Enter first number greater than or equal to second number\")\n",
    "\n",
    "#checkdiv(4,2)\n",
    "#checkdiv(4,3)\n",
    "checkdiv(4,2)"
   ]
  },
  {
   "cell_type": "code",
   "execution_count": 77,
   "id": "521fb6e7",
   "metadata": {},
   "outputs": [
    {
     "name": "stdout",
     "output_type": "stream",
     "text": [
      "4 is not divisible by 3\n"
     ]
    }
   ],
   "source": [
    "checkdiv(4,3)"
   ]
  },
  {
   "cell_type": "code",
   "execution_count": 78,
   "id": "9f119cd5",
   "metadata": {},
   "outputs": [
    {
     "name": "stdout",
     "output_type": "stream",
     "text": [
      "4 is divisible by 2\n"
     ]
    }
   ],
   "source": [
    "checkdiv(4,2)"
   ]
  },
  {
   "cell_type": "code",
   "execution_count": 79,
   "id": "6f4601cc",
   "metadata": {},
   "outputs": [
    {
     "name": "stdout",
     "output_type": "stream",
     "text": [
      "Enter first number greater than or equal to second number\n"
     ]
    }
   ],
   "source": [
    "checkdiv(2,4)"
   ]
  },
  {
   "cell_type": "markdown",
   "id": "f4f1afcb",
   "metadata": {},
   "source": [
    "### DEF function"
   ]
  },
  {
   "cell_type": "code",
   "execution_count": 80,
   "id": "c3ae9f0b",
   "metadata": {},
   "outputs": [
    {
     "name": "stdout",
     "output_type": "stream",
     "text": [
      "Hi there\n",
      "welcome aboard\n"
     ]
    }
   ],
   "source": [
    "def greet():\n",
    "    print(\"Hi there\")\n",
    "    print(\"welcome aboard\")\n",
    "\n",
    "greet()    "
   ]
  },
  {
   "cell_type": "markdown",
   "id": "10f68802",
   "metadata": {},
   "source": [
    "## Argumnets"
   ]
  },
  {
   "cell_type": "code",
   "execution_count": 81,
   "id": "9a3af499",
   "metadata": {},
   "outputs": [
    {
     "name": "stdout",
     "output_type": "stream",
     "text": [
      "Hi rahul raj\n",
      "welcome aboard\n"
     ]
    }
   ],
   "source": [
    "def greet(first_name,last_name):\n",
    "    print(\"Hi\",first_name,last_name)\n",
    "    print(\"welcome aboard\")\n",
    "\n",
    "greet(\"rahul\",\"raj\")  "
   ]
  },
  {
   "cell_type": "code",
   "execution_count": 82,
   "id": "6407ad2e",
   "metadata": {},
   "outputs": [],
   "source": [
    "def do_noting():\n",
    "    pass"
   ]
  },
  {
   "cell_type": "code",
   "execution_count": 83,
   "id": "4c72e6bf",
   "metadata": {},
   "outputs": [
    {
     "data": {
      "text/plain": [
       "function"
      ]
     },
     "execution_count": 83,
     "metadata": {},
     "output_type": "execute_result"
    }
   ],
   "source": [
    "type(do_noting)"
   ]
  },
  {
   "cell_type": "code",
   "execution_count": 84,
   "id": "70e34fa8",
   "metadata": {},
   "outputs": [
    {
     "data": {
      "text/plain": [
       "NoneType"
      ]
     },
     "execution_count": 84,
     "metadata": {},
     "output_type": "execute_result"
    }
   ],
   "source": [
    "type(do_noting())"
   ]
  },
  {
   "cell_type": "code",
   "execution_count": 85,
   "id": "79cfedba",
   "metadata": {},
   "outputs": [],
   "source": [
    "def squarefoo(foo):\n",
    "    bar =2                      ## in this code we are finding a square for the given argument 'foo'\n",
    "    value=foo**bar\n",
    "    return value\n"
   ]
  },
  {
   "cell_type": "code",
   "execution_count": 86,
   "id": "660e2281",
   "metadata": {},
   "outputs": [
    {
     "data": {
      "text/plain": [
       "function"
      ]
     },
     "execution_count": 86,
     "metadata": {},
     "output_type": "execute_result"
    }
   ],
   "source": [
    "type(squarefoo)"
   ]
  },
  {
   "cell_type": "code",
   "execution_count": 87,
   "id": "aed1a335",
   "metadata": {},
   "outputs": [
    {
     "data": {
      "text/plain": [
       "int"
      ]
     },
     "execution_count": 87,
     "metadata": {},
     "output_type": "execute_result"
    }
   ],
   "source": [
    "type(squarefoo(5))"
   ]
  },
  {
   "cell_type": "code",
   "execution_count": 88,
   "id": "a4c41351",
   "metadata": {},
   "outputs": [
    {
     "data": {
      "text/plain": [
       "25"
      ]
     },
     "execution_count": 88,
     "metadata": {},
     "output_type": "execute_result"
    }
   ],
   "source": [
    "squarefoo(5)"
   ]
  },
  {
   "cell_type": "code",
   "execution_count": 89,
   "id": "b327509a",
   "metadata": {},
   "outputs": [
    {
     "ename": "NameError",
     "evalue": "name 'bar' is not defined",
     "output_type": "error",
     "traceback": [
      "\u001b[1;31m---------------------------------------------------------------------------\u001b[0m",
      "\u001b[1;31mNameError\u001b[0m                                 Traceback (most recent call last)",
      "\u001b[1;32m~\\AppData\\Local\\Temp/ipykernel_12988/1728854126.py\u001b[0m in \u001b[0;36m<module>\u001b[1;34m\u001b[0m\n\u001b[1;32m----> 1\u001b[1;33m \u001b[0mbar\u001b[0m\u001b[1;33m\u001b[0m\u001b[1;33m\u001b[0m\u001b[0m\n\u001b[0m",
      "\u001b[1;31mNameError\u001b[0m: name 'bar' is not defined"
     ]
    }
   ],
   "source": [
    "bar # it is internal inside the def function \n"
   ]
  },
  {
   "cell_type": "code",
   "execution_count": 90,
   "id": "07e36c71",
   "metadata": {},
   "outputs": [],
   "source": [
    "bar=2\n",
    "def bar_power(foo):\n",
    "    result=foo**bar\n",
    "    return result"
   ]
  },
  {
   "cell_type": "code",
   "execution_count": 91,
   "id": "8a693bfc",
   "metadata": {},
   "outputs": [
    {
     "data": {
      "text/plain": [
       "2"
      ]
     },
     "execution_count": 91,
     "metadata": {},
     "output_type": "execute_result"
    }
   ],
   "source": [
    "bar"
   ]
  },
  {
   "cell_type": "code",
   "execution_count": 92,
   "id": "aa0b6100",
   "metadata": {},
   "outputs": [
    {
     "ename": "NameError",
     "evalue": "name 'result' is not defined",
     "output_type": "error",
     "traceback": [
      "\u001b[1;31m---------------------------------------------------------------------------\u001b[0m",
      "\u001b[1;31mNameError\u001b[0m                                 Traceback (most recent call last)",
      "\u001b[1;32m~\\AppData\\Local\\Temp/ipykernel_12988/1049141082.py\u001b[0m in \u001b[0;36m<module>\u001b[1;34m\u001b[0m\n\u001b[1;32m----> 1\u001b[1;33m \u001b[0mresult\u001b[0m\u001b[1;33m\u001b[0m\u001b[1;33m\u001b[0m\u001b[0m\n\u001b[0m",
      "\u001b[1;31mNameError\u001b[0m: name 'result' is not defined"
     ]
    }
   ],
   "source": [
    "result"
   ]
  },
  {
   "cell_type": "code",
   "execution_count": 93,
   "id": "2476c22e",
   "metadata": {},
   "outputs": [],
   "source": [
    "def oof_power(foo):\n",
    "    value = foo**oof\n",
    "    return value"
   ]
  },
  {
   "cell_type": "code",
   "execution_count": 94,
   "id": "2361ccee",
   "metadata": {},
   "outputs": [
    {
     "data": {
      "text/plain": [
       "function"
      ]
     },
     "execution_count": 94,
     "metadata": {},
     "output_type": "execute_result"
    }
   ],
   "source": [
    "type(oof_power)"
   ]
  },
  {
   "cell_type": "code",
   "execution_count": 95,
   "id": "ed7b019e",
   "metadata": {},
   "outputs": [
    {
     "ename": "NameError",
     "evalue": "name 'oof' is not defined",
     "output_type": "error",
     "traceback": [
      "\u001b[1;31m---------------------------------------------------------------------------\u001b[0m",
      "\u001b[1;31mNameError\u001b[0m                                 Traceback (most recent call last)",
      "\u001b[1;32m~\\AppData\\Local\\Temp/ipykernel_12988/3024648567.py\u001b[0m in \u001b[0;36m<module>\u001b[1;34m\u001b[0m\n\u001b[1;32m----> 1\u001b[1;33m \u001b[0moof_power\u001b[0m\u001b[1;33m(\u001b[0m\u001b[1;36m5\u001b[0m\u001b[1;33m)\u001b[0m\u001b[1;33m\u001b[0m\u001b[1;33m\u001b[0m\u001b[0m\n\u001b[0m",
      "\u001b[1;32m~\\AppData\\Local\\Temp/ipykernel_12988/2529601967.py\u001b[0m in \u001b[0;36moof_power\u001b[1;34m(foo)\u001b[0m\n\u001b[0;32m      1\u001b[0m \u001b[1;32mdef\u001b[0m \u001b[0moof_power\u001b[0m\u001b[1;33m(\u001b[0m\u001b[0mfoo\u001b[0m\u001b[1;33m)\u001b[0m\u001b[1;33m:\u001b[0m\u001b[1;33m\u001b[0m\u001b[1;33m\u001b[0m\u001b[0m\n\u001b[1;32m----> 2\u001b[1;33m     \u001b[0mvalue\u001b[0m \u001b[1;33m=\u001b[0m \u001b[0mfoo\u001b[0m\u001b[1;33m**\u001b[0m\u001b[0moof\u001b[0m\u001b[1;33m\u001b[0m\u001b[1;33m\u001b[0m\u001b[0m\n\u001b[0m\u001b[0;32m      3\u001b[0m     \u001b[1;32mreturn\u001b[0m \u001b[0mvalue\u001b[0m\u001b[1;33m\u001b[0m\u001b[1;33m\u001b[0m\u001b[0m\n",
      "\u001b[1;31mNameError\u001b[0m: name 'oof' is not defined"
     ]
    }
   ],
   "source": [
    "oof_power(5)"
   ]
  },
  {
   "cell_type": "code",
   "execution_count": 96,
   "id": "2e8c3840",
   "metadata": {},
   "outputs": [],
   "source": [
    "oof=2\n"
   ]
  },
  {
   "cell_type": "code",
   "execution_count": 97,
   "id": "0bb60b6b",
   "metadata": {},
   "outputs": [
    {
     "data": {
      "text/plain": [
       "16"
      ]
     },
     "execution_count": 97,
     "metadata": {},
     "output_type": "execute_result"
    }
   ],
   "source": [
    "oof_power(4)"
   ]
  },
  {
   "cell_type": "markdown",
   "id": "27035d62",
   "metadata": {},
   "source": [
    "##### Add two numbers"
   ]
  },
  {
   "cell_type": "code",
   "execution_count": 98,
   "id": "a9319c57",
   "metadata": {},
   "outputs": [
    {
     "ename": "TypeError",
     "evalue": "add() takes 0 positional arguments but 2 were given",
     "output_type": "error",
     "traceback": [
      "\u001b[1;31m---------------------------------------------------------------------------\u001b[0m",
      "\u001b[1;31mTypeError\u001b[0m                                 Traceback (most recent call last)",
      "\u001b[1;32m~\\AppData\\Local\\Temp/ipykernel_12988/382367102.py\u001b[0m in \u001b[0;36m<module>\u001b[1;34m\u001b[0m\n\u001b[1;32m----> 1\u001b[1;33m \u001b[0madd\u001b[0m\u001b[1;33m(\u001b[0m\u001b[1;36m4\u001b[0m\u001b[1;33m,\u001b[0m\u001b[1;36m5\u001b[0m\u001b[1;33m)\u001b[0m\u001b[1;33m\u001b[0m\u001b[1;33m\u001b[0m\u001b[0m\n\u001b[0m",
      "\u001b[1;31mTypeError\u001b[0m: add() takes 0 positional arguments but 2 were given"
     ]
    }
   ],
   "source": [
    "add(4,5)"
   ]
  },
  {
   "cell_type": "code",
   "execution_count": 99,
   "id": "df00ca33",
   "metadata": {},
   "outputs": [
    {
     "data": {
      "text/plain": [
       "9"
      ]
     },
     "execution_count": 99,
     "metadata": {},
     "output_type": "execute_result"
    }
   ],
   "source": [
    "def add(x,y):\n",
    "    c=x+y\n",
    "    return c\n",
    "add(4,5)"
   ]
  },
  {
   "cell_type": "code",
   "execution_count": 103,
   "id": "5cddf709",
   "metadata": {},
   "outputs": [
    {
     "name": "stdout",
     "output_type": "stream",
     "text": [
      "8\n",
      "Hi rahul rao\n",
      "welcome aboard\n"
     ]
    }
   ],
   "source": [
    "print(add(4,4))\n",
    "greet(\"rahul\",\"rao\")"
   ]
  },
  {
   "cell_type": "code",
   "execution_count": 104,
   "id": "15d16182",
   "metadata": {},
   "outputs": [
    {
     "name": "stdout",
     "output_type": "stream",
     "text": [
      "7\n"
     ]
    }
   ],
   "source": [
    "result=add(4,3)\n",
    "print(result)"
   ]
  },
  {
   "cell_type": "code",
   "execution_count": 105,
   "id": "15533d0f",
   "metadata": {},
   "outputs": [
    {
     "data": {
      "text/plain": [
       "(10, 0)"
      ]
     },
     "execution_count": 105,
     "metadata": {},
     "output_type": "execute_result"
    }
   ],
   "source": [
    "def add_sub(x,y):\n",
    "    c=x+y\n",
    "    d=x-y\n",
    "    return c,d\n",
    "add_sub(5,5)"
   ]
  },
  {
   "cell_type": "code",
   "execution_count": 106,
   "id": "6d112806",
   "metadata": {},
   "outputs": [
    {
     "data": {
      "text/plain": [
       "10"
      ]
     },
     "execution_count": 106,
     "metadata": {},
     "output_type": "execute_result"
    }
   ],
   "source": [
    "def add_sub(x,y):\n",
    "    c=x+y\n",
    "    d=x-y\n",
    "    return c\n",
    "    return d\n",
    "add_sub(5,5)"
   ]
  },
  {
   "cell_type": "code",
   "execution_count": 107,
   "id": "d3d54150",
   "metadata": {},
   "outputs": [],
   "source": [
    "def add_sub(x,y):\n",
    "    c=x+y\n",
    "    d=x-y\n",
    "    return c,d"
   ]
  },
  {
   "cell_type": "code",
   "execution_count": 108,
   "id": "d47439d3",
   "metadata": {},
   "outputs": [
    {
     "name": "stdout",
     "output_type": "stream",
     "text": [
      "10 0\n"
     ]
    }
   ],
   "source": [
    "result1,result2=add_sub(5,5)\n",
    "print(result1,result2)"
   ]
  },
  {
   "cell_type": "code",
   "execution_count": null,
   "id": "df9b8c1d",
   "metadata": {},
   "outputs": [],
   "source": []
  }
 ],
 "metadata": {
  "kernelspec": {
   "display_name": "Python 3 (ipykernel)",
   "language": "python",
   "name": "python3"
  },
  "language_info": {
   "codemirror_mode": {
    "name": "ipython",
    "version": 3
   },
   "file_extension": ".py",
   "mimetype": "text/x-python",
   "name": "python",
   "nbconvert_exporter": "python",
   "pygments_lexer": "ipython3",
   "version": "3.9.7"
  }
 },
 "nbformat": 4,
 "nbformat_minor": 5
}
